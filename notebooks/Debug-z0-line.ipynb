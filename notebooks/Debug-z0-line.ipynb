{
 "cells": [
  {
   "cell_type": "code",
   "execution_count": null,
   "metadata": {},
   "outputs": [],
   "source": [
    "import os\n",
    "import itertools\n",
    "import pickle\n",
    "\n",
    "import astropy.coordinates as coord\n",
    "from astropy.convolution import convolve, Gaussian2DKernel\n",
    "from astropy.io import fits\n",
    "import astropy.table as at\n",
    "import astropy.units as u\n",
    "import matplotlib as mpl\n",
    "import matplotlib.pyplot as plt\n",
    "%matplotlib inline\n",
    "import numpy as np\n",
    "from scipy.stats import binned_statistic_2d\n",
    "import corner\n",
    "\n",
    "# gala\n",
    "import gala.coordinates as gc\n",
    "import gala.dynamics as gd\n",
    "import gala.integrate as gi\n",
    "import gala.potential as gp\n",
    "from gala.units import galactic\n",
    "\n",
    "from thriftshop.potentials import potentials\n",
    "from thriftshop.config import vcirc, rsun\n",
    "from thriftshop.actions import safe_get_actions, get_w0s_with_same_actions\n",
    "from thriftshop.abundances import get_elem_names, elem_to_label\n",
    "\n",
    "coord.galactocentric_frame_defaults.set('v4.0');"
   ]
  },
  {
   "cell_type": "code",
   "execution_count": null,
   "metadata": {},
   "outputs": [],
   "source": [
    "t = at.Table.read('../data/apogee-parent-sample.fits')\n",
    "t = t[(t['GAIA_PARALLAX'] > 0.4) & \n",
    "      ((t['GAIA_PARALLAX'] / t['GAIA_PARALLAX_ERROR']) > 5)]\n",
    "len(t)"
   ]
  },
  {
   "cell_type": "code",
   "execution_count": null,
   "metadata": {},
   "outputs": [],
   "source": [
    "c = coord.SkyCoord(ra=t['RA']*u.deg,\n",
    "                   dec=t['DEC']*u.deg,\n",
    "                   distance=1000 / t['GAIA_PARALLAX'] * u.pc,\n",
    "                   pm_ra_cosdec=t['GAIA_PMRA']*u.mas/u.yr,\n",
    "                   pm_dec=t['GAIA_PMDEC']*u.mas/u.yr,\n",
    "                   radial_velocity=t['VHELIO_AVG']*u.km/u.s)\n",
    "galcen = c.transform_to(coord.Galactocentric)"
   ]
  },
  {
   "cell_type": "code",
   "execution_count": null,
   "metadata": {},
   "outputs": [],
   "source": [
    "x = galcen.x.to_value(u.kpc) - (-8.122)\n",
    "y = galcen.y.to_value(u.kpc)\n",
    "z = galcen.z.to_value(u.kpc)\n",
    "vz = galcen.v_z.to_value(u.km/u.s)\n",
    "elem = t['MN_FE']"
   ]
  },
  {
   "cell_type": "code",
   "execution_count": null,
   "metadata": {},
   "outputs": [],
   "source": [
    "zlim = 2 # kpc\n",
    "vlim = 100. # km/s\n",
    "vstep = 4\n",
    "zstep = 75 / 1e3\n",
    "vzz_bins = (np.arange(-vlim, vlim+1e-3, vstep),\n",
    "            np.arange(-zlim, zlim+1e-3, zstep))\n",
    "\n",
    "fig, axes = plt.subplots(1, 2, figsize=(12, 5),\n",
    "                         constrained_layout=True)\n",
    "\n",
    "elem_mask = (elem > -3) & (elem < 3)\n",
    "stat = binned_statistic_2d(vz[elem_mask], z[elem_mask], elem[elem_mask], \n",
    "                           statistic='mean',\n",
    "                           bins=vzz_bins)\n",
    "\n",
    "vmin, vmax = np.percentile(elem, [15, 85])\n",
    "\n",
    "ax = axes[0]\n",
    "cs = ax.pcolormesh(stat.x_edge, stat.y_edge, stat.statistic.T, \n",
    "                   cmap='cividis', vmin=vmin, vmax=vmax)\n",
    "cb = fig.colorbar(cs, ax=ax, aspect=40)\n",
    "\n",
    "ax.set_xlabel('v_z')\n",
    "ax.set_ylabel('z')\n",
    "\n",
    "ax = axes[1]\n",
    "H, *_ = np.histogram2d(vz, z, bins=vzz_bins)\n",
    "cs = ax.pcolormesh(stat.x_edge, stat.y_edge, H.T, \n",
    "                   cmap='cividis', \n",
    "                   norm=mpl.colors.LogNorm(1, 3e2))\n",
    "cb = fig.colorbar(cs, ax=ax, aspect=40)\n",
    "\n",
    "ax.set_xlabel('v_z')\n",
    "# ax.set_ylabel('z')\n",
    "\n",
    "fig.set_facecolor('w')"
   ]
  },
  {
   "cell_type": "code",
   "execution_count": null,
   "metadata": {},
   "outputs": [],
   "source": [
    "zlim = 1 # kpc\n",
    "vlim = 75. # km/s\n",
    "vstep = 1\n",
    "zstep = 25 / 1e3\n",
    "vzz_bins = (np.arange(-vlim, vlim+1e-3, vstep),\n",
    "            np.arange(-zlim, zlim+1e-3, zstep))\n",
    "\n",
    "fig, axes = plt.subplots(1, 2, figsize=(12, 5),\n",
    "                         constrained_layout=True)\n",
    "\n",
    "stat = binned_statistic_2d(vz[elem_mask], z[elem_mask], elem[elem_mask], \n",
    "                           statistic='mean',\n",
    "                           bins=vzz_bins)\n",
    "\n",
    "vmin, vmax = np.percentile(elem, [15, 85])\n",
    "\n",
    "ax = axes[0]\n",
    "cs = ax.pcolormesh(stat.x_edge, stat.y_edge, stat.statistic.T, \n",
    "                   cmap='cividis', vmin=vmin, vmax=vmax)\n",
    "cb = fig.colorbar(cs, ax=ax, aspect=40)\n",
    "\n",
    "ax.set_xlabel('v_z')\n",
    "ax.set_ylabel('z')\n",
    "\n",
    "ax = axes[1]\n",
    "H, *_ = np.histogram2d(vz, z, bins=vzz_bins)\n",
    "cs = ax.pcolormesh(stat.x_edge, stat.y_edge, H.T, \n",
    "                   cmap='cividis', \n",
    "                   norm=mpl.colors.LogNorm(1, 3e2))\n",
    "cb = fig.colorbar(cs, ax=ax, aspect=40)\n",
    "\n",
    "ax.set_xlabel('v_z')\n",
    "# ax.set_ylabel('z')\n",
    "\n",
    "fig.set_facecolor('w')\n",
    "\n",
    "for ax in axes:\n",
    "    ax.axhline(0.05)\n",
    "    ax.axhline(0)\n",
    "    ax.axvline(-15)\n",
    "    ax.axvline(30)"
   ]
  },
  {
   "cell_type": "code",
   "execution_count": null,
   "metadata": {},
   "outputs": [],
   "source": [
    "mask = ((z < 0.05) & (z > 0) &\n",
    "        (vz > -15) & (vz < 30))\n",
    "\n",
    "mask2 = ((z < 0.25) & (z > 0.2) &\n",
    "        (vz > -15) & (vz < 30))\n",
    "\n",
    "# mask = ((z < 0.55) & (z > 0.5) &\n",
    "#         (vz > -15) & (vz < 30))\n",
    "mask.sum(), mask2.sum()"
   ]
  },
  {
   "cell_type": "code",
   "execution_count": null,
   "metadata": {},
   "outputs": [],
   "source": [
    "np.mean(elem[mask & elem_mask]), np.mean(elem[mask2 & elem_mask])"
   ]
  },
  {
   "cell_type": "code",
   "execution_count": null,
   "metadata": {},
   "outputs": [],
   "source": [
    "fig, axes = plt.subplots(1, 2, figsize=(12, 5))\n",
    "\n",
    "ax = axes[0]\n",
    "ax.hist(elem[mask & elem_mask], bins=np.linspace(-0.3, 0.7, 64));\n",
    "ax.axvline(np.mean(elem[mask & elem_mask]), color='r')\n",
    "ax.axvline(np.median(elem[mask & elem_mask]), color='g')\n",
    "\n",
    "ax = axes[1]\n",
    "ax.hist(elem[mask2 & elem_mask], bins=np.linspace(-0.3, 0.7, 64));\n",
    "ax.axvline(np.mean(elem[mask2 & elem_mask]), color='r')\n",
    "ax.axvline(np.median(elem[mask2 & elem_mask]), color='g')"
   ]
  },
  {
   "cell_type": "code",
   "execution_count": null,
   "metadata": {},
   "outputs": [],
   "source": [
    "tmpmask = mask & elem_mask & (elem > 0.2)"
   ]
  },
  {
   "cell_type": "code",
   "execution_count": null,
   "metadata": {},
   "outputs": [],
   "source": [
    "plt.scatter(t['TEFF'][tmpmask], t['LOGG'][tmpmask])"
   ]
  },
  {
   "cell_type": "code",
   "execution_count": null,
   "metadata": {},
   "outputs": [],
   "source": [
    "unq, counts = np.unique(t[tmpmask]['FIELD'], return_counts=True)"
   ]
  },
  {
   "cell_type": "code",
   "execution_count": null,
   "metadata": {},
   "outputs": [],
   "source": [
    "unq[counts.argsort()[::-1][:10]]"
   ]
  },
  {
   "cell_type": "code",
   "execution_count": null,
   "metadata": {},
   "outputs": [],
   "source": [
    "plt.figure(figsize=(6, 6))\n",
    "plt.scatter(x[tmpmask], y[tmpmask], alpha=0.2)"
   ]
  },
  {
   "cell_type": "code",
   "execution_count": null,
   "metadata": {},
   "outputs": [],
   "source": [
    "plt.figure(figsize=(6, 6))\n",
    "plt.scatter(t['RA'][tmpmask], t['DEC'][tmpmask], alpha=0.2)"
   ]
  },
  {
   "cell_type": "code",
   "execution_count": null,
   "metadata": {},
   "outputs": [],
   "source": [
    "plt.hist((t['GAIA_PARALLAX'][tmpmask] / t['GAIA_PARALLAX_ERROR'][tmpmask]),\n",
    "         bins=np.linspace(0, 10, 32));"
   ]
  },
  {
   "cell_type": "code",
   "execution_count": null,
   "metadata": {},
   "outputs": [],
   "source": []
  }
 ],
 "metadata": {
  "kernelspec": {
   "display_name": "Python [conda env:root] *",
   "language": "python",
   "name": "conda-root-py"
  },
  "language_info": {
   "codemirror_mode": {
    "name": "ipython",
    "version": 3
   },
   "file_extension": ".py",
   "mimetype": "text/x-python",
   "name": "python",
   "nbconvert_exporter": "python",
   "pygments_lexer": "ipython3",
   "version": "3.8.3"
  },
  "toc": {
   "base_numbering": 1,
   "nav_menu": {},
   "number_sections": true,
   "sideBar": true,
   "skip_h1_title": false,
   "title_cell": "Table of Contents",
   "title_sidebar": "Contents",
   "toc_cell": false,
   "toc_position": {},
   "toc_section_display": true,
   "toc_window_display": false
  }
 },
 "nbformat": 4,
 "nbformat_minor": 4
}
