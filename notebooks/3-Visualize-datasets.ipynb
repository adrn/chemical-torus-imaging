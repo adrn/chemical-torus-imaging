{
 "cells": [
  {
   "cell_type": "code",
   "execution_count": null,
   "metadata": {},
   "outputs": [],
   "source": [
    "import astropy.coordinates as coord\n",
    "from astropy.io import fits\n",
    "import astropy.table as at\n",
    "import astropy.units as u\n",
    "import matplotlib as mpl\n",
    "import matplotlib.pyplot as plt\n",
    "%matplotlib inline\n",
    "import numpy as np\n",
    "from gala.mpl_style import hesperia_r\n",
    "\n",
    "from totoro.data import datasets\n",
    "from totoro.config import galcen_frame\n",
    "from totoro.abundance_helpers import elem_to_label"
   ]
  },
  {
   "cell_type": "code",
   "execution_count": null,
   "metadata": {},
   "outputs": [],
   "source": [
    "for name, d in datasets.items():\n",
    "    print(name, len(d))"
   ]
  },
  {
   "cell_type": "code",
   "execution_count": null,
   "metadata": {},
   "outputs": [],
   "source": [
    "vstep = 1.5\n",
    "zstep = 50 / 1e3\n",
    "vzz_bins = (np.arange(-82.5, 82.5+1e-3, vstep),\n",
    "            np.arange(-1.5, 1.5+1e-3, zstep))"
   ]
  },
  {
   "cell_type": "code",
   "execution_count": null,
   "metadata": {},
   "outputs": [],
   "source": [
    "from matplotlib.gridspec import GridSpec\n",
    "\n",
    "def make_dataset_figure(d, xname, yname,\n",
    "                        cmap='hesperia_r', \n",
    "                        xy_size=2.6*u.kpc, xy_step=25*u.pc):\n",
    "\n",
    "    fig = plt.figure(figsize=(12, 10),\n",
    "                     constrained_layout=True)\n",
    "\n",
    "    gs = GridSpec(nrows=2, ncols=2, figure=fig)\n",
    "    ax1 = fig.add_subplot(gs[0, :])\n",
    "    ax2 = fig.add_subplot(gs[1, 0])\n",
    "    ax3 = fig.add_subplot(gs[1, 1])\n",
    "\n",
    "    bins = (np.arange(-2., 0.75, 0.01),\n",
    "            np.arange(-0.18, 0.4, 0.005))\n",
    "\n",
    "    H, xe, ye = np.histogram2d(d.get_elem_ratio(xname), \n",
    "                               d.get_elem_ratio(yname), \n",
    "                               bins=bins)\n",
    "    norm = mpl.colors.LogNorm() #vmin=1, vmax=10**np.nanpercentile(np.log10(H), 99))\n",
    "    cs = ax1.pcolormesh(xe, ye, H.T, norm=norm, cmap=cmap, rasterized=True)\n",
    "\n",
    "    ax1.set_xlim(-1.5, 0.7)\n",
    "    ax1.set_ylim(-0.12, 0.32)\n",
    "    ax1.set_xlabel(f'metallicity, {elem_to_label(xname)}')\n",
    "    ax1.set_ylabel(f'alpha abundance, {elem_to_label(yname)}')\n",
    "\n",
    "    # ---\n",
    "    \n",
    "    c = d.c\n",
    "    x = c.galactocentric.x.to_value(u.kpc)\n",
    "    y = c.galactocentric.y.to_value(u.kpc)\n",
    "    z = c.galactocentric.z.to_value(u.kpc)\n",
    "    vz = c.galactocentric.v_z.to_value(u.km / u.s)\n",
    "\n",
    "    xy_size = xy_size.to_value(u.kpc)\n",
    "    xy_step = xy_step.to_value(u.kpc)\n",
    "    bins = (np.arange(-8.122 - xy_size, -8.122 + xy_size + 1e-3, xy_step),\n",
    "            np.arange(-xy_size, xy_size + 1e-3, xy_step))\n",
    "    H, xe, ye = np.histogram2d(x, y, bins=bins)\n",
    "    ax2.pcolormesh(xe, ye, H.T, norm=norm, cmap=cmap, rasterized=True)\n",
    "\n",
    "    ax2.set_xlabel('Galactocentric $x$ [kpc]')\n",
    "    ax2.set_ylabel('Galactocentric $y$ [kpc]')\n",
    "\n",
    "    H, xe, ye = np.histogram2d(vz, z, bins=vzz_bins)\n",
    "    ax3.pcolormesh(xe, ye, H.T, norm=norm, cmap=cmap, rasterized=True)\n",
    "\n",
    "    ax3.set_xlabel(f'Galactocentric $v_z$ [{u.km/u.s:latex_inline}]')\n",
    "    ax3.set_ylabel('Galactocentric $z$ [kpc]')\n",
    "\n",
    "    cb = fig.colorbar(cs, ax=ax1, aspect=30)\n",
    "    cb.set_label('$N$ stars')\n",
    "\n",
    "    fig.set_facecolor('w')\n",
    "\n",
    "    return fig, [ax1, ax2, ax3]"
   ]
  },
  {
   "cell_type": "code",
   "execution_count": null,
   "metadata": {},
   "outputs": [],
   "source": [
    "for name, d in datasets.items():\n",
    "    if name.lower().startswith('galah'):\n",
    "        fig, axes = make_dataset_figure(d, 'FE_H', 'ALPHA_FE')\n",
    "    else:\n",
    "        fig, axes = make_dataset_figure(d, 'M_H', 'ALPHA_M')\n",
    "    fig.suptitle(name, fontsize=22)"
   ]
  },
  {
   "cell_type": "code",
   "execution_count": null,
   "metadata": {},
   "outputs": [],
   "source": []
  }
 ],
 "metadata": {
  "kernelspec": {
   "display_name": "Python [conda env:root] *",
   "language": "python",
   "name": "conda-root-py"
  },
  "language_info": {
   "codemirror_mode": {
    "name": "ipython",
    "version": 3
   },
   "file_extension": ".py",
   "mimetype": "text/x-python",
   "name": "python",
   "nbconvert_exporter": "python",
   "pygments_lexer": "ipython3",
   "version": "3.8.3"
  },
  "toc": {
   "base_numbering": 1,
   "nav_menu": {},
   "number_sections": true,
   "sideBar": true,
   "skip_h1_title": false,
   "title_cell": "Table of Contents",
   "title_sidebar": "Contents",
   "toc_cell": false,
   "toc_position": {},
   "toc_section_display": true,
   "toc_window_display": false
  }
 },
 "nbformat": 4,
 "nbformat_minor": 4
}
