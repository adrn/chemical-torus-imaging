{
 "cells": [
  {
   "cell_type": "code",
   "execution_count": null,
   "metadata": {},
   "outputs": [],
   "source": [
    "import pickle\n",
    "\n",
    "import astropy.coordinates as coord\n",
    "import astropy.units as u\n",
    "import matplotlib as mpl\n",
    "import matplotlib.pyplot as plt\n",
    "%matplotlib inline\n",
    "import numpy as np\n",
    "\n",
    "# gala\n",
    "import gala.coordinates as gc\n",
    "import gala.dynamics as gd\n",
    "import gala.potential as gp\n",
    "from gala.units import galactic\n",
    "\n",
    "from totoro.config import cache_path\n",
    "from totoro.potentials import potentials, galpy_potentials\n",
    "from totoro.actions_o2gf import get_o2gf_aaf\n",
    "from totoro.actions_staeckel import get_staeckel_aaf\n",
    "\n",
    "from totoro.data import datasets"
   ]
  },
  {
   "cell_type": "code",
   "execution_count": null,
   "metadata": {},
   "outputs": [],
   "source": [
    "w0s_cache = cache_path / 'w0s.pkl'\n",
    "with open(w0s_cache, 'rb') as f:\n",
    "    w0s = pickle.load(f)\n",
    "    \n",
    "    \n",
    "for k in w0s:\n",
    "    w0s[k] = gd.combine((gd.PhaseSpacePosition(w0s[k][0].pos.xyz + 1e-5*u.pc,\n",
    "                                               w0s[k][0].vel),\n",
    "                         gd.PhaseSpacePosition(w0s[k][1].pos.xyz + 1e-5*u.pc,\n",
    "                                               w0s[k][1].vel)))"
   ]
  },
  {
   "cell_type": "code",
   "execution_count": null,
   "metadata": {},
   "outputs": [],
   "source": [
    "k = '1.0'\n",
    "orbit = potentials[k].integrate_orbit(w0s[k], dt=0.5, n_steps=6000)\n",
    "np.abs(orbit.z).max(axis=0)"
   ]
  },
  {
   "cell_type": "code",
   "execution_count": null,
   "metadata": {},
   "outputs": [],
   "source": [
    "d = datasets['apogee-rgb-loalpha']\n",
    "galcen_d = d.c.transform_to(coord.Galactocentric())\n",
    "zmask = np.abs(galcen_d.z) > (3*280*u.pc)\n",
    "zmask.sum() / len(zmask)"
   ]
  },
  {
   "cell_type": "code",
   "execution_count": null,
   "metadata": {},
   "outputs": [],
   "source": [
    "for j in range(2):\n",
    "    o2gf_actions = []\n",
    "    stae_actions = []\n",
    "    for k, w0 in w0s.items():\n",
    "        o2gf_aaf = get_o2gf_aaf(potentials[k], w0[j])\n",
    "        stae_aaf = get_staeckel_aaf(galpy_potentials[k], w0[j], \n",
    "                                    gala_potential=potentials[k])\n",
    "        \n",
    "        o2gf_actions.append(o2gf_aaf['actions'])\n",
    "        stae_actions.append(stae_aaf['actions'])\n",
    "        \n",
    "    o2gf_actions = u.Quantity(o2gf_actions)\n",
    "    stae_actions = u.Quantity(stae_actions)\n",
    "    \n",
    "    print(np.abs((o2gf_actions - stae_actions) / o2gf_actions).max())"
   ]
  },
  {
   "cell_type": "code",
   "execution_count": null,
   "metadata": {},
   "outputs": [],
   "source": [
    "derp = [f'{x:.1f}' for x in np.arange(0.5, 1.5+1e-3, 0.1)]\n",
    "mask = np.array([x in derp for x in w0s.keys()])"
   ]
  },
  {
   "cell_type": "code",
   "execution_count": null,
   "metadata": {},
   "outputs": [],
   "source": [
    "diff = (o2gf_actions - stae_actions) / o2gf_actions\n",
    "for k in range(3):\n",
    "    print(f\"{100 * np.abs(diff[mask, k]).max():.2f}\")"
   ]
  },
  {
   "cell_type": "code",
   "execution_count": null,
   "metadata": {},
   "outputs": [],
   "source": []
  },
  {
   "cell_type": "code",
   "execution_count": null,
   "metadata": {},
   "outputs": [],
   "source": []
  }
 ],
 "metadata": {
  "kernelspec": {
   "display_name": "Python [conda env:root] *",
   "language": "python",
   "name": "conda-root-py"
  },
  "language_info": {
   "codemirror_mode": {
    "name": "ipython",
    "version": 3
   },
   "file_extension": ".py",
   "mimetype": "text/x-python",
   "name": "python",
   "nbconvert_exporter": "python",
   "pygments_lexer": "ipython3",
   "version": "3.8.3"
  },
  "toc": {
   "base_numbering": 1,
   "nav_menu": {},
   "number_sections": true,
   "sideBar": true,
   "skip_h1_title": false,
   "title_cell": "Table of Contents",
   "title_sidebar": "Contents",
   "toc_cell": false,
   "toc_position": {},
   "toc_section_display": true,
   "toc_window_display": false
  }
 },
 "nbformat": 4,
 "nbformat_minor": 4
}
