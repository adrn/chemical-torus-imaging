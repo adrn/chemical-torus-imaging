{
 "cells": [
  {
   "cell_type": "code",
   "execution_count": null,
   "metadata": {},
   "outputs": [],
   "source": [
    "import astropy.coordinates as coord\n",
    "import astropy.table as at\n",
    "import astropy.units as u\n",
    "import matplotlib as mpl\n",
    "import matplotlib.pyplot as plt\n",
    "%matplotlib inline\n",
    "import numpy as np\n",
    "from scipy.spatial import cKDTree\n",
    "from scipy.stats import binned_statistic\n",
    "from scipy.interpolate import interp1d\n",
    "from tqdm import tqdm\n",
    "\n",
    "# gala\n",
    "import gala.coordinates as gc\n",
    "import gala.dynamics as gd\n",
    "import gala.integrate as gi\n",
    "import gala.potential as gp\n",
    "from gala.units import galactic\n",
    "\n",
    "from thriftshop.config import galcen_frame, elem_names\n",
    "from thriftshop.data import load_apogee_sample\n",
    "from thriftshop.potentials import potentials, galpy_potentials\n",
    "from thriftshop.objective import TorusImagingObjective"
   ]
  },
  {
   "cell_type": "code",
   "execution_count": null,
   "metadata": {},
   "outputs": [],
   "source": [
    "t, c = load_apogee_sample('../data/apogee-parent-sample.fits')\n",
    "t = t[np.argsort(t['APOGEE_ID'])]"
   ]
  },
  {
   "cell_type": "code",
   "execution_count": null,
   "metadata": {},
   "outputs": [],
   "source": [
    "galcen = c.transform_to(galcen_frame)\n",
    "w0s = gd.PhaseSpacePosition(galcen.data)"
   ]
  },
  {
   "cell_type": "code",
   "execution_count": null,
   "metadata": {},
   "outputs": [],
   "source": [
    "obj = TorusImagingObjective(t, c, 'MG_FE', tree_K=20)"
   ]
  },
  {
   "cell_type": "code",
   "execution_count": null,
   "metadata": {},
   "outputs": [],
   "source": [
    "all_p_vals = []\n",
    "all_obj_vals = []\n",
    "tree_Ks = [2, 4, 8, 16, 32, 64, 128, 256]\n",
    "for tree_K in tree_Ks:\n",
    "    obj = TorusImagingObjective(t, c, 'MG_FE', tree_K=tree_K)\n",
    "\n",
    "    i = 0\n",
    "\n",
    "    x0 = np.array([1.1, -16.6, 7.78])\n",
    "    # x0 = res.x\n",
    "\n",
    "    idx = np.arange(3)\n",
    "    idx = np.delete(idx, i)\n",
    "\n",
    "    obj_vals = [] \n",
    "    p_vals = x0[i] * np.linspace(0.8, 1.2, 32)\n",
    "    for val in tqdm(p_vals):\n",
    "        p = np.full(3, np.nan)\n",
    "        p[i] = val\n",
    "        p[idx] = x0[idx]\n",
    "        obj_vals.append(obj(p))\n",
    "\n",
    "    obj_vals = np.array(obj_vals)\n",
    "    \n",
    "    all_p_vals.append(p_vals)\n",
    "    all_obj_vals.append(obj_vals)"
   ]
  },
  {
   "cell_type": "code",
   "execution_count": null,
   "metadata": {},
   "outputs": [],
   "source": [
    "fig, ax = plt.subplots(1, 1, figsize=(6, 4))\n",
    "for tree_K, p_vals, obj_vals in zip(tree_Ks[:4], all_p_vals, all_obj_vals):\n",
    "    ax.plot(p_vals, obj_vals * 1e7, label=f\"K={tree_K}\")\n",
    "ax.legend()\n",
    "fig.set_facecolor('w')\n",
    "fig.tight_layout()"
   ]
  },
  {
   "cell_type": "code",
   "execution_count": null,
   "metadata": {},
   "outputs": [],
   "source": [
    "tree_Ks = 2 ** np.arange(2, 8+1, 1)\n",
    "results = []\n",
    "for tree_K in tqdm(tree_Ks):\n",
    "    obj = TorusImagingObjective(t, c, 'MG_FE', tree_K=tree_K)\n",
    "    res = obj.minimize()\n",
    "    results.append(res)"
   ]
  },
  {
   "cell_type": "code",
   "execution_count": null,
   "metadata": {},
   "outputs": [],
   "source": [
    "xs = np.array([r.x for r in results])"
   ]
  },
  {
   "cell_type": "code",
   "execution_count": null,
   "metadata": {},
   "outputs": [],
   "source": [
    "fig, axes = plt.subplots(3, 1, figsize=(8, 10), \n",
    "                         sharex=True)\n",
    "for i in range(3):\n",
    "    axes[i].plot(tree_Ks, xs[:, i])\n",
    "    axes[i].errorbar(tree_Ks, xs[:, i], 0.07*xs[:, i], \n",
    "                     zorder=-10, marker='', ls='none', ecolor='#aaaaaa')\n",
    "\n",
    "axes[0].set_ylabel('mdisk')\n",
    "axes[1].set_ylabel('zsun')\n",
    "axes[2].set_ylabel('vzsun')\n",
    "    \n",
    "axes[0].set_title('optimization results')\n",
    "axes[0].set_xscale('log', basex=2)\n",
    "axes[2].set_xlabel('$K$')\n",
    "fig.set_facecolor('w')"
   ]
  },
  {
   "cell_type": "markdown",
   "metadata": {},
   "source": [
    "### Bootstrap testing:"
   ]
  },
  {
   "cell_type": "code",
   "execution_count": null,
   "metadata": {},
   "outputs": [],
   "source": [
    "tree_K = 20\n",
    "boot_K = 128\n",
    "np.random.seed(42)\n",
    "\n",
    "# Full sample fit:\n",
    "obj = TorusImagingObjective(t, c, 'MG_FE', tree_K=tree_K)\n",
    "full_sample_res = obj.minimize()\n",
    "if not full_sample_res.success:\n",
    "    raise RuntimeError(\"WTF\")\n",
    "\n",
    "results = []\n",
    "for k in tqdm(range(boot_K)):\n",
    "    idx = np.random.choice(len(t), len(t), replace=True)\n",
    "    obj = TorusImagingObjective(t[idx], c[idx], 'MG_FE', \n",
    "                                tree_K=tree_K)\n",
    "    res = obj.minimize(x0=full_sample_res.x)\n",
    "    results.append(res)"
   ]
  },
  {
   "cell_type": "code",
   "execution_count": null,
   "metadata": {},
   "outputs": [],
   "source": [
    "results[0]"
   ]
  },
  {
   "cell_type": "code",
   "execution_count": null,
   "metadata": {},
   "outputs": [],
   "source": [
    "full_sample_res"
   ]
  },
  {
   "cell_type": "code",
   "execution_count": null,
   "metadata": {},
   "outputs": [],
   "source": []
  }
 ],
 "metadata": {
  "kernelspec": {
   "display_name": "Python [conda env:root] *",
   "language": "python",
   "name": "conda-root-py"
  },
  "language_info": {
   "codemirror_mode": {
    "name": "ipython",
    "version": 3
   },
   "file_extension": ".py",
   "mimetype": "text/x-python",
   "name": "python",
   "nbconvert_exporter": "python",
   "pygments_lexer": "ipython3",
   "version": "3.8.3"
  },
  "toc": {
   "base_numbering": 1,
   "nav_menu": {},
   "number_sections": true,
   "sideBar": true,
   "skip_h1_title": false,
   "title_cell": "Table of Contents",
   "title_sidebar": "Contents",
   "toc_cell": false,
   "toc_position": {},
   "toc_section_display": true,
   "toc_window_display": false
  }
 },
 "nbformat": 4,
 "nbformat_minor": 4
}
