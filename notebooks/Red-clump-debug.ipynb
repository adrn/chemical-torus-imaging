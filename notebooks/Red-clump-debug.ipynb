{
 "cells": [
  {
   "cell_type": "code",
   "execution_count": null,
   "metadata": {},
   "outputs": [],
   "source": [
    "import astropy.coordinates as coord\n",
    "import astropy.table as at\n",
    "import astropy.units as u\n",
    "import matplotlib as mpl\n",
    "import matplotlib.pyplot as plt\n",
    "%matplotlib inline\n",
    "import numpy as np\n",
    "from scipy.spatial import cKDTree\n",
    "from scipy.stats import binned_statistic_2d\n",
    "from scipy.interpolate import interp1d\n",
    "from tqdm import tqdm\n",
    "\n",
    "# gala\n",
    "import gala.coordinates as gc\n",
    "import gala.dynamics as gd\n",
    "import gala.integrate as gi\n",
    "import gala.potential as gp\n",
    "from gala.units import galactic\n",
    "from gala.mpl_style import hesperia_r\n",
    "\n",
    "from totoro.config import galcen_frame, elem_names\n",
    "from totoro.data import datasets\n",
    "from totoro.potentials import potentials, galpy_potentials\n",
    "from totoro.objective import TorusImagingObjective"
   ]
  },
  {
   "cell_type": "code",
   "execution_count": null,
   "metadata": {},
   "outputs": [],
   "source": [
    "data_name = 'apogee-rgb-loalpha'\n",
    "d = datasets[data_name]"
   ]
  },
  {
   "cell_type": "code",
   "execution_count": null,
   "metadata": {},
   "outputs": [],
   "source": [
    "galcen = d.c.transform_to(galcen_frame)"
   ]
  },
  {
   "cell_type": "code",
   "execution_count": null,
   "metadata": {},
   "outputs": [],
   "source": [
    "fig, ax = plt.subplots(figsize=(6, 5))\n",
    "ax.plot(d.t['TEFF'], d.get_elem_ratio('SI_FE'),\n",
    "        marker='o', ls='none', mew=0, ms=1.5, alpha=0.4)"
   ]
  },
  {
   "cell_type": "code",
   "execution_count": null,
   "metadata": {},
   "outputs": [],
   "source": [
    "teff = d.t['TEFF']\n",
    "logg = d.t['LOGG']\n",
    "feh = d.t['FE_H']\n",
    "\n",
    "teff_ref = -382.5 * feh + 4607\n",
    "tmp = 0.0018 * (teff - teff_ref) + 2.4\n",
    "rc_mask = (logg >= 1.9) & (logg <= tmp)\n",
    "rc_mask.sum(), len(rc_mask)"
   ]
  },
  {
   "cell_type": "code",
   "execution_count": null,
   "metadata": {},
   "outputs": [],
   "source": [
    "fig, ax = plt.subplots(figsize=(5, 5))\n",
    "\n",
    "stat = binned_statistic_2d(\n",
    "    d.t['TEFF'], \n",
    "    d.t['LOGG'],\n",
    "    d.t['M_H'],\n",
    "    statistic='mean',\n",
    "    bins=(np.arange(4200, 5200, 25),\n",
    "          np.arange(2, 3., 0.01)))\n",
    "ax.pcolormesh(stat.x_edge, stat.y_edge,\n",
    "              stat.statistic.T)\n",
    "\n",
    "ax.invert_xaxis()\n",
    "ax.invert_yaxis()"
   ]
  },
  {
   "cell_type": "code",
   "execution_count": null,
   "metadata": {},
   "outputs": [],
   "source": [
    "fig, ax = plt.subplots(figsize=(5, 5))\n",
    "\n",
    "stat = binned_statistic_2d(\n",
    "    d.t['TEFF'], \n",
    "    d.t['LOGG'],\n",
    "    d.t['M_H'],\n",
    "    statistic='count',\n",
    "    bins=(np.arange(4200, 5200, 25),\n",
    "          np.arange(1.8, 3.5, 0.01)))\n",
    "ax.pcolormesh(stat.x_edge, stat.y_edge,\n",
    "              stat.statistic.T)\n",
    "\n",
    "ax.invert_xaxis()\n",
    "ax.invert_yaxis()\n",
    "\n",
    "# ---\n",
    "\n",
    "fig, ax = plt.subplots(figsize=(5, 5))\n",
    "\n",
    "stat = binned_statistic_2d(\n",
    "    d.t['TEFF'][rc_mask], \n",
    "    d.t['LOGG'][rc_mask],\n",
    "    d.t['M_H'][rc_mask],\n",
    "    statistic='count',\n",
    "    bins=(np.arange(4200, 5200, 25),\n",
    "          np.arange(1.8, 3.5, 0.01)))\n",
    "ax.pcolormesh(stat.x_edge, stat.y_edge,\n",
    "              stat.statistic.T)\n",
    "\n",
    "ax.invert_xaxis()\n",
    "ax.invert_yaxis()"
   ]
  },
  {
   "cell_type": "code",
   "execution_count": null,
   "metadata": {},
   "outputs": [],
   "source": [
    "zvz_bins = (np.arange(-90, 90+1e-3, 1.5),\n",
    "            np.arange(-1.75, 1.75+1e-3, 0.05))"
   ]
  },
  {
   "cell_type": "code",
   "execution_count": null,
   "metadata": {},
   "outputs": [],
   "source": [
    "fig, ax = plt.subplots(1, 1, figsize=(6, 6))\n",
    "\n",
    "feh = d.get_elem_ratio('MG_FE')\n",
    "mask = ((feh > -3) & np.isfinite(feh) & (feh != 0)) & rc_mask\n",
    "feh = feh - np.mean(feh[mask])\n",
    "\n",
    "try:\n",
    "    std = np.nanstd(feh[mask].filled(np.nan))\n",
    "except:\n",
    "    std = np.nanstd(feh[mask])\n",
    "\n",
    "stat = binned_statistic_2d(\n",
    "    galcen.v_z.to_value(u.km/u.s)[mask], \n",
    "    galcen.z.to_value(u.kpc)[mask],\n",
    "    feh[mask],\n",
    "    statistic='mean',\n",
    "    bins=zvz_bins)\n",
    "ax.pcolormesh(stat.x_edge, stat.y_edge,\n",
    "              stat.statistic.T, \n",
    "              vmin=-std, vmax=std,\n",
    "              cmap=hesperia_r, rasterized=True)\n",
    "\n",
    "ax.set_xlim(zvz_bins[0].min(), zvz_bins[0].max())\n",
    "ax.set_ylim(zvz_bins[1].min(), zvz_bins[1].max())\n",
    "\n",
    "fig.tight_layout()\n",
    "fig.set_facecolor('w')"
   ]
  },
  {
   "cell_type": "code",
   "execution_count": null,
   "metadata": {},
   "outputs": [],
   "source": []
  }
 ],
 "metadata": {
  "kernelspec": {
   "display_name": "Python [conda env:root] *",
   "language": "python",
   "name": "conda-root-py"
  },
  "language_info": {
   "codemirror_mode": {
    "name": "ipython",
    "version": 3
   },
   "file_extension": ".py",
   "mimetype": "text/x-python",
   "name": "python",
   "nbconvert_exporter": "python",
   "pygments_lexer": "ipython3",
   "version": "3.8.3"
  },
  "toc": {
   "base_numbering": 1,
   "nav_menu": {},
   "number_sections": true,
   "sideBar": true,
   "skip_h1_title": false,
   "title_cell": "Table of Contents",
   "title_sidebar": "Contents",
   "toc_cell": false,
   "toc_position": {},
   "toc_section_display": true,
   "toc_window_display": false
  }
 },
 "nbformat": 4,
 "nbformat_minor": 4
}
