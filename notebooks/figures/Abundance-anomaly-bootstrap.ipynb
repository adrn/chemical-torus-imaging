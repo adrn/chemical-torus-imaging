{
 "cells": [
  {
   "cell_type": "code",
   "execution_count": null,
   "metadata": {},
   "outputs": [],
   "source": [
    "import pathlib\n",
    "import itertools\n",
    "import pickle\n",
    "\n",
    "import astropy.coordinates as coord\n",
    "from astropy.convolution import convolve, Gaussian2DKernel\n",
    "from astropy.io import fits\n",
    "import astropy.table as at\n",
    "import astropy.units as u\n",
    "import matplotlib as mpl\n",
    "import matplotlib.pyplot as plt\n",
    "%matplotlib inline\n",
    "import numpy as np\n",
    "from scipy.stats import binned_statistic\n",
    "from scipy.spatial import cKDTree\n",
    "from scipy.interpolate import interp1d\n",
    "from tqdm.notebook import trange, tqdm\n",
    "\n",
    "# gala\n",
    "import gala.coordinates as gc\n",
    "import gala.dynamics as gd\n",
    "import gala.integrate as gi\n",
    "import gala.potential as gp\n",
    "from gala.units import galactic\n",
    "from gala.mpl_style import hesperia, laguna\n",
    "\n",
    "from thriftshop.config import vcirc, rsun, plot_path, fig_path, cache_path, fiducial_mdisk\n",
    "from thriftshop.config import plot_config as pc\n",
    "from thriftshop.config import elem_names, galcen_frame\n",
    "from thriftshop.data import load_apogee_sample\n",
    "from thriftshop.potentials import potentials\n",
    "from thriftshop.actions import safe_get_actions, get_w0s_with_same_actions\n",
    "from thriftshop.abundances import get_elem_names, elem_to_label\n",
    "from thriftshop.atm import (AbundanceTorusMaschine, \n",
    "                            run_bootstrap_coeffs, \n",
    "                            get_cos2th_zerocross)"
   ]
  },
  {
   "cell_type": "code",
   "execution_count": null,
   "metadata": {},
   "outputs": [],
   "source": [
    "main_elem = 'MG_FE'"
   ]
  },
  {
   "cell_type": "code",
   "execution_count": null,
   "metadata": {},
   "outputs": [],
   "source": [
    "t, c = load_apogee_sample('../../data/apogee-parent-sample.fits')"
   ]
  },
  {
   "cell_type": "code",
   "execution_count": null,
   "metadata": {},
   "outputs": [],
   "source": [
    "aafs = {}\n",
    "for name in potentials:\n",
    "    filename = cache_path / f'aaf-{name}.fits'\n",
    "    if not filename.exists():\n",
    "        continue\n",
    "    aafs[name] = at.join(at.QTable.read(filename), \n",
    "                         t, \n",
    "                         keys='APOGEE_ID')"
   ]
  },
  {
   "cell_type": "code",
   "execution_count": null,
   "metadata": {},
   "outputs": [],
   "source": [
    "with open(cache_path / 'w0s.pkl', 'rb') as f:\n",
    "    w0s = pickle.load(f)\n",
    "    \n",
    "orbits = {}\n",
    "for k, w0 in w0s.items():\n",
    "    orbits[k] = potentials[k].integrate_orbit(\n",
    "        w0, dt=0.5*u.Myr, t1=0, t2=6*u.Gyr\n",
    "    )"
   ]
  },
  {
   "cell_type": "code",
   "execution_count": null,
   "metadata": {},
   "outputs": [],
   "source": [
    "sorted_keys = sorted(\n",
    "    orbits.keys(), \n",
    "    key=lambda k: potentials[k]['disk'].parameters['m'])\n",
    "sorted_keys = [x for x in sorted_keys if x in aafs]"
   ]
  },
  {
   "cell_type": "code",
   "execution_count": null,
   "metadata": {},
   "outputs": [],
   "source": [
    "all_finite_mask = None\n",
    "for name in sorted_keys:\n",
    "    finite_mask = np.all(np.isfinite(aafs[name]['actions']), axis=1)\n",
    "    if all_finite_mask is None:\n",
    "        all_finite_mask = finite_mask\n",
    "    else:\n",
    "        all_finite_mask &= finite_mask\n",
    "        \n",
    "print(all_finite_mask.sum())"
   ]
  },
  {
   "cell_type": "code",
   "execution_count": null,
   "metadata": {},
   "outputs": [],
   "source": [
    "for elem_name in elem_names:\n",
    "    print(elem_name, (aafs['1.0'][elem_name][all_finite_mask] > -3).sum())"
   ]
  },
  {
   "cell_type": "code",
   "execution_count": null,
   "metadata": {},
   "outputs": [],
   "source": [
    "for name in aafs:\n",
    "    aafs[name] = aafs[name][all_finite_mask]"
   ]
  },
  {
   "cell_type": "markdown",
   "metadata": {},
   "source": [
    "Visualize results from fitting the full sample for each potential model"
   ]
  },
  {
   "cell_type": "code",
   "execution_count": null,
   "metadata": {},
   "outputs": [],
   "source": [
    "fig, axes = plt.subplots(3, 5, figsize=(15, 10), \n",
    "                         sharex=True, sharey=True)\n",
    "for i, name in enumerate(sorted_keys):\n",
    "    atm = AbundanceTorusMaschine(aafs[name])\n",
    "    \n",
    "    coeffs, coeff_cov = atm.get_coeffs_for_elem(main_elem)\n",
    "    angz, d_elem, d_elem_errs = atm.get_theta_z_anomaly(main_elem)\n",
    "    binx, bin_anom, bin_anom_err = atm.get_binned_anomaly(main_elem)\n",
    "\n",
    "    # ---\n",
    "    \n",
    "    ax = axes.flat[i]\n",
    "    ax.plot(angz, d_elem, \n",
    "            marker='o', ls='none', mew=0, ms=2, alpha=0.3)\n",
    "\n",
    "    ax.plot(binx, bin_anom, \n",
    "            marker='', drawstyle='steps-mid', \n",
    "            zorder=10, color='tab:red', alpha=1)\n",
    "    ax.errorbar(binx, bin_anom, bin_anom_err,\n",
    "                marker='o', ls='none', ecolor='tab:red', \n",
    "                zorder=5, alpha=0.6)\n",
    "    \n",
    "    plot_x = np.linspace(0, 2*np.pi, 1024)\n",
    "    plot_M = atm.get_M(plot_x)\n",
    "    plot_y = plot_M @ coeffs\n",
    "    ax.plot(plot_x, plot_y, marker='', lw=2, color='tab:blue', zorder=100)\n",
    "    \n",
    "    ax.set_title(name, fontsize=18, pad=11)\n",
    "    \n",
    "ax.set_xlim(0, 2*np.pi)\n",
    "ax.set_ylim(-0.025, 0.025)"
   ]
  },
  {
   "cell_type": "code",
   "execution_count": null,
   "metadata": {},
   "outputs": [],
   "source": [
    "all_bs_coeffs = run_bootstrap_coeffs(aafs, main_elem, bootstrap_K=128)"
   ]
  },
  {
   "cell_type": "code",
   "execution_count": null,
   "metadata": {},
   "outputs": [],
   "source": [
    "fig, axes = plt.subplots(1, 3, figsize=(15, 5), sharex=True, sharey=True)\n",
    "\n",
    "plot_x = np.linspace(0, 2*np.pi, 1024)\n",
    "for i, name in enumerate(['0.4', '1.0', '1.6']):\n",
    "    atm = AbundanceTorusMaschine(aafs[name])\n",
    "    bin_x, bin_anom, bin_anom_err = atm.get_binned_anomaly(main_elem)\n",
    "    \n",
    "    ax = axes[i]\n",
    "    \n",
    "    ax.plot(bin_x, bin_anom, \n",
    "            marker='', drawstyle='steps-mid', color='k', lw=2,\n",
    "            label='mean abundance deviation (data)')\n",
    "    \n",
    "    for j, c in enumerate(all_bs_coeffs[name]):\n",
    "        plot_y = atm.get_M(plot_x) @ c\n",
    "        if j == 0:\n",
    "            label = 'bootstrap samples (model)'\n",
    "        else:\n",
    "            label = None\n",
    "        ax.plot(plot_x, plot_y, \n",
    "                alpha=0.25, color='tab:blue', marker='', lw=1.,\n",
    "                label=label)\n",
    "        \n",
    "    tmp = np.zeros_like(c)\n",
    "    tmp[[0,3]] = c[[0,3]]\n",
    "    plot_y = atm.get_M(plot_x) @ tmp\n",
    "    ax.plot(plot_x, plot_y, \n",
    "            alpha=0.8, color='tab:red', marker='', lw=2, zorder=100, \n",
    "            label=r'$\\cos(2\\,\\theta_z)$ term of mean model')\n",
    "    \n",
    "    title = (r'${\\rm M}_{\\rm disk} / {\\rm M}_{\\rm disk}^\\star =' \n",
    "             + f' {float(name):.1f}$')\n",
    "    ax.set_title(title, pad=11, fontsize=22)\n",
    "\n",
    "    ax.axhline(0, zorder=-100, color='#aaaaaa')\n",
    "    ax.set_xlabel(r'vertical angle, $\\theta_z$ [rad]')\n",
    "\n",
    "ax = axes[0]\n",
    "ax.set_ylim(-0.01, 0.01)\n",
    "ax.set_ylabel(f'mean {elem_to_label(main_elem)}\\ndeviation, ' + \n",
    "              r'$\\Delta^{[{\\rm Mg}/{\\rm Fe}]}$')\n",
    "\n",
    "ax.set_xlim(0, 2*np.pi)\n",
    "ax.set_xticks(np.arange(0, 2+1e-3, 1) * np.pi)\n",
    "ax.set_xticklabels(['0'] + [rf'${x:.0f}\\,\\pi$' for x in np.arange(1, 2+1e-3, 1)])\n",
    "ax.set_xticks(np.arange(0, 2+1e-3, 0.5) * np.pi, minor=True)\n",
    "\n",
    "axes[2].legend(loc='lower right', fontsize=14)\n",
    "\n",
    "fig.tight_layout()\n",
    "fig.set_facecolor('w')\n",
    "\n",
    "# fig.savefig(fig_path / 'sinusoid-fits.pdf')"
   ]
  },
  {
   "cell_type": "markdown",
   "metadata": {},
   "source": [
    "---"
   ]
  },
  {
   "cell_type": "code",
   "execution_count": null,
   "metadata": {},
   "outputs": [],
   "source": [
    "summary, zero_cross, zero_cross_err = get_cos2th_zerocross(all_bs_coeffs)"
   ]
  },
  {
   "cell_type": "code",
   "execution_count": null,
   "metadata": {},
   "outputs": [],
   "source": [
    "zero_cross_err"
   ]
  },
  {
   "cell_type": "code",
   "execution_count": null,
   "metadata": {},
   "outputs": [],
   "source": [
    "fig, axes = plt.subplots(2, 2, figsize=(12, 9), \n",
    "                         sharex=True, sharey=True)\n",
    "\n",
    "for j, i in enumerate(range(1, 5)):\n",
    "    ax = axes.flat[j]\n",
    "    \n",
    "    ax.errorbar(summary[i]['mdisk'], \n",
    "                summary[i]['y'], \n",
    "                yerr=summary[i]['y_err'],\n",
    "                marker='o', ecolor='#666666', ls='')\n",
    "    \n",
    "    ax.plot(summary[i]['mdisk'], \n",
    "            summary[i]['y'], \n",
    "            marker='', ls='-', color='#aaaaaa', zorder=-10)\n",
    "    \n",
    "    ax.axhline(0, marker='', ls='--', zorder=-100, color='tab:green', alpha=0.5)\n",
    "\n",
    "    \n",
    "axes[1, 0].errorbar(zero_cross, [0], \n",
    "                    xerr=np.array(zero_cross_err)[None].T, \n",
    "                    ls=None, marker='s', color='tab:blue',\n",
    "                    alpha=0.75, mew=0, ms=6)\n",
    "    \n",
    "axes[0, 0].set_ylabel(r'$\\cos\\,\\theta_z$ amplitude, $a_1$')\n",
    "axes[0, 1].set_ylabel(r'$\\sin\\,\\theta_z$ amplitude, $b_1$')\n",
    "axes[1, 0].set_ylabel(r'$\\cos\\,2\\theta_z$ amplitude, $a_2$')\n",
    "axes[1, 1].set_ylabel(r'$\\sin\\,2\\theta_z$ amplitude, $b_2$')\n",
    "axes[1, 0].set_xlabel(r'${\\rm M}_{\\rm disk} / {\\rm M}_{\\rm disk}^\\star$')\n",
    "axes[1, 1].set_xlabel(r'${\\rm M}_{\\rm disk} / {\\rm M}_{\\rm disk}^\\star$')\n",
    "\n",
    "ax = axes[1, 0]\n",
    "xlim = (min(summary[0]['mdisk'])-0.1, \n",
    "        max(summary[0]['mdisk'])+0.1)\n",
    "ax.set_xlim(xlim)\n",
    "ax.set_xticks(np.arange(min(summary[0]['mdisk']), max(summary[0]['mdisk'])+1e-3, 0.2))\n",
    "ax.set_xticks(np.arange(min(summary[0]['mdisk']), max(summary[0]['mdisk'])+1e-3, 0.1), \n",
    "              minor=True)\n",
    "    \n",
    "axes[0, 0].set_title('(sensitive to solar motion in $v_z$)', pad=11, fontsize=20)\n",
    "axes[0, 1].set_title('(sensitive to solar position in $z$)', pad=11, fontsize=20)\n",
    "axes[1, 0].set_title('(sensitive to local density)', pad=11, fontsize=20)\n",
    "axes[1, 1].set_title('(verboten)', pad=11, fontsize=20)\n",
    "\n",
    "fig.tight_layout()\n",
    "fig.subplots_adjust(hspace=0.3)\n",
    "\n",
    "# fig.savefig(fig_path / 'coeff-vs-mdisk.pdf')"
   ]
  },
  {
   "cell_type": "markdown",
   "metadata": {},
   "source": [
    "## Run for all elements:"
   ]
  },
  {
   "cell_type": "code",
   "execution_count": null,
   "metadata": {},
   "outputs": [],
   "source": [
    "from thriftshop.atm import zerocross_worker\n",
    "from schwimmbad import MultiPool, SerialPool"
   ]
  },
  {
   "cell_type": "code",
   "execution_count": null,
   "metadata": {},
   "outputs": [],
   "source": [
    "tasks = [(aafs, elem_name) for elem_name in elem_names]\n",
    "\n",
    "results = []\n",
    "# with MultiPool() as pool:\n",
    "with SerialPool() as pool:\n",
    "    for r in pool.map(zerocross_worker, tasks):\n",
    "        results.append(r)"
   ]
  },
  {
   "cell_type": "code",
   "execution_count": null,
   "metadata": {},
   "outputs": [],
   "source": [
    "results"
   ]
  },
  {
   "cell_type": "code",
   "execution_count": null,
   "metadata": {},
   "outputs": [],
   "source": [
    "labels = []\n",
    "xs = []\n",
    "ys = []\n",
    "yerrs = []\n",
    "\n",
    "for i, r in enumerate(results):\n",
    "    labels.append(r[0])\n",
    "    xs.append(i)\n",
    "    ys.append(r[1][0])\n",
    "    yerrs.append(r[1][1])\n",
    "\n",
    "ys = np.array(ys)\n",
    "yerrs = np.array(yerrs)\n",
    "    \n",
    "fig, ax = plt.subplots(1, 1, figsize=(8.5, 6))\n",
    "ax.errorbar(xs, ys, yerrs.T, marker='s', ms=6,\n",
    "            ls='none', ecolor='#666666', zorder=10)\n",
    "ax.errorbar(xs[4], ys[4], yerrs.T[:, 4:5], marker='s', ms=6,\n",
    "            ls='none', color='tab:blue', zorder=100)\n",
    "# ax.axhline(1., zorder=-10, color='#aaaaaa', alpha=0.5)\n",
    "\n",
    "dumb_yerrs = np.mean(yerrs, axis=1)\n",
    "ivars = 1 / dumb_yerrs**2\n",
    "comb_y = np.sum(ys * ivars) / np.sum(ivars)\n",
    "comb_err = np.sqrt(1 / np.sum(ivars))\n",
    "ax.axhline(comb_y, color='tab:purple', zorder=-5, alpha=1)\n",
    "ax.axhspan(comb_y - comb_err, comb_y + comb_err, \n",
    "           color='tab:purple', lw=0, alpha=0.5, zorder=-5)\n",
    "\n",
    "ax.set_xlim(-0.75, len(results)-1 + 0.75)\n",
    "ax.set_ylim(0, 2)\n",
    "\n",
    "ax.set_ylabel(r'inferred ${\\rm M}_{\\rm disk} / {\\rm M}_{\\rm disk}^\\star$')\n",
    "\n",
    "ax.set_xticks([])\n",
    "ax.set_xticklabels([])\n",
    "# ax.set_xticklabels([elem_to_label(x) for x in labels])\n",
    "for x, y, yerr, label in zip(xs, ys, yerrs, labels):\n",
    "    ax.text(x, y - yerr[0] - 0.12, elem_to_label(label),\n",
    "            ha='center', va='top', fontsize=18, color='#555555')\n",
    "\n",
    "fig.tight_layout()\n",
    "fig.set_facecolor('w')\n",
    "\n",
    "fig.savefig(fig_path / 'mdisk-vs-elem.pdf')"
   ]
  },
  {
   "cell_type": "code",
   "execution_count": null,
   "metadata": {},
   "outputs": [],
   "source": [
    "for elem_name in elem_names:\n",
    "    _all_bs_coeffs = run_bootstrap_coeffs(aafs, elem_name)\n",
    "    elem_summary, *_ = get_cos2th_zerocross(_all_bs_coeffs)\n",
    "\n",
    "    fig, axes = plt.subplots(2, 2, figsize=(12, 9), \n",
    "                             sharex=True, sharey='row')\n",
    "\n",
    "    for j, i in enumerate(range(1, 5)):\n",
    "        ax = axes.flat[j]\n",
    "\n",
    "        ax.errorbar(elem_summary[i]['mdisk'], \n",
    "                    elem_summary[i]['y'], \n",
    "                    elem_summary[i]['y_err'],\n",
    "                    marker='o', ecolor='#666666', ls='')\n",
    "        \n",
    "        _idx = np.argsort(elem_summary[i]['mdisk'])\n",
    "        ax.plot(np.array(elem_summary[i]['mdisk'])[_idx], \n",
    "                np.array(elem_summary[i]['y'])[_idx], \n",
    "                marker='', ls='-', color='#aaaaaa', zorder=-10)\n",
    "\n",
    "        ax.axhline(0, marker='', zorder=-100, color='tab:green', alpha=0.5)\n",
    "\n",
    "    axes[0, 0].set_ylabel(r'$\\cos\\,\\theta_z$ amplitude')\n",
    "    axes[0, 1].set_ylabel(r'$\\sin\\,\\theta_z$ amplitude')\n",
    "    axes[1, 0].set_ylabel(r'$\\cos\\,2\\theta_z$ amplitude')\n",
    "    axes[1, 1].set_ylabel(r'$\\sin\\,2\\theta_z$ amplitude')\n",
    "    axes[1, 0].set_xlabel(r'${\\rm factor} \\times {\\rm M}_{\\rm disk}$')\n",
    "    axes[1, 1].set_xlabel(r'${\\rm factor} \\times {\\rm M}_{\\rm disk}$')\n",
    "\n",
    "    ax = axes[1, 0]\n",
    "    xlim = (min(elem_summary[0]['mdisk'])-0.1, \n",
    "            max(elem_summary[0]['mdisk'])+0.1)\n",
    "    ax.set_xlim(xlim)\n",
    "    ax.set_xticks(np.arange(min(elem_summary[0]['mdisk']), max(elem_summary[0]['mdisk'])+1e-3, 0.2))\n",
    "    ax.set_xticks(np.arange(min(elem_summary[0]['mdisk']), max(elem_summary[0]['mdisk'])+1e-3, 0.1), \n",
    "                  minor=True)\n",
    "\n",
    "    axes[0, 0].set_title('(sensitive to solar motion in $v_z$)', pad=11, fontsize=20)\n",
    "    axes[0, 1].set_title('(sensitive to solar position in $z$)', pad=11, fontsize=20)\n",
    "    axes[1, 0].set_title('(sensitive to local density)', pad=11, fontsize=20)\n",
    "    axes[1, 1].set_title('(verboten)', pad=11, fontsize=20)\n",
    "\n",
    "    fig.tight_layout()\n",
    "    fig.subplots_adjust(hspace=0.3)\n",
    "    \n",
    "    fig.savefig(plot_path / f'coeffs-vs-mdisk-{elem_name}.png', dpi=250)\n",
    "    plt.close(fig)"
   ]
  },
  {
   "cell_type": "markdown",
   "metadata": {},
   "source": [
    "---"
   ]
  },
  {
   "cell_type": "markdown",
   "metadata": {},
   "source": [
    "### Note: below shows results from a test comparing bootstrap estimated coefficient errors to propagated uncertainty"
   ]
  },
  {
   "cell_type": "markdown",
   "metadata": {},
   "source": [
    "Showing that the d_elem distribution has an intrinsic width of ~0.04 dex"
   ]
  },
  {
   "cell_type": "code",
   "execution_count": null,
   "metadata": {},
   "outputs": [],
   "source": [
    "np.mean(d_elem), np.median(d_elem), np.std(d_elem)"
   ]
  },
  {
   "cell_type": "code",
   "execution_count": null,
   "metadata": {},
   "outputs": [],
   "source": [
    "plt.hist(d_elem, bins=np.linspace(-0.2, 0.2, 64));"
   ]
  },
  {
   "cell_type": "markdown",
   "metadata": {},
   "source": [
    "If we run the below, but replacing d_elem_errs with 0.04, the ratio goes to 1"
   ]
  },
  {
   "cell_type": "code",
   "execution_count": null,
   "metadata": {},
   "outputs": [],
   "source": [
    "np.mean(bs_coeffs[:, 3]), coeffs[3]"
   ]
  },
  {
   "cell_type": "code",
   "execution_count": null,
   "metadata": {},
   "outputs": [],
   "source": [
    "for i in range(5):\n",
    "    print(np.std(bs_coeffs[:, i]), np.sqrt(coeffs_cov[i, i]),\n",
    "          np.std(bs_coeffs[:, i]) / np.sqrt(coeffs_cov[i, i]))"
   ]
  }
 ],
 "metadata": {
  "kernelspec": {
   "display_name": "Python [conda env:root] *",
   "language": "python",
   "name": "conda-root-py"
  },
  "language_info": {
   "codemirror_mode": {
    "name": "ipython",
    "version": 3
   },
   "file_extension": ".py",
   "mimetype": "text/x-python",
   "name": "python",
   "nbconvert_exporter": "python",
   "pygments_lexer": "ipython3",
   "version": "3.8.3"
  },
  "toc": {
   "base_numbering": 1,
   "nav_menu": {},
   "number_sections": true,
   "sideBar": true,
   "skip_h1_title": false,
   "title_cell": "Table of Contents",
   "title_sidebar": "Contents",
   "toc_cell": false,
   "toc_position": {},
   "toc_section_display": true,
   "toc_window_display": false
  }
 },
 "nbformat": 4,
 "nbformat_minor": 4
}
