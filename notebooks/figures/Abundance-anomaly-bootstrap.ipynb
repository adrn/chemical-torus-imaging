{
 "cells": [
  {
   "cell_type": "code",
   "execution_count": null,
   "metadata": {},
   "outputs": [],
   "source": [
    "import pathlib\n",
    "import itertools\n",
    "import pickle\n",
    "\n",
    "import astropy.coordinates as coord\n",
    "from astropy.convolution import convolve, Gaussian2DKernel\n",
    "from astropy.io import fits\n",
    "import astropy.table as at\n",
    "import astropy.units as u\n",
    "import matplotlib as mpl\n",
    "import matplotlib.pyplot as plt\n",
    "%matplotlib inline\n",
    "import numpy as np\n",
    "from scipy.stats import binned_statistic\n",
    "from scipy.spatial import cKDTree\n",
    "from scipy.interpolate import interp1d\n",
    "from tqdm.notebook import trange, tqdm\n",
    "\n",
    "# gala\n",
    "import gala.coordinates as gc\n",
    "import gala.dynamics as gd\n",
    "import gala.integrate as gi\n",
    "import gala.potential as gp\n",
    "from gala.units import galactic\n",
    "from gala.mpl_style import hesperia, laguna\n",
    "\n",
    "from thriftshop.config import vcirc, rsun, plot_path, fig_path, cache_path, fiducial_mdisk\n",
    "from thriftshop.config import plot_config as pc\n",
    "from thriftshop.data import load_apogee_sample\n",
    "from thriftshop.potentials import potentials\n",
    "from thriftshop.actions import safe_get_actions, get_w0s_with_same_actions\n",
    "from thriftshop.abundances import get_elem_names, elem_to_label\n",
    "\n",
    "coord.galactocentric_frame_defaults.set('v4.0');"
   ]
  },
  {
   "cell_type": "code",
   "execution_count": null,
   "metadata": {},
   "outputs": [],
   "source": [
    "main_elem = 'MG_FE'"
   ]
  },
  {
   "cell_type": "code",
   "execution_count": null,
   "metadata": {},
   "outputs": [],
   "source": [
    "t, c = load_apogee_sample('../../data/apogee-parent-sample.fits')"
   ]
  },
  {
   "cell_type": "code",
   "execution_count": null,
   "metadata": {},
   "outputs": [],
   "source": [
    "aafs = {}\n",
    "for name in potentials:\n",
    "    filename = cache_path / f'aaf-{name}.fits'\n",
    "    if not filename.exists():\n",
    "        continue\n",
    "    aafs[name] = at.join(at.QTable.read(filename), \n",
    "                         t, \n",
    "                         keys='APOGEE_ID')"
   ]
  },
  {
   "cell_type": "code",
   "execution_count": null,
   "metadata": {},
   "outputs": [],
   "source": [
    "with open(cache_path / 'w0s.pkl', 'rb') as f:\n",
    "    w0s = pickle.load(f)\n",
    "    \n",
    "orbits = {}\n",
    "for k, w0 in w0s.items():\n",
    "    orbits[k] = potentials[k].integrate_orbit(\n",
    "        w0, dt=0.5*u.Myr, t1=0, t2=6*u.Gyr\n",
    "    )"
   ]
  },
  {
   "cell_type": "code",
   "execution_count": null,
   "metadata": {},
   "outputs": [],
   "source": [
    "sorted_keys = sorted(\n",
    "    orbits.keys(), \n",
    "    key=lambda k: potentials[k]['disk'].parameters['m'])\n",
    "sorted_keys = [x for x in sorted_keys if x in aafs]"
   ]
  },
  {
   "cell_type": "code",
   "execution_count": null,
   "metadata": {},
   "outputs": [],
   "source": [
    "all_finite_mask = None\n",
    "for name in sorted_keys:\n",
    "    finite_mask = np.all(np.isfinite(aafs[name]['actions']), axis=1)\n",
    "    if all_finite_mask is None:\n",
    "        all_finite_mask = finite_mask\n",
    "    else:\n",
    "        all_finite_mask &= finite_mask\n",
    "        \n",
    "print(all_finite_mask.sum())"
   ]
  },
  {
   "cell_type": "code",
   "execution_count": null,
   "metadata": {},
   "outputs": [],
   "source": [
    "for name in aafs:\n",
    "    aafs[name] = aafs[name][all_finite_mask]"
   ]
  },
  {
   "cell_type": "code",
   "execution_count": null,
   "metadata": {},
   "outputs": [],
   "source": [
    "class AbundanceTorusMaschine:\n",
    "    \n",
    "    def __init__(self, aaf, tree_K=64, sinusoid_K=2):\n",
    "        \"\"\"\n",
    "        Parameters\n",
    "        ----------\n",
    "        aaf : `astropy.table.Table`\n",
    "            Table of actions, angles, and abundances.\n",
    "        tree_K : int (optional)\n",
    "            The number of neighbors used to estimate the action-local \n",
    "            mean abundances.\n",
    "        sinusoid_K : int (optional)\n",
    "            The number of cos/sin terms in the sinusoid fit to the \n",
    "            abundance anomaly variations with angle.\n",
    "        \"\"\"\n",
    "        \n",
    "        self.aaf = aaf\n",
    "        \n",
    "        # config\n",
    "        self.tree_K = int(tree_K)\n",
    "        self.sinusoid_K = int(sinusoid_K)\n",
    "        \n",
    "    def get_theta_z_anomaly(self, elem_name, action_unit=30*u.km/u.s*u.kpc):\n",
    "        action_unit = u.Quantity(action_unit)\n",
    "        \n",
    "        # Actions without units:\n",
    "        X = self.aaf['actions'].to_value(action_unit)\n",
    "        angz = coord.Angle(self.aaf['angles'][:, 2]).wrap_at(360*u.deg).radian\n",
    "        \n",
    "        # element abundance\n",
    "        elem = self.aaf[elem_name]\n",
    "        elem_errs = self.aaf[f\"{elem_name}_ERR\"]\n",
    "        ivar = 1 / elem_errs**2\n",
    "\n",
    "        tree = cKDTree(X)\n",
    "        dists, idx = tree.query(X, k=self.tree_K+1)\n",
    "        \n",
    "        # compute action-local abundance anomaly\n",
    "        errs = np.sqrt(1 / np.sum(ivar[idx[:, 1:]], axis=1))\n",
    "        means = np.sum(elem[idx[:, 1:]] * ivar[idx[:, 1:]], axis=1) * errs**2\n",
    "        \n",
    "        d_elem = elem - means\n",
    "        d_elem_errs = np.sqrt(elem_errs**2 + errs**2)\n",
    "#         d_elem_errs = np.full_like(d_elem, 0.04)  # MAGIC NUMBER\n",
    "        \n",
    "        return angz, d_elem, d_elem_errs\n",
    "    \n",
    "    def get_M(self, x):\n",
    "        M = np.full((len(x), 1 + 2*self.sinusoid_K), np.nan)\n",
    "        M[:, 0] = 1.\n",
    "\n",
    "        for n in range(self.sinusoid_K):\n",
    "            M[:, 1 + 2*n] = np.cos((n+1) * x)\n",
    "            M[:, 2 + 2*n] = np.sin((n+1) * x)\n",
    "\n",
    "        return M\n",
    "    \n",
    "    def get_coeffs(self, M, y, yerr):\n",
    "        Cinv_diag = 1 / yerr**2\n",
    "        MT_Cinv = M.T * Cinv_diag[None]\n",
    "        MT_Cinv_M = MT_Cinv @ M\n",
    "        coeffs = np.linalg.solve(MT_Cinv_M, MT_Cinv @ y)\n",
    "        coeffs_cov = np.linalg.inv(MT_Cinv_M)\n",
    "        return coeffs, coeffs_cov\n",
    "    \n",
    "    def get_coeffs_for_elem(self, elem_name):\n",
    "        tz, d_elem, d_elem_errs = self.get_theta_z_anomaly(elem_name)\n",
    "        M = self.get_M(tz)\n",
    "        return self.get_coeffs(M, d_elem, d_elem_errs)\n",
    "    \n",
    "    def get_binned_anomaly(self, elem_name, theta_z_step=5*u.deg):\n",
    "        \"\"\"\n",
    "        theta_z_step : `astropy.units.Quantity` [angle] (optional)\n",
    "            The bin step size for the vertical angle bins. This is only\n",
    "            used in methods if `statistic != 'mean'`.\n",
    "        \"\"\"\n",
    "        theta_z_step = coord.Angle(theta_z_step)\n",
    "        angz_bins = np.arange(0, 2*np.pi+1e-4, \n",
    "                              theta_z_step.to_value(u.rad))\n",
    "        theta_z, d_elem, d_elem_errs = self.get_theta_z_anomaly(elem_name)\n",
    "        d_elem_ivar = 1 / d_elem_errs**2\n",
    "#         d_elem_ivar = np.full_like(d_elem, 1 / 0.04**2)  # MAGIC NUMBER\n",
    "        \n",
    "        stat1 = binned_statistic(theta_z, d_elem * d_elem_ivar, \n",
    "                                 bins=angz_bins,\n",
    "                                 statistic='sum')\n",
    "        stat2 = binned_statistic(theta_z, d_elem_ivar, \n",
    "                                 bins=angz_bins,\n",
    "                                 statistic='sum')\n",
    "        \n",
    "        binx = 0.5 * (angz_bins[:-1] + angz_bins[1:])\n",
    "        means = stat1.statistic / stat2.statistic\n",
    "        errs = np.sqrt(1 / stat2.statistic)\n",
    "\n",
    "        return binx, means, errs"
   ]
  },
  {
   "cell_type": "markdown",
   "metadata": {},
   "source": [
    "Visualize results from fitting the full sample for each potential model"
   ]
  },
  {
   "cell_type": "code",
   "execution_count": null,
   "metadata": {},
   "outputs": [],
   "source": [
    "fig, axes = plt.subplots(3, 5, figsize=(15, 10), \n",
    "                         sharex=True, sharey=True)\n",
    "for i, name in enumerate(sorted_keys):\n",
    "    atm = AbundanceTorusMaschine(aafs[name])\n",
    "    \n",
    "    coeffs, coeff_cov = atm.get_coeffs_for_elem(main_elem)\n",
    "    angz, d_elem, d_elem_errs = atm.get_theta_z_anomaly(main_elem)\n",
    "    binx, bin_anom, bin_anom_err = atm.get_binned_anomaly(main_elem)\n",
    "\n",
    "    # ---\n",
    "    \n",
    "    ax = axes.flat[i]\n",
    "    ax.plot(angz, d_elem, \n",
    "            marker='o', ls='none', mew=0, ms=2, alpha=0.3)\n",
    "\n",
    "    ax.plot(binx, bin_anom, \n",
    "            marker='', drawstyle='steps-mid', \n",
    "            zorder=10, color='tab:red', alpha=1)\n",
    "    ax.errorbar(binx, bin_anom, bin_anom_err,\n",
    "                marker='o', ls='none', ecolor='tab:red', \n",
    "                zorder=5, alpha=0.6)\n",
    "    \n",
    "    plot_x = np.linspace(0, 2*np.pi, 1024)\n",
    "    plot_M = atm.get_M(plot_x)\n",
    "    plot_y = plot_M @ coeffs\n",
    "    ax.plot(plot_x, plot_y, marker='', lw=2, color='tab:blue', zorder=100)\n",
    "    \n",
    "    ax.set_title(name, fontsize=18, pad=11)\n",
    "    \n",
    "ax.set_xlim(0, 2*np.pi)\n",
    "ax.set_ylim(-0.025, 0.025)"
   ]
  },
  {
   "cell_type": "code",
   "execution_count": null,
   "metadata": {},
   "outputs": [],
   "source": [
    "def run_bootstrap_coeffs(aafs, elem_name, bootstrap_K=128, seed=42, overwrite=False):\n",
    "    coeffs_cache = cache_path / f'coeffs-bootstrap{bootstrap_K}-{elem_name}.pkl'\n",
    "\n",
    "    if not coeffs_cache.exists() or overwrite:\n",
    "        all_bs_coeffs = {}\n",
    "        for name in tqdm(sorted_keys):\n",
    "            aaf = aafs[name]\n",
    "            \n",
    "            if seed is not None:\n",
    "                np.random.seed(seed)\n",
    "                \n",
    "            bs_coeffs = []\n",
    "            for k in range(bootstrap_K):\n",
    "                bootstrap_idx = np.random.choice(len(aaf), size=len(aaf))\n",
    "                atm = AbundanceTorusMaschine(aaf[bootstrap_idx])\n",
    "                coeffs, _ = atm.get_coeffs_for_elem(elem_name)\n",
    "                bs_coeffs.append(coeffs)\n",
    "\n",
    "            all_bs_coeffs[name] = np.array(bs_coeffs)\n",
    "\n",
    "        with open(coeffs_cache, 'wb') as f:\n",
    "            pickle.dump(all_bs_coeffs, f)\n",
    "\n",
    "    with open(coeffs_cache, 'rb') as f:\n",
    "        all_bs_coeffs = pickle.load(f)\n",
    "        \n",
    "    return all_bs_coeffs"
   ]
  },
  {
   "cell_type": "code",
   "execution_count": null,
   "metadata": {},
   "outputs": [],
   "source": [
    "all_bs_coeffs = run_bootstrap_coeffs(aafs, main_elem)"
   ]
  },
  {
   "cell_type": "code",
   "execution_count": null,
   "metadata": {},
   "outputs": [],
   "source": [
    "angle_label = r'vertical angle, $\\theta_z$ [rad]'"
   ]
  },
  {
   "cell_type": "code",
   "execution_count": null,
   "metadata": {},
   "outputs": [],
   "source": [
    "fig, axes = plt.subplots(1, 3, figsize=(15, 5), sharex=True, sharey=True)\n",
    "\n",
    "plot_x = np.linspace(0, 2*np.pi, 1024)\n",
    "for i, name in enumerate(['0.4', '1.0', '1.6']):\n",
    "    atm = AbundanceTorusMaschine(aafs[name])\n",
    "    bin_x, bin_anom, bin_anom_err = atm.get_binned_anomaly(main_elem)\n",
    "    \n",
    "    ax = axes[i]\n",
    "    \n",
    "    ax.plot(bin_x, bin_anom, \n",
    "            marker='', drawstyle='steps-mid', color='k', lw=2,\n",
    "            label='mean abundance anomaly (data)')\n",
    "    \n",
    "    for j, c in enumerate(all_bs_coeffs[name]):\n",
    "        plot_y = atm.get_M(plot_x) @ c\n",
    "        if j == 0:\n",
    "            label = 'bootstrap samples (model)'\n",
    "        else:\n",
    "            label = None\n",
    "        ax.plot(plot_x, plot_y, \n",
    "                alpha=0.25, color='tab:blue', marker='', lw=1.,\n",
    "                label=label)\n",
    "        \n",
    "    tmp = np.zeros_like(c)\n",
    "    tmp[3] = c[3]\n",
    "    plot_y = atm.get_M(plot_x) @ tmp\n",
    "    ax.plot(plot_x, plot_y, \n",
    "            alpha=0.8, color='tab:red', marker='', lw=2, zorder=100, \n",
    "            label=r'$\\cos(2\\,\\theta_z)$ term of mean model')\n",
    "    \n",
    "    if name == '1.0':\n",
    "        title = r'${\\rm M}_{\\rm disk}$'\n",
    "    else:\n",
    "        title = f'${float(name):.1f}' + r' \\, {\\rm M}_{\\rm disk}$'\n",
    "    ax.set_title(title, pad=11, fontsize=22)\n",
    "\n",
    "    ax.axhline(0, zorder=-100, color='#aaaaaa')\n",
    "\n",
    "    ax.set_xlabel(angle_label)\n",
    "\n",
    "ax = axes[0]\n",
    "ax.set_ylim(-0.01, 0.01)\n",
    "ax.set_ylabel(f'action-local\\n{elem_to_label(main_elem)} anomaly')\n",
    "\n",
    "ax.set_xlim(0, 2*np.pi)\n",
    "ax.set_xticks(np.arange(0, 2+1e-3, 1) * np.pi)\n",
    "ax.set_xticklabels(['0'] + [rf'${x:.0f}\\,\\pi$' for x in np.arange(1, 2+1e-3, 1)])\n",
    "ax.set_xticks(np.arange(0, 2+1e-3, 0.5) * np.pi, minor=True)\n",
    "\n",
    "axes[2].legend(loc='lower right', fontsize=14)\n",
    "\n",
    "fig.tight_layout()\n",
    "fig.set_facecolor('w')\n",
    "\n",
    "fig.savefig(fig_path / 'sinusoid-fits.pdf')"
   ]
  },
  {
   "cell_type": "markdown",
   "metadata": {},
   "source": [
    "---"
   ]
  },
  {
   "cell_type": "code",
   "execution_count": null,
   "metadata": {},
   "outputs": [],
   "source": [
    "from collections import defaultdict"
   ]
  },
  {
   "cell_type": "code",
   "execution_count": null,
   "metadata": {},
   "outputs": [],
   "source": [
    "def get_cos2th_zerocross(coeffs):\n",
    "    summary = defaultdict(lambda *args: defaultdict(list))\n",
    "    for i in range(5):\n",
    "        for k in coeffs:\n",
    "            summary[i]['mdisk'].append(float(k))\n",
    "            summary[i]['y'].append(np.mean(coeffs[k][:, i]))\n",
    "            summary[i]['y_err'].append(np.std(coeffs[k][:, i]))\n",
    "            \n",
    "    # cos2theta term:\n",
    "    s = summary[3]\n",
    "    zero_cross = interp1d(s['y'], s['mdisk'], fill_value=\"extrapolate\")(0.) \n",
    "    zero_cross1 = interp1d(np.array(s['y']) + np.array(s['y_err']), \n",
    "                           s['mdisk'], fill_value=\"extrapolate\")(0.)\n",
    "    zero_cross2 = interp1d(np.array(s['y']) - np.array(s['y_err']), \n",
    "                           s['mdisk'], fill_value=\"extrapolate\")(0.)\n",
    "\n",
    "    zero_cross_err = 0.5 * (zero_cross2 - zero_cross1)\n",
    "    return summary, zero_cross, zero_cross_err"
   ]
  },
  {
   "cell_type": "code",
   "execution_count": null,
   "metadata": {},
   "outputs": [],
   "source": [
    "summary, zero_cross, zero_cross_err = get_cos2th_zerocross(all_bs_coeffs)"
   ]
  },
  {
   "cell_type": "code",
   "execution_count": null,
   "metadata": {},
   "outputs": [],
   "source": [
    "fig, axes = plt.subplots(2, 2, figsize=(12, 9), \n",
    "                         sharex=True, sharey='row')\n",
    "\n",
    "for j, i in enumerate(range(1, 5)):\n",
    "    ax = axes.flat[j]\n",
    "\n",
    "    ax.errorbar(summary[i]['mdisk'], \n",
    "                summary[i]['y'], \n",
    "                summary[i]['y_err'],\n",
    "                marker='o', ecolor='#666666', ls='')\n",
    "    \n",
    "    ax.plot(summary[i]['mdisk'], \n",
    "            summary[i]['y'], \n",
    "            marker='', ls='-', color='#aaaaaa', zorder=-10)\n",
    "    \n",
    "    ax.axhline(0, marker='', zorder=-100, color='tab:green', alpha=0.5)\n",
    "\n",
    "axes[0, 0].set_ylabel(r'$\\cos\\,\\theta_z$ amplitude')\n",
    "axes[0, 1].set_ylabel(r'$\\sin\\,\\theta_z$ amplitude')\n",
    "axes[1, 0].set_ylabel(r'$\\cos\\,2\\theta_z$ amplitude')\n",
    "axes[1, 1].set_ylabel(r'$\\sin\\,2\\theta_z$ amplitude')\n",
    "axes[1, 0].set_xlabel(r'${\\rm factor} \\times {\\rm M}_{\\rm disk}$')\n",
    "axes[1, 1].set_xlabel(r'${\\rm factor} \\times {\\rm M}_{\\rm disk}$')\n",
    "\n",
    "ax = axes[1, 0]\n",
    "xlim = (min(summary[0]['mdisk'])-0.1, \n",
    "        max(summary[0]['mdisk'])+0.1)\n",
    "ax.set_xlim(xlim)\n",
    "ax.set_xticks(np.arange(min(summary[0]['mdisk']), max(summary[0]['mdisk'])+1e-3, 0.2))\n",
    "ax.set_xticks(np.arange(min(summary[0]['mdisk']), max(summary[0]['mdisk'])+1e-3, 0.1), \n",
    "              minor=True)\n",
    "    \n",
    "axes[0, 0].set_title('(sensitive to solar motion in $v_z$)', pad=11, fontsize=20)\n",
    "axes[0, 1].set_title('(sensitive to solar position in $z$)', pad=11, fontsize=20)\n",
    "axes[1, 0].set_title('(sensitive to local density)', pad=11, fontsize=20)\n",
    "axes[1, 1].set_title('(verboten)', pad=11, fontsize=20)\n",
    "\n",
    "fig.tight_layout()\n",
    "fig.subplots_adjust(hspace=0.3)\n",
    "\n",
    "fig.savefig(fig_path / 'coeff-vs-mdisk.pdf')"
   ]
  },
  {
   "cell_type": "markdown",
   "metadata": {},
   "source": [
    "Run all elements:"
   ]
  },
  {
   "cell_type": "code",
   "execution_count": null,
   "metadata": {},
   "outputs": [],
   "source": [
    "elem_names = ['M_H', 'FE_H', 'NI_FE', 'MN_FE',\n",
    "              'ALPHA_M', 'MG_FE', 'SI_FE', 'C_FE']"
   ]
  },
  {
   "cell_type": "code",
   "execution_count": null,
   "metadata": {},
   "outputs": [],
   "source": [
    "def worker(elem_name):\n",
    "    bs_coeffs = run_bootstrap_coeffs(aafs, elem_name)\n",
    "    s, zc, zc_err = get_cos2th_zerocross(bs_coeffs)\n",
    "    return elem_name, [zc, zc_err]"
   ]
  },
  {
   "cell_type": "code",
   "execution_count": null,
   "metadata": {},
   "outputs": [],
   "source": [
    "results = []\n",
    "for elem_name in elem_names:\n",
    "    results.append(worker(elem_name))"
   ]
  },
  {
   "cell_type": "code",
   "execution_count": null,
   "metadata": {},
   "outputs": [],
   "source": [
    "# results = []\n",
    "# with MultiPool() as pool:\n",
    "#     for r in pool.map(worker, elem_names):\n",
    "#         results.append(r)"
   ]
  },
  {
   "cell_type": "code",
   "execution_count": null,
   "metadata": {},
   "outputs": [],
   "source": []
  },
  {
   "cell_type": "markdown",
   "metadata": {},
   "source": [
    "---"
   ]
  },
  {
   "cell_type": "markdown",
   "metadata": {},
   "source": [
    "### Note: below shows results from a test comparing bootstrap estimated coefficient errors to propagated uncertainty"
   ]
  },
  {
   "cell_type": "markdown",
   "metadata": {},
   "source": [
    "Showing that the d_elem distribution has an intrinsic width of ~0.04 dex"
   ]
  },
  {
   "cell_type": "code",
   "execution_count": null,
   "metadata": {},
   "outputs": [],
   "source": [
    "np.mean(d_elem), np.median(d_elem), np.std(d_elem)"
   ]
  },
  {
   "cell_type": "code",
   "execution_count": null,
   "metadata": {},
   "outputs": [],
   "source": [
    "plt.hist(d_elem, bins=np.linspace(-0.2, 0.2, 64));"
   ]
  },
  {
   "cell_type": "markdown",
   "metadata": {},
   "source": [
    "If we run the below, but replacing d_elem_errs with 0.04, the ratio goes to 1"
   ]
  },
  {
   "cell_type": "code",
   "execution_count": null,
   "metadata": {},
   "outputs": [],
   "source": [
    "np.mean(bs_coeffs[:, 3]), coeffs[3]"
   ]
  },
  {
   "cell_type": "code",
   "execution_count": null,
   "metadata": {},
   "outputs": [],
   "source": [
    "for i in range(5):\n",
    "    print(np.std(bs_coeffs[:, i]), np.sqrt(coeffs_cov[i, i]),\n",
    "          np.std(bs_coeffs[:, i]) / np.sqrt(coeffs_cov[i, i]))"
   ]
  }
 ],
 "metadata": {
  "kernelspec": {
   "display_name": "Python [conda env:root] *",
   "language": "python",
   "name": "conda-root-py"
  },
  "language_info": {
   "codemirror_mode": {
    "name": "ipython",
    "version": 3
   },
   "file_extension": ".py",
   "mimetype": "text/x-python",
   "name": "python",
   "nbconvert_exporter": "python",
   "pygments_lexer": "ipython3",
   "version": "3.8.3"
  },
  "toc": {
   "base_numbering": 1,
   "nav_menu": {},
   "number_sections": true,
   "sideBar": true,
   "skip_h1_title": false,
   "title_cell": "Table of Contents",
   "title_sidebar": "Contents",
   "toc_cell": false,
   "toc_position": {},
   "toc_section_display": true,
   "toc_window_display": false
  }
 },
 "nbformat": 4,
 "nbformat_minor": 4
}
