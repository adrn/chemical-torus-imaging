{
 "cells": [
  {
   "cell_type": "code",
   "execution_count": null,
   "metadata": {},
   "outputs": [],
   "source": [
    "import pathlib\n",
    "\n",
    "import astropy.coordinates as coord\n",
    "import astropy.table as at\n",
    "import astropy.units as u\n",
    "import matplotlib as mpl\n",
    "import matplotlib.pyplot as plt\n",
    "%matplotlib inline\n",
    "import numpy as np\n",
    "from scipy.spatial import cKDTree\n",
    "from scipy.stats import binned_statistic\n",
    "from scipy.interpolate import interp1d\n",
    "from tqdm import tqdm\n",
    "\n",
    "# gala\n",
    "import gala.coordinates as gc\n",
    "import gala.dynamics as gd\n",
    "import gala.integrate as gi\n",
    "import gala.potential as gp\n",
    "from gala.units import galactic\n",
    "\n",
    "from totoro.config import galcen_frame, elem_names, plot_config as pc\n",
    "from totoro.abundances import elem_to_label"
   ]
  },
  {
   "cell_type": "code",
   "execution_count": null,
   "metadata": {},
   "outputs": [],
   "source": [
    "tbls = {}\n",
    "for elem in elem_names:\n",
    "    path = pathlib.Path(f\"../../cache/optimize-results-{elem}.csv\")\n",
    "    if not path.exists():\n",
    "        continue\n",
    "    tbls[elem] = at.Table.read(path)"
   ]
  },
  {
   "cell_type": "code",
   "execution_count": null,
   "metadata": {},
   "outputs": [],
   "source": [
    "fiducials = {\n",
    "    'mdisk_f': 1.,\n",
    "    'zsun': 20.8,\n",
    "    'vzsun': 7.78\n",
    "}\n",
    "\n",
    "colcols = [\n",
    "    ('mdisk_f', 'zsun'), \n",
    "    ('mdisk_f', 'vzsun'), \n",
    "    ('zsun', 'vzsun')\n",
    "]\n",
    "\n",
    "fig, axes = plt.subplots(1, 3, figsize=(15, 5))\n",
    "\n",
    "for elem in tbls:\n",
    "    for i, (col1, col2) in enumerate(colcols):\n",
    "        ax = axes[i]\n",
    "        ax.plot(tbls[elem][col1], tbls[elem][col2],\n",
    "                ls='none', marker='o', mew=0, ms=4, \n",
    "                label=elem_to_label(elem))\n",
    "axes[0].legend()\n",
    "\n",
    "axes[0].set_xlabel(r'${\\rm M}_{\\rm disk} / {\\rm M}_{\\rm disk}^\\star$')\n",
    "axes[1].set_xlabel(r'${\\rm M}_{\\rm disk} / {\\rm M}_{\\rm disk}^\\star$')\n",
    "axes[2].set_xlabel(r'$z_\\odot$ [pc]')\n",
    "\n",
    "axes[0].set_ylabel(r'$z_\\odot$ [pc]')\n",
    "axes[1].set_ylabel(r'$v_{z,\\odot}$ ' + f'[{u.km/u.s:latex_inline}]')\n",
    "axes[2].set_ylabel(r'$v_{z,\\odot}$ ' + f'[{u.km/u.s:latex_inline}]')\n",
    "\n",
    "for ax, (col1, col2) in zip(axes, colcols):\n",
    "    ax.axvline(fiducials[col1], zorder=-10, color='#aaaaaa', linestyle='--')\n",
    "    ax.axhline(fiducials[col2], zorder=-10, color='#aaaaaa', linestyle='--')\n",
    "\n",
    "fig.set_facecolor('w')\n",
    "    \n",
    "fig.tight_layout()"
   ]
  },
  {
   "cell_type": "code",
   "execution_count": null,
   "metadata": {},
   "outputs": [],
   "source": [
    "np.mean(tbls['MG_FE']['mdisk_f']), np.std(tbls['MG_FE']['mdisk_f'])"
   ]
  },
  {
   "cell_type": "code",
   "execution_count": null,
   "metadata": {},
   "outputs": [],
   "source": [
    "np.mean(tbls['MG_FE']['zsun']), np.std(tbls['MG_FE']['zsun'])"
   ]
  },
  {
   "cell_type": "code",
   "execution_count": null,
   "metadata": {},
   "outputs": [],
   "source": [
    "np.mean(tbls['MG_FE']['vzsun']), np.std(tbls['MG_FE']['vzsun'])"
   ]
  },
  {
   "cell_type": "markdown",
   "metadata": {},
   "source": [
    "---\n",
    "\n",
    "Plot zsun, vzsun over element contours:"
   ]
  },
  {
   "cell_type": "code",
   "execution_count": null,
   "metadata": {},
   "outputs": [],
   "source": [
    "from scipy.stats import binned_statistic_2d\n",
    "from totoro.data import load_apogee_sample"
   ]
  },
  {
   "cell_type": "code",
   "execution_count": null,
   "metadata": {},
   "outputs": [],
   "source": [
    "t, c = load_apogee_sample('../../data/apogee-parent-sample.fits')"
   ]
  },
  {
   "cell_type": "code",
   "execution_count": null,
   "metadata": {},
   "outputs": [],
   "source": [
    "vsun = galcen_frame.galcen_v_sun.d_xyz.copy()\n",
    "vsun[2] = 0\n",
    "tmp_galcen_frame = coord.Galactocentric(galcen_v_sun=vsun,\n",
    "                                        z_sun=0*u.pc)\n",
    "\n",
    "galcen = c.transform_to(tmp_galcen_frame)\n",
    "z = galcen.z.to_value(pc['zunit'])\n",
    "vz = galcen.v_z.to_value(pc['vunit'])"
   ]
  },
  {
   "cell_type": "code",
   "execution_count": null,
   "metadata": {},
   "outputs": [],
   "source": [
    "vstep = 2.\n",
    "zstep = 50 / 1e3\n",
    "vzz_bins = (np.arange(-pc['vlim'], pc['vlim']+1e-3, vstep),\n",
    "            np.arange(-pc['zlim'], pc['zlim']+1e-3, zstep))"
   ]
  },
  {
   "cell_type": "code",
   "execution_count": null,
   "metadata": {},
   "outputs": [],
   "source": [
    "fig, axes = plt.subplots(2, 4, figsize=(14, 8.7),\n",
    "                         sharex=True, sharey=True, \n",
    "                         constrained_layout=True)\n",
    "\n",
    "for i, (ax, elem_name) in enumerate(zip(axes.flat, elem_names)):\n",
    "    e = t[elem_name]\n",
    "    mask = (e > -3) & (e < 3)\n",
    "    \n",
    "    stat = binned_statistic_2d(vz[mask], z[mask], e[mask], \n",
    "                               statistic='median',\n",
    "                               bins=vzz_bins)\n",
    "    vmin, vmax = np.nanpercentile(e[mask], [16, 84])\n",
    "    \n",
    "    counts, *_ = np.histogram2d(vz[mask], z[mask], \n",
    "                                bins=vzz_bins)\n",
    "\n",
    "    im = stat.statistic.copy()\n",
    "    im[counts < 2] = np.nan\n",
    "    \n",
    "    cs = ax.pcolormesh(stat.x_edge, stat.y_edge, im.T, \n",
    "                       cmap='magma', vmin=vmin, vmax=vmax,\n",
    "                       rasterized=True)\n",
    "    \n",
    "    cb = fig.colorbar(cs, ax=ax, location='top', aspect=10)\n",
    "    elem_label = elem_to_label(elem_name, dollar=False)\n",
    "    cb.set_label(rf'$\\langle {elem_label} \\rangle$', labelpad=12)\n",
    "    \n",
    "    zsun, zsun_err = (-np.mean(tbls[elem_name]['zsun']) / 1e3, \n",
    "                      np.std(tbls[elem_name]['zsun']) / 1e3)\n",
    "    vzsun, vzsun_err = (-np.mean(tbls[elem_name]['vzsun']), \n",
    "                        np.std(tbls[elem_name]['vzsun']))\n",
    "    ax.errorbar(vzsun, zsun, \n",
    "                xerr=vzsun_err, yerr=zsun_err,\n",
    "                marker='o', ls='none',\n",
    "                ms=6, mew=0, zorder=100, color='tab:green', alpha=0.75)\n",
    "    \n",
    "for i in range(axes.shape[0]):\n",
    "    axes[i, 0].set_ylabel(f'$z$ [{pc[\"zunit\"]:latex_inline}]')\n",
    "    \n",
    "for j in range(axes.shape[1]):\n",
    "    axes[-1, j].set_xlabel(f'$v_z$ [{pc[\"vunit\"]:latex_inline}]')\n",
    "\n",
    "ax.set_xticks(np.arange(-pc['vlim'], pc['vlim']+1e-3, 40))\n",
    "ax.set_yticks(np.arange(-pc['zlim'], pc['zlim']+1e-3, 0.75))\n",
    "\n",
    "ax.set_xlim(-pc['vlim'], pc['vlim'])\n",
    "ax.set_ylim(-pc['zlim'], pc['zlim'])\n",
    "    \n",
    "# fig.tight_layout()\n",
    "fig.set_facecolor('w')"
   ]
  },
  {
   "cell_type": "code",
   "execution_count": null,
   "metadata": {},
   "outputs": [],
   "source": []
  }
 ],
 "metadata": {
  "kernelspec": {
   "display_name": "Python [conda env:root] *",
   "language": "python",
   "name": "conda-root-py"
  },
  "language_info": {
   "codemirror_mode": {
    "name": "ipython",
    "version": 3
   },
   "file_extension": ".py",
   "mimetype": "text/x-python",
   "name": "python",
   "nbconvert_exporter": "python",
   "pygments_lexer": "ipython3",
   "version": "3.8.3"
  },
  "toc": {
   "base_numbering": 1,
   "nav_menu": {},
   "number_sections": true,
   "sideBar": true,
   "skip_h1_title": false,
   "title_cell": "Table of Contents",
   "title_sidebar": "Contents",
   "toc_cell": false,
   "toc_position": {},
   "toc_section_display": true,
   "toc_window_display": false
  }
 },
 "nbformat": 4,
 "nbformat_minor": 4
}
