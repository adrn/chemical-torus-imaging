{
 "cells": [
  {
   "cell_type": "code",
   "execution_count": null,
   "metadata": {},
   "outputs": [],
   "source": [
    "import pathlib\n",
    "import itertools\n",
    "import pickle\n",
    "\n",
    "import astropy.coordinates as coord\n",
    "from astropy.convolution import convolve, Gaussian2DKernel\n",
    "from astropy.io import fits\n",
    "import astropy.table as at\n",
    "import astropy.units as u\n",
    "import matplotlib as mpl\n",
    "import matplotlib.pyplot as plt\n",
    "%matplotlib inline\n",
    "import numpy as np\n",
    "from scipy.stats import binned_statistic_2d\n",
    "import corner\n",
    "\n",
    "# gala\n",
    "import gala.coordinates as gc\n",
    "import gala.dynamics as gd\n",
    "import gala.integrate as gi\n",
    "import gala.potential as gp\n",
    "from gala.units import galactic\n",
    "from gala.mpl_style import hesperia, laguna\n",
    "\n",
    "from thriftshop.config import vcirc, rsun, plot_path, fig_path, cache_path, fiducial_mdisk\n",
    "from thriftshop.config import plot_config as pc\n",
    "from thriftshop.config import elem_names\n",
    "from thriftshop.data import load_apogee_sample\n",
    "from thriftshop.potentials import potentials\n",
    "from thriftshop.actions import safe_get_actions, get_w0s_with_same_actions\n",
    "from thriftshop.abundances import get_elem_names, elem_to_label\n",
    "\n",
    "coord.galactocentric_frame_defaults.set('v4.0');"
   ]
  },
  {
   "cell_type": "code",
   "execution_count": null,
   "metadata": {},
   "outputs": [],
   "source": [
    "galcen = coord.Galactocentric()\n",
    "galcen"
   ]
  },
  {
   "cell_type": "code",
   "execution_count": null,
   "metadata": {},
   "outputs": [],
   "source": [
    "galcen.frame_attribute_references"
   ]
  },
  {
   "cell_type": "code",
   "execution_count": null,
   "metadata": {},
   "outputs": [],
   "source": [
    "t, c = load_apogee_sample('../../data/apogee-parent-sample.fits')"
   ]
  },
  {
   "cell_type": "code",
   "execution_count": null,
   "metadata": {},
   "outputs": [],
   "source": [
    "dr16 = at.Table.read('/Users/apricewhelan/data/APOGEE_DR16/allStarLite-r12-l33.fits')\n",
    "in_dr16 = np.isin(t['APOGEE_ID'], dr16['APOGEE_ID'])\n",
    "len(in_dr16), in_dr16.sum(), len(in_dr16) / in_dr16.sum()"
   ]
  },
  {
   "cell_type": "code",
   "execution_count": null,
   "metadata": {},
   "outputs": [],
   "source": [
    "galcen = c.transform_to(coord.Galactocentric)\n",
    "z = galcen.z.to_value(pc['zunit'])\n",
    "vz = galcen.v_z.to_value(pc['vunit'])"
   ]
  },
  {
   "cell_type": "code",
   "execution_count": null,
   "metadata": {},
   "outputs": [],
   "source": [
    "# zlim = 2 # kpc\n",
    "# vlim = 100. # km/s\n",
    "# vstep = 4\n",
    "# zstep = 75 / 1e3\n",
    "# vzz_bins = (np.arange(-vlim, vlim+1e-3, vstep),\n",
    "#             np.arange(-zlim, zlim+1e-3, zstep))\n",
    "\n",
    "# fig, axes = plt.subplots(1, 2, figsize=(12, 5),\n",
    "#                          constrained_layout=True)\n",
    "\n",
    "# elem = t['MG_FE']\n",
    "# stat = binned_statistic_2d(vz, z, elem, statistic='mean',\n",
    "#                            bins=vzz_bins)\n",
    "# vmin, vmax = np.percentile(elem, [15, 85])\n",
    "\n",
    "# ax = axes[0]\n",
    "# cs = ax.pcolormesh(stat.x_edge, stat.y_edge, stat.statistic.T, \n",
    "#                    cmap='cividis', vmin=vmin, vmax=vmax)\n",
    "# cb = fig.colorbar(cs, ax=ax, aspect=40)\n",
    "\n",
    "# ax.set_xlabel('v_z')\n",
    "# ax.set_ylabel('z')\n",
    "\n",
    "# ax = axes[1]\n",
    "# H, *_ = np.histogram2d(vz, z, bins=vzz_bins)\n",
    "# cs = ax.pcolormesh(stat.x_edge, stat.y_edge, H.T, \n",
    "#                    cmap='cividis', \n",
    "#                    norm=mpl.colors.LogNorm(1, 3e2))\n",
    "# cb = fig.colorbar(cs, ax=ax, aspect=40)\n",
    "\n",
    "# ax.set_xlabel('v_z')\n",
    "# # ax.set_ylabel('z')\n",
    "\n",
    "# fig.set_facecolor('w')"
   ]
  },
  {
   "cell_type": "code",
   "execution_count": null,
   "metadata": {},
   "outputs": [],
   "source": [
    "all_elem_names = get_elem_names(t)\n",
    "len(all_elem_names), len(elem_names)"
   ]
  },
  {
   "cell_type": "code",
   "execution_count": null,
   "metadata": {},
   "outputs": [],
   "source": [
    "tmp = []\n",
    "for elem_name in all_elem_names:\n",
    "    mask = (t[elem_name] > -3) & (t[elem_name] < 3)\n",
    "    tmp.append(np.percentile(t[f'{elem_name}_ERR'][mask], 50))\n",
    "sorted_names = np.array(all_elem_names)[np.argsort(tmp)]\n",
    "sorted_tmp = np.sort(tmp)\n",
    "for elem_name, err in zip(sorted_names, sorted_tmp):\n",
    "    print(elem_name, f'{err:.3f}')"
   ]
  },
  {
   "cell_type": "code",
   "execution_count": null,
   "metadata": {},
   "outputs": [],
   "source": [
    "median_elem_errs = dict()\n",
    "for elem_name in elem_names:\n",
    "    mask = (t[elem_name] > -3) & (t[elem_name] < 3)\n",
    "    median_elem_errs[elem_name] = round(np.percentile(t[f'{elem_name}_ERR'][mask], 50), 2)"
   ]
  },
  {
   "cell_type": "code",
   "execution_count": null,
   "metadata": {},
   "outputs": [],
   "source": [
    "vstep = 2.\n",
    "zstep = 50 / 1e3\n",
    "vzz_bins = (np.arange(-pc['vlim'], pc['vlim']+1e-3, vstep),\n",
    "            np.arange(-pc['zlim'], pc['zlim']+1e-3, zstep))"
   ]
  },
  {
   "cell_type": "code",
   "execution_count": null,
   "metadata": {},
   "outputs": [],
   "source": [
    "fig, axes = plt.subplots(2, 4, figsize=(14, 8.5),\n",
    "                         sharex=True, sharey=True, \n",
    "                         constrained_layout=True)\n",
    "\n",
    "for i, (ax, elem_name) in enumerate(zip(axes.flat, elem_names)):\n",
    "    e = t[elem_name]\n",
    "    mask = (e > -3) & (e < 3)\n",
    "    \n",
    "    stat = binned_statistic_2d(vz[mask], z[mask], e[mask], \n",
    "                               statistic='median',\n",
    "                               bins=vzz_bins)\n",
    "    vmin, vmax = np.nanpercentile(e[mask], [16, 84])\n",
    "    \n",
    "    counts, *_ = np.histogram2d(vz[mask], z[mask], \n",
    "                                bins=vzz_bins)\n",
    "\n",
    "    im = stat.statistic.copy()\n",
    "    im[counts < 2] = np.nan\n",
    "    \n",
    "    cs = ax.pcolormesh(stat.x_edge, stat.y_edge, im.T, \n",
    "                       cmap='magma', vmin=vmin, vmax=vmax,\n",
    "                       rasterized=True)\n",
    "    \n",
    "    cb = fig.colorbar(cs, ax=ax, location='top', aspect=10)\n",
    "    elem_label = elem_to_label(elem_name, dollar=False)\n",
    "    cb.set_label(rf'$\\langle {elem_label} \\rangle$', labelpad=12)\n",
    "    \n",
    "for i in range(axes.shape[0]):\n",
    "    axes[i, 0].set_ylabel(f'$z$ [{pc[\"zunit\"]:latex_inline}]')\n",
    "    \n",
    "for j in range(axes.shape[1]):\n",
    "    axes[-1, j].set_xlabel(f'$v_z$ [{pc[\"vunit\"]:latex_inline}]')\n",
    "\n",
    "ax.set_xticks(np.arange(-pc['vlim'], pc['vlim']+1e-3, 50))\n",
    "ax.set_yticks(np.arange(-pc['zlim'], pc['zlim']+1e-3, 1))\n",
    "\n",
    "ax.set_xlim(-pc['vlim'], pc['vlim'])\n",
    "ax.set_ylim(-pc['zlim'], pc['zlim'])\n",
    "    \n",
    "# fig.tight_layout()\n",
    "fig.set_facecolor('w')\n",
    "\n",
    "fig.savefig(fig_path / 'abundance-zvz-grid.pdf', dpi=250)"
   ]
  },
  {
   "cell_type": "markdown",
   "metadata": {},
   "source": [
    "---"
   ]
  },
  {
   "cell_type": "code",
   "execution_count": null,
   "metadata": {},
   "outputs": [],
   "source": [
    "# fig, axes = plt.subplots(4, 5, figsize=(18, 13),\n",
    "#                          sharex=True, sharey=True)\n",
    "\n",
    "# for ax, elem_name in zip(axes.flat, all_elem_names):\n",
    "#     e = t[elem_name]\n",
    "#     mask = (e > -3) & (e < 3)\n",
    "    \n",
    "#     stat = binned_statistic_2d(vz[mask], z[mask], e[mask], \n",
    "#                                statistic='median',\n",
    "#                                bins=vzz_bins)\n",
    "#     vmin, vmax = np.nanpercentile(e[mask], [15, 85])\n",
    "\n",
    "#     cs = ax.pcolormesh(stat.x_edge, stat.y_edge, stat.statistic.T, \n",
    "#                        cmap='Greys', vmin=vmin, vmax=vmax)\n",
    "    \n",
    "#     ax.text(-90, 1.7, elem_to_label(elem_name), \n",
    "#             fontsize=18, ha='left', va='top', \n",
    "#             color='tab:blue', bbox=dict(facecolor=(1.,1.,1.,0.8)))\n",
    "    \n",
    "# for i in range(axes.shape[0]):\n",
    "#     axes[i, 0].set_ylabel(f'$z$ [{u.kpc:latex_inline}]')\n",
    "    \n",
    "# for j in range(axes.shape[1]):\n",
    "#     axes[-1, j].set_xlabel(f'$v_z$ [{u.km/u.s:latex_inline}]')\n",
    "    \n",
    "# fig.tight_layout()\n",
    "# fig.set_facecolor('w')\n",
    "# fig.savefig(plot_path / 'abundance-z-vz-grid-all.png', dpi=250)"
   ]
  },
  {
   "cell_type": "markdown",
   "metadata": {},
   "source": [
    "### Initial conditions for our comparison orbits"
   ]
  },
  {
   "cell_type": "code",
   "execution_count": null,
   "metadata": {},
   "outputs": [],
   "source": [
    "fiducial_w0 = gd.PhaseSpacePosition(\n",
    "    pos=([[-rsun.to_value(u.kpc), 0, 0],\n",
    "          [-rsun.to_value(u.kpc), 0, 0]]*u.kpc).T,\n",
    "    vel=([[15, vcirc.to_value(u.km/u.s), 20.],\n",
    "          [20, vcirc.to_value(u.km/u.s), 45.]]*u.km/u.s).T)"
   ]
  },
  {
   "cell_type": "code",
   "execution_count": null,
   "metadata": {},
   "outputs": [],
   "source": [
    "w0s_cache = cache_path / 'w0s.pkl'\n",
    "\n",
    "if not w0s_cache.exists():\n",
    "    w0s = get_w0s_with_same_actions(fiducial_w0, staeckel=True)\n",
    "\n",
    "    with open(w0s_cache, 'wb') as f:\n",
    "        pickle.dump(w0s, f)\n",
    "\n",
    "with open(w0s_cache, 'rb') as f:\n",
    "    w0s = pickle.load(f)"
   ]
  },
  {
   "cell_type": "code",
   "execution_count": null,
   "metadata": {},
   "outputs": [],
   "source": [
    "orbits = {}\n",
    "for k, w0 in w0s.items():\n",
    "    # print(k)\n",
    "    # print(w0.v_xyz.T)\n",
    "    orbits[k] = potentials[k].integrate_orbit(\n",
    "        w0, dt=0.5*u.Myr, t1=0, t2=6*u.Gyr\n",
    "    )"
   ]
  },
  {
   "cell_type": "markdown",
   "metadata": {},
   "source": [
    "Confirming that the velocities (at constant action value) are smooth functions of the disk mass:"
   ]
  },
  {
   "cell_type": "code",
   "execution_count": null,
   "metadata": {},
   "outputs": [],
   "source": [
    "tmp = ['$v_x$', '$v_z$']\n",
    "for j in [0, 1]: # orbit\n",
    "    fig, axes = plt.subplots(2, 1, figsize=(6, 8), sharex=True)\n",
    "    \n",
    "    for m, i in enumerate([0, 2]): # vx, vz\n",
    "        vxs = []\n",
    "        mdisks = []\n",
    "        for k, w0 in w0s.items():\n",
    "            mdisks.append(float(k))\n",
    "            vxs.append(w0.v_xyz.T[j, i].value)\n",
    "\n",
    "        mdisks = np.array(mdisks)\n",
    "        vxs = np.array(vxs)\n",
    "\n",
    "        axes[m].plot(mdisks[np.argsort(mdisks)], vxs[np.argsort(mdisks)])\n",
    "        axes[m].set_ylabel(tmp[m])\n",
    "    axes[m].set_xlabel(r'$M_{\\rm disk}$')"
   ]
  },
  {
   "cell_type": "markdown",
   "metadata": {},
   "source": [
    "### Compute actions for these orbits with the Sanders & Binney method to compare:"
   ]
  },
  {
   "cell_type": "code",
   "execution_count": null,
   "metadata": {},
   "outputs": [],
   "source": [
    "w0s_actions_cache = cache_path / 'w0s-actions.pkl'\n",
    "\n",
    "if not w0s_actions_cache.exists():\n",
    "    sanders_actions = {}\n",
    "    for name in potentials.keys():\n",
    "        sanders_actions[name] = []\n",
    "        for n in range(w0s[name].shape[0]):\n",
    "            actions = safe_get_actions(potentials[name], w0s[name][n], N_max=8)['actions']\n",
    "            sanders_actions[name].append(actions)\n",
    "        sanders_actions[name] = u.Quantity(sanders_actions[name])\n",
    "\n",
    "    with open(w0s_actions_cache, 'wb') as f:\n",
    "        pickle.dump(sanders_actions, f)\n",
    "        \n",
    "with open(w0s_actions_cache, 'rb') as f:\n",
    "    sanders_actions = pickle.load(f)"
   ]
  },
  {
   "cell_type": "code",
   "execution_count": null,
   "metadata": {},
   "outputs": [],
   "source": [
    "orb1_actions = u.Quantity([v[0] for x, v in sanders_actions.items()])\n",
    "orb2_actions = u.Quantity([v[1] for x, v in sanders_actions.items()])"
   ]
  },
  {
   "cell_type": "code",
   "execution_count": null,
   "metadata": {},
   "outputs": [],
   "source": [
    "np.std(orb1_actions, axis=0) / np.mean(orb1_actions, axis=0)"
   ]
  },
  {
   "cell_type": "code",
   "execution_count": null,
   "metadata": {},
   "outputs": [],
   "source": [
    "np.std(orb2_actions, axis=0) / np.mean(orb2_actions, axis=0)"
   ]
  },
  {
   "cell_type": "markdown",
   "metadata": {},
   "source": [
    "### Visualize the orbits:"
   ]
  },
  {
   "cell_type": "code",
   "execution_count": null,
   "metadata": {},
   "outputs": [],
   "source": [
    "sorted_keys = ['0.4', '1.0', '1.6']"
   ]
  },
  {
   "cell_type": "code",
   "execution_count": null,
   "metadata": {},
   "outputs": [],
   "source": [
    "# -----\n",
    "# vz, z\n",
    "fig, axes = plt.subplots(1, 3, figsize=(15, 5), \n",
    "                         sharex=True, sharey=True)\n",
    "\n",
    "for k, ax in zip(sorted_keys, axes):\n",
    "    _ = orbits[k].plot(['v_z', 'z'], axes=[ax], \n",
    "                       auto_aspect=False, units=[u.km/u.s, u.kpc])\n",
    "    \n",
    "    if k == '1.0':\n",
    "        ax.set_title('fiducial')\n",
    "    else:\n",
    "        ax.set_title(f'${float(k):.1f}' + r' \\, {\\rm M}_{\\rm disk}$')\n",
    "\n",
    "axes[1].set_ylabel('')\n",
    "axes[2].set_ylabel('')\n",
    "\n",
    "axes[0].set_xlim(-pc['vlim'], pc['vlim'])\n",
    "axes[0].set_ylim(-pc['zlim'], pc['zlim'])\n",
    "\n",
    "fig.tight_layout()\n",
    "\n",
    "# -----\n",
    "# R, z\n",
    "\n",
    "fig, axes = plt.subplots(1, 3, figsize=(15, 5), \n",
    "                         sharex=True, sharey=True)\n",
    "\n",
    "for k, ax in zip(sorted_keys, axes):\n",
    "    _ = orbits[k].cylindrical.plot(\n",
    "        ['rho', 'z'], axes=[ax], \n",
    "        auto_aspect=False, units=[u.kpc, u.kpc])\n",
    "    \n",
    "    if k == '1.0':\n",
    "        ax.set_title('fiducial')\n",
    "    else:\n",
    "        ax.set_title(f'${float(k):.1f}' + r' \\, {\\rm M}_{\\rm disk}$')\n",
    "\n",
    "axes[1].set_ylabel('')\n",
    "axes[2].set_ylabel('')\n",
    "\n",
    "axes[0].set_xlim(pc['Rlim'])\n",
    "axes[0].set_ylim(-pc['zlim'], pc['zlim'])\n",
    "\n",
    "fig.tight_layout()"
   ]
  },
  {
   "cell_type": "markdown",
   "metadata": {},
   "source": [
    "### Plot orbits over element contours"
   ]
  },
  {
   "cell_type": "code",
   "execution_count": null,
   "metadata": {},
   "outputs": [],
   "source": [
    "def plot_four_panel_zvz(z, vz, elem, vzz_bins, elem_name,\n",
    "                        symmetrize=False, statistic='mean',\n",
    "                        min_counts=2, stretch_q=(16, 84),\n",
    "                        figsize=(17, 4.75)):\n",
    "    from thriftshop.config import plot_config as pc\n",
    "    \n",
    "    if symmetrize:\n",
    "        quad_vz = np.array([])\n",
    "        quad_z = np.array([])\n",
    "        quad_elem = np.array([])\n",
    "        for i, j in itertools.product([-1,1], [-1, 1]):\n",
    "            quad_vz = np.concatenate((quad_vz, i * vz))\n",
    "            quad_z = np.concatenate((quad_z, j * z))\n",
    "            quad_elem = np.concatenate((quad_elem, elem))\n",
    "        z = quad_z\n",
    "        vz = quad_vz\n",
    "        elem = quad_elem\n",
    "    \n",
    "    stat = binned_statistic_2d(vz, z, elem, \n",
    "                               statistic=statistic,\n",
    "                               bins=vzz_bins)\n",
    "    counts, *_ = np.histogram2d(vz, z, bins=vzz_bins)\n",
    "    \n",
    "    H = stat.statistic.copy()\n",
    "    H[counts < min_counts] = np.nan\n",
    "    \n",
    "    fig, axes = plt.subplots(1, 4, figsize=figsize, \n",
    "                             constrained_layout=True,\n",
    "                             sharex=True, sharey=True)\n",
    "\n",
    "    vmin, vmax = np.percentile(elem, stretch_q)\n",
    "\n",
    "    for ax in axes:\n",
    "        cs = ax.pcolormesh(stat.x_edge, stat.y_edge, \n",
    "                           H.T, cmap='magma', vmin=vmin, vmax=vmax,\n",
    "                           rasterized=True)\n",
    "        ax.set_xlabel(f'$v_z$ [{u.km/u.s:latex_inline}]')\n",
    "\n",
    "    cb = fig.colorbar(cs, ax=axes, aspect=40)\n",
    "    elem_label = elem_to_label(elem_name, dollar=False)\n",
    "    cb.set_label(rf'$\\langle {elem_label} \\rangle$')\n",
    "\n",
    "    for k, color, ax in zip(sorted_keys,\n",
    "                            ['w', 'w', 'w'],\n",
    "                            axes[1:]):\n",
    "        o = orbits[k]\n",
    "        o_z = o.z.to_value(u.kpc)\n",
    "        o_vz = o.v_z.to_value(u.km/u.s)\n",
    "        ax.plot(o_vz, o_z, marker='', color=color, alpha=0.6)\n",
    "\n",
    "        if k == '1.0':\n",
    "            ax.set_title(r'${\\rm M}_{\\rm disk}^\\star = ' + \n",
    "                         f'{fiducial_mdisk.value / 1e10:.3f}' + \n",
    "                         r'\\times 10^{10}\\,{\\rm M}_{\\odot}$', \n",
    "                         pad=11, fontsize=22)\n",
    "        else:\n",
    "            ax.set_title(r'${\\rm M}_{\\rm disk} =' + f' {float(k):.1f}' + \n",
    "                         r' \\, {\\rm M}_{\\rm disk}^\\star$', \n",
    "                         pad=11, fontsize=22)\n",
    "\n",
    "    ax = axes[0]\n",
    "    ax.set_xlim(-pc['vlim'], pc['vlim'])\n",
    "    ax.set_xticks(pc['vticks'])\n",
    "    ax.set_xticks(pc['vminorticks'], minor=True)\n",
    "    ax.set_ylim(-pc['zlim'], pc['zlim'])\n",
    "    ax.set_yticks(pc['zticks'])\n",
    "    ax.set_yticks(pc['zminorticks'], minor=True)\n",
    "\n",
    "    axes[0].set_ylabel(f'$z$ [{u.kpc:latex_inline}]')\n",
    "\n",
    "    fig.set_facecolor('w')\n",
    "    \n",
    "    return fig, axes"
   ]
  },
  {
   "cell_type": "code",
   "execution_count": null,
   "metadata": {},
   "outputs": [],
   "source": [
    "vstep = 2.\n",
    "zstep = 50 / 1e3\n",
    "vzz_bins = (np.arange(-pc['vlim'], pc['vlim']+1e-3, vstep),\n",
    "            np.arange(-pc['zlim'], pc['zlim']+1e-3, zstep))"
   ]
  },
  {
   "cell_type": "code",
   "execution_count": null,
   "metadata": {},
   "outputs": [],
   "source": [
    "elem_name = 'MG_FE'\n",
    "elem_plot_path = plot_path / elem_name\n",
    "elem_plot_path.mkdir(exist_ok=True)\n",
    "\n",
    "elem = t[elem_name]\n",
    "elem_mask = (elem > -3) & (elem < 3)\n",
    "elem = elem[elem_mask]\n",
    "elem_z = z[elem_mask]\n",
    "elem_vz = vz[elem_mask]\n",
    "\n",
    "fig, axes = plot_four_panel_zvz(z[elem_mask], \n",
    "                                vz[elem_mask], \n",
    "                                elem,\n",
    "                                vzz_bins=vzz_bins,\n",
    "                                elem_name=elem_name,\n",
    "                                statistic='mean', \n",
    "                                figsize=(18, 5))\n",
    "\n",
    "fig.suptitle(\"Mean [Mg/Fe] Abundance of APOGEE Stars in Bins of Vertical Kinematics\", \n",
    "             fontsize=28)\n",
    "\n",
    "fig.savefig(fig_path / f'zvz-mean-{elem_name}.pdf')"
   ]
  },
  {
   "cell_type": "markdown",
   "metadata": {},
   "source": [
    "---"
   ]
  },
  {
   "cell_type": "code",
   "execution_count": null,
   "metadata": {},
   "outputs": [],
   "source": [
    "for elem_name in elem_names:\n",
    "    elem_plot_path = plot_path / elem_name\n",
    "    elem_plot_path.mkdir(exist_ok=True)\n",
    "    \n",
    "    elem = t[elem_name]\n",
    "    elem_mask = (elem > -3) & (elem < 3)\n",
    "    elem = elem[elem_mask]\n",
    "    elem_z = z[elem_mask]\n",
    "    elem_vz = vz[elem_mask]\n",
    "    \n",
    "    for bit, name in enumerate(['', '-sym']):\n",
    "        fig, axes = plot_four_panel_zvz(z[elem_mask], \n",
    "                                        vz[elem_mask], \n",
    "                                        elem,\n",
    "                                        vzz_bins=vzz_bins,\n",
    "                                        elem_name=elem_name,\n",
    "                                        symmetrize=bool(bit),\n",
    "                                        figsize=(18, 4.5))\n",
    "        fig.savefig(elem_plot_path / f'orbits-mean-abun-z-vz{name}.pdf', dpi=250)\n",
    "        plt.close(fig)"
   ]
  },
  {
   "cell_type": "code",
   "execution_count": null,
   "metadata": {},
   "outputs": [],
   "source": []
  }
 ],
 "metadata": {
  "kernelspec": {
   "display_name": "Python [conda env:root] *",
   "language": "python",
   "name": "conda-root-py"
  },
  "language_info": {
   "codemirror_mode": {
    "name": "ipython",
    "version": 3
   },
   "file_extension": ".py",
   "mimetype": "text/x-python",
   "name": "python",
   "nbconvert_exporter": "python",
   "pygments_lexer": "ipython3",
   "version": "3.8.3"
  },
  "toc": {
   "base_numbering": 1,
   "nav_menu": {},
   "number_sections": true,
   "sideBar": true,
   "skip_h1_title": false,
   "title_cell": "Table of Contents",
   "title_sidebar": "Contents",
   "toc_cell": false,
   "toc_position": {},
   "toc_section_display": true,
   "toc_window_display": false
  }
 },
 "nbformat": 4,
 "nbformat_minor": 4
}
