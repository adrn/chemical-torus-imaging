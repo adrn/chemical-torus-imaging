{
 "cells": [
  {
   "cell_type": "code",
   "execution_count": null,
   "metadata": {},
   "outputs": [],
   "source": [
    "import astropy.coordinates as coord\n",
    "from astropy.io import fits\n",
    "import astropy.table as at\n",
    "import astropy.units as u\n",
    "import matplotlib as mpl\n",
    "import matplotlib.pyplot as plt\n",
    "from matplotlib.gridspec import GridSpec\n",
    "%matplotlib inline\n",
    "import numpy as np\n",
    "\n",
    "from gala.mpl_style import hesperia, laguna, turbo_r\n",
    "from pyia import GaiaData\n",
    "\n",
    "from totoro.data import APOGEEDataset, datasets\n",
    "from totoro.config import plot_config as pc\n",
    "from totoro.config import fig_path, galcen_frame"
   ]
  },
  {
   "cell_type": "code",
   "execution_count": null,
   "metadata": {},
   "outputs": [],
   "source": [
    "apogee = APOGEEDataset('../../data/apogee-parent.fits')"
   ]
  },
  {
   "cell_type": "code",
   "execution_count": null,
   "metadata": {},
   "outputs": [],
   "source": [
    "data_name = 'apogee-rgb-loalpha'\n",
    "d_lowa = datasets[data_name]\n",
    "\n",
    "d_all = apogee.filter({'LOGG': (d_lowa.t['LOGG'].min(), d_lowa.t['LOGG'].max()),\n",
    "                       'TEFF': (d_lowa.t['TEFF'].min(), d_lowa.t['TEFF'].max()),\n",
    "                       'FE_H': (-3, 1)},\n",
    "                      low_alpha=None)"
   ]
  },
  {
   "cell_type": "code",
   "execution_count": null,
   "metadata": {},
   "outputs": [],
   "source": [
    "len(d_lowa)"
   ]
  },
  {
   "cell_type": "markdown",
   "metadata": {},
   "source": [
    "## Typical uncertainties:"
   ]
  },
  {
   "cell_type": "code",
   "execution_count": null,
   "metadata": {},
   "outputs": [],
   "source": [
    "error_g = d_lowa.g.get_error_samples(size=32)\n",
    "vtan = error_g.vtan.reshape(error_g.vtan.shape[0:1] + (2, -1))"
   ]
  },
  {
   "cell_type": "code",
   "execution_count": null,
   "metadata": {},
   "outputs": [],
   "source": [
    "dist_errs = np.std(error_g.distance, axis=1)\n",
    "np.median(dist_errs)"
   ]
  },
  {
   "cell_type": "code",
   "execution_count": null,
   "metadata": {},
   "outputs": [],
   "source": [
    "np.median(np.std(vtan, axis=0), axis=-1)"
   ]
  },
  {
   "cell_type": "markdown",
   "metadata": {},
   "source": [
    "## Plots:"
   ]
  },
  {
   "cell_type": "code",
   "execution_count": null,
   "metadata": {},
   "outputs": [],
   "source": [
    "vstep = 1.\n",
    "zstep = 50 / 1e3\n",
    "vzz_bins = (np.arange(-pc['vlim'], pc['vlim']+1e-3, vstep),\n",
    "            np.arange(-pc['zlim'], pc['zlim']+1e-3, zstep))"
   ]
  },
  {
   "cell_type": "code",
   "execution_count": null,
   "metadata": {},
   "outputs": [],
   "source": [
    "norm = mpl.colors.LogNorm(vmin=1, vmax=3e2)\n",
    "cmap = 'laguna_r'\n",
    "\n",
    "fig = plt.figure(figsize=(12, 10),\n",
    "                 constrained_layout=True)\n",
    "\n",
    "gs = GridSpec(nrows=2, ncols=2, figure=fig)\n",
    "ax1 = fig.add_subplot(gs[0, :])\n",
    "ax2 = fig.add_subplot(gs[1, 0])\n",
    "ax3 = fig.add_subplot(gs[1, 1])\n",
    "\n",
    "bins = (np.arange(-2., 0.75, 0.01),\n",
    "        np.arange(-0.18, 0.4, 0.005))\n",
    "\n",
    "H, xe, ye = np.histogram2d(d_all.get_elem_ratio('M_H'), \n",
    "                           d_all.get_elem_ratio('ALPHA_M'), \n",
    "                           bins=bins)\n",
    "H_sub, xe, ye = np.histogram2d(d_lowa.get_elem_ratio('M_H'), \n",
    "                               d_lowa.get_elem_ratio('ALPHA_M'), \n",
    "                               bins=bins)\n",
    "\n",
    "ax1.pcolormesh(xe, ye, H.T, norm=norm, cmap='Greys', rasterized=True)\n",
    "cs = ax1.pcolormesh(xe, ye, H_sub.T, norm=norm, cmap=cmap, rasterized=True)\n",
    "\n",
    "ax1.plot(apogee._mh_alpham_nodes[:, 0], \n",
    "         apogee._mh_alpham_nodes[:, 1],\n",
    "         marker='', color='#777777', ls='--', lw=1.5)\n",
    "ax1.set_xlim(-1.5, 0.7)\n",
    "ax1.set_ylim(-0.12, 0.32)\n",
    "ax1.set_xlabel('metallicity, [M/H]')\n",
    "ax1.set_ylabel(r'alpha abundance, [$\\alpha$/M]')\n",
    "\n",
    "ax1.text(-0.2, -0.097, f'{len(d_lowa)} stars', \n",
    "         fontsize=14, ha='left', va='bottom', color='#777777')\n",
    "\n",
    "# ---\n",
    "\n",
    "galcen = d_lowa.c.transform_to(galcen_frame)\n",
    "x = galcen.x.to_value(u.kpc)\n",
    "y = galcen.y.to_value(u.kpc)\n",
    "z = galcen.z.to_value(u.kpc)\n",
    "vz = galcen.v_z.to_value(u.km / u.s)\n",
    "\n",
    "xy_size = 2.1\n",
    "bins = (np.arange(-8.122 - xy_size, -8.122 + xy_size + 1e-3, zstep),\n",
    "        np.arange(-xy_size, xy_size + 1e-3, zstep))\n",
    "H, xe, ye = np.histogram2d(x, y, bins=bins)\n",
    "ax2.pcolormesh(xe, ye, H.T, norm=norm, cmap=cmap, rasterized=True)\n",
    "\n",
    "ax2.set_xlabel('Galactocentric $x$ [kpc]')\n",
    "ax2.set_ylabel('Galactocentric $y$ [kpc]')\n",
    "\n",
    "H, xe, ye = np.histogram2d(vz, z, bins=vzz_bins)\n",
    "ax3.pcolormesh(xe, ye, H.T, norm=norm, cmap=cmap, rasterized=True)\n",
    "\n",
    "ax3.set_xlabel(f'Galactocentric $v_z$ [{u.km/u.s:latex_inline}]')\n",
    "ax3.set_ylabel('Galactocentric $z$ [kpc]')\n",
    "\n",
    "cb = fig.colorbar(cs, ax=ax1, aspect=30)\n",
    "cb.set_label('$N$ stars')\n",
    "\n",
    "ax1.set_title('APOGEE–Gaia Parent Sample', fontsize=24, pad=12)\n",
    "\n",
    "# fig.tight_layout()\n",
    "fig.set_facecolor('w')\n",
    "\n",
    "fig.savefig(fig_path / f'{data_name}-mh-am-xy.pdf', dpi=300)"
   ]
  },
  {
   "cell_type": "code",
   "execution_count": null,
   "metadata": {},
   "outputs": [],
   "source": []
  }
 ],
 "metadata": {
  "kernelspec": {
   "display_name": "Python [conda env:root] *",
   "language": "python",
   "name": "conda-root-py"
  },
  "language_info": {
   "codemirror_mode": {
    "name": "ipython",
    "version": 3
   },
   "file_extension": ".py",
   "mimetype": "text/x-python",
   "name": "python",
   "nbconvert_exporter": "python",
   "pygments_lexer": "ipython3",
   "version": "3.8.3"
  },
  "toc": {
   "base_numbering": 1,
   "nav_menu": {},
   "number_sections": true,
   "sideBar": true,
   "skip_h1_title": false,
   "title_cell": "Table of Contents",
   "title_sidebar": "Contents",
   "toc_cell": false,
   "toc_position": {},
   "toc_section_display": true,
   "toc_window_display": false
  }
 },
 "nbformat": 4,
 "nbformat_minor": 4
}
