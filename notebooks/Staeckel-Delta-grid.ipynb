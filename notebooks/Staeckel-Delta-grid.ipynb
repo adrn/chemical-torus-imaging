{
 "cells": [
  {
   "cell_type": "code",
   "execution_count": null,
   "metadata": {},
   "outputs": [],
   "source": [
    "import astropy.coordinates as coord\n",
    "import astropy.table as at\n",
    "import astropy.units as u\n",
    "import matplotlib as mpl\n",
    "import matplotlib.pyplot as plt\n",
    "%matplotlib inline\n",
    "import numpy as np\n",
    "from scipy.spatial import cKDTree\n",
    "from scipy.stats import binned_statistic\n",
    "from scipy.interpolate import interp1d\n",
    "\n",
    "# gala\n",
    "import gala.coordinates as gc\n",
    "import gala.dynamics as gd\n",
    "import gala.integrate as gi\n",
    "import gala.potential as gp\n",
    "from gala.units import galactic\n",
    "\n",
    "from totoro.config import galcen_frame\n",
    "from totoro.data import load_apogee_sample\n",
    "from totoro.potentials import potentials, galpy_potentials"
   ]
  },
  {
   "cell_type": "code",
   "execution_count": null,
   "metadata": {},
   "outputs": [],
   "source": [
    "t, c = load_apogee_sample('../data/apogee-parent-sample.fits')\n",
    "t = t[np.argsort(t['APOGEE_ID'])]"
   ]
  },
  {
   "cell_type": "code",
   "execution_count": null,
   "metadata": {},
   "outputs": [],
   "source": [
    "galcen = c.transform_to(galcen_frame)\n",
    "w0s = gd.PhaseSpacePosition(galcen.data)"
   ]
  },
  {
   "cell_type": "code",
   "execution_count": null,
   "metadata": {},
   "outputs": [],
   "source": [
    "from galpy.actionAngle import estimateDeltaStaeckel, actionAngleStaeckel\n",
    "from totoro.config import rsun as ro, vcirc as vo\n",
    "from totoro.galpy_helpers import gala_to_galpy_orbit"
   ]
  },
  {
   "cell_type": "markdown",
   "metadata": {},
   "source": [
    "### Compute Staeckel delta on a grid:"
   ]
  },
  {
   "cell_type": "code",
   "execution_count": null,
   "metadata": {},
   "outputs": [],
   "source": [
    "Rz_grids = (np.arange(8-2.5, 8+2.5 + 1e-3, 0.05),\n",
    "            np.arange(-2.5, 2.5 + 1e-3, 0.05))\n",
    "Rz_grid = np.stack(list(map(np.ravel, np.meshgrid(*Rz_grids)))).T"
   ]
  },
  {
   "cell_type": "code",
   "execution_count": null,
   "metadata": {},
   "outputs": [],
   "source": [
    "for pot_name in ['0.4', '1.0', '1.6']:\n",
    "    pot = galpy_potentials[pot_name]\n",
    "\n",
    "    delta_staeckels = []\n",
    "    for i in range(Rz_grid.shape[0]):\n",
    "        R = (Rz_grid[i, 0] * u.kpc).to_value(ro)\n",
    "        z = (Rz_grid[i, 1] * u.kpc).to_value(ro)\n",
    "        delta_staeckels.append(estimateDeltaStaeckel(\n",
    "            pot, R, z))\n",
    "\n",
    "    plt.figure()\n",
    "    plt.title(pot_name)\n",
    "    plt.scatter(Rz_grid[:, 0], Rz_grid[:, 1], \n",
    "                c=delta_staeckels,\n",
    "                vmin=2, vmax=6, s=8, marker='s')"
   ]
  },
  {
   "cell_type": "code",
   "execution_count": null,
   "metadata": {},
   "outputs": [],
   "source": [
    "from scipy.interpolate import NearestNDInterpolator"
   ]
  },
  {
   "cell_type": "code",
   "execution_count": null,
   "metadata": {},
   "outputs": [],
   "source": [
    "pot = galpy_potentials['1.0']\n",
    "\n",
    "delta_staeckels = []\n",
    "for i in range(Rz_grid.shape[0]):\n",
    "    R = (Rz_grid[i, 0] * u.kpc).to_value(ro)\n",
    "    z = (Rz_grid[i, 1] * u.kpc).to_value(ro)\n",
    "    delta_staeckels.append(estimateDeltaStaeckel(\n",
    "        pot, R, z))\n",
    "    \n",
    "delta_interp = NearestNDInterpolator(Rz_grid, \n",
    "                                     delta_staeckels)"
   ]
  },
  {
   "cell_type": "code",
   "execution_count": null,
   "metadata": {},
   "outputs": [],
   "source": [
    "# def fast_actions():\n",
    "\n",
    "deltas = delta_interp(w0s.cylindrical.rho.to_value(u.kpc),\n",
    "                      w0s.z.to_value(u.kpc))\n",
    "\n",
    "o = gala_to_galpy_orbit(w0s)\n",
    "aAS = actionAngleStaeckel(pot=pot, delta=deltas)\n",
    "actions = np.squeeze(aAS(o)).T * ro * vo"
   ]
  },
  {
   "cell_type": "markdown",
   "metadata": {},
   "source": [
    "### Compare to Sanders & Binney actions"
   ]
  },
  {
   "cell_type": "code",
   "execution_count": null,
   "metadata": {},
   "outputs": [],
   "source": [
    "sb_aaf = at.Table.read('../cache_new_zsun/aaf-1.0.fits')\n",
    "sb_aaf = sb_aaf[np.isin(sb_aaf['APOGEE_ID'], t['APOGEE_ID'])]\n",
    "\n",
    "assert len(sb_aaf) == len(t)\n",
    "sb_aaf = sb_aaf[np.argsort(sb_aaf['APOGEE_ID'])] \n",
    "assert np.all(t['APOGEE_ID'] == sb_aaf['APOGEE_ID'])"
   ]
  },
  {
   "cell_type": "code",
   "execution_count": null,
   "metadata": {},
   "outputs": [],
   "source": [
    "sb_actions = sb_aaf['actions']"
   ]
  },
  {
   "cell_type": "code",
   "execution_count": null,
   "metadata": {},
   "outputs": [],
   "source": [
    "actions.shape, sb_actions.shape"
   ]
  },
  {
   "cell_type": "code",
   "execution_count": null,
   "metadata": {},
   "outputs": [],
   "source": [
    "from scipy.stats import binned_statistic\n",
    "from astropy.stats import median_absolute_deviation"
   ]
  },
  {
   "cell_type": "code",
   "execution_count": null,
   "metadata": {},
   "outputs": [],
   "source": [
    "k = 0\n",
    "for k in [0, 2]:\n",
    "    sb_J = sb_actions[:, k]\n",
    "    J = actions[:, k]\n",
    "    mask = np.isfinite(sb_J) & np.isfinite(J)\n",
    "    sb_J = sb_J[mask]\n",
    "    J = J[mask]\n",
    "    stat = binned_statistic(np.log10(sb_J), \n",
    "                            (J - sb_J) / sb_J,\n",
    "                            statistic=lambda x: 1.5 * median_absolute_deviation(x),\n",
    "                            bins=np.arange(-1, 3, 0.1))\n",
    "    bincen = 0.5 * (10 ** stat.bin_edges[:-1] + 10 ** stat.bin_edges[1:])\n",
    "    \n",
    "    fig = plt.figure()\n",
    "    plt.plot(sb_J, (J - sb_J) / sb_J,\n",
    "             alpha=0.1, ls='none', ms=2, mew=0)\n",
    "\n",
    "    plt.plot(bincen, stat.statistic)\n",
    "\n",
    "    plt.xscale('log')\n",
    "    plt.xlim(0.1, 2000)\n",
    "    plt.ylim(-1, 1)\n",
    "    \n",
    "    fig.set_facecolor('w')"
   ]
  },
  {
   "cell_type": "markdown",
   "metadata": {},
   "source": [
    "---"
   ]
  },
  {
   "cell_type": "code",
   "execution_count": null,
   "metadata": {},
   "outputs": [],
   "source": []
  }
 ],
 "metadata": {
  "kernelspec": {
   "display_name": "Python [conda env:root] *",
   "language": "python",
   "name": "conda-root-py"
  },
  "language_info": {
   "codemirror_mode": {
    "name": "ipython",
    "version": 3
   },
   "file_extension": ".py",
   "mimetype": "text/x-python",
   "name": "python",
   "nbconvert_exporter": "python",
   "pygments_lexer": "ipython3",
   "version": "3.8.3"
  },
  "toc": {
   "base_numbering": 1,
   "nav_menu": {},
   "number_sections": true,
   "sideBar": true,
   "skip_h1_title": false,
   "title_cell": "Table of Contents",
   "title_sidebar": "Contents",
   "toc_cell": false,
   "toc_position": {},
   "toc_section_display": true,
   "toc_window_display": false
  }
 },
 "nbformat": 4,
 "nbformat_minor": 4
}
