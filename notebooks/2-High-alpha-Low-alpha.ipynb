{
 "cells": [
  {
   "cell_type": "code",
   "execution_count": null,
   "metadata": {},
   "outputs": [],
   "source": [
    "import astropy.coordinates as coord\n",
    "from astropy.io import fits\n",
    "import astropy.table as at\n",
    "import astropy.units as u\n",
    "import matplotlib as mpl\n",
    "import matplotlib.pyplot as plt\n",
    "%matplotlib inline\n",
    "import numpy as np\n",
    "from gala.mpl_style import hesperia_r\n",
    "\n",
    "from totoro.data import apogee, galah\n",
    "from totoro.config import galcen_frame"
   ]
  },
  {
   "cell_type": "code",
   "execution_count": null,
   "metadata": {},
   "outputs": [],
   "source": [
    "mh_am_bins = (np.arange(-2., 0.75, 0.01),\n",
    "              np.arange(-0.18, 0.4, 0.005))"
   ]
  },
  {
   "cell_type": "markdown",
   "metadata": {},
   "source": [
    "# APOGEE"
   ]
  },
  {
   "cell_type": "code",
   "execution_count": null,
   "metadata": {},
   "outputs": [],
   "source": [
    "apogee_rgb = apogee.filter({'LOGG': (1, 3.),\n",
    "                            'TEFF': (3500, 6500)})\n",
    "\n",
    "apogee_ms = apogee.filter({'LOGG': (3.75, 5),\n",
    "                           'TEFF': (3500, 6500)})"
   ]
  },
  {
   "cell_type": "code",
   "execution_count": null,
   "metadata": {},
   "outputs": [],
   "source": [
    "apogee_mh_alpham_nodes = np.array([\n",
    "    [0.6, -0.05],\n",
    "    [0.6, 0.04],\n",
    "    [0.15, 0.04],\n",
    "    [-0.5, 0.13],\n",
    "    [-0.9, 0.13],\n",
    "    [-1., 0.07],\n",
    "    [-0.2, -0.1],\n",
    "    [0.2, -0.1],\n",
    "    [0.6, -0.05]]\n",
    ")"
   ]
  },
  {
   "cell_type": "code",
   "execution_count": null,
   "metadata": {},
   "outputs": [],
   "source": [
    "fig, axes = plt.subplots(1, 3, figsize=(15, 5), \n",
    "                         sharex=True, sharey=True)\n",
    "\n",
    "for i, d in enumerate([apogee, apogee_ms, apogee_rgb]):\n",
    "    ax = axes[i]\n",
    "\n",
    "    H, xe, ye = np.histogram2d(d.t['TEFF'], \n",
    "                               d.t['LOGG'],\n",
    "                               bins=(np.arange(3000, 7000+1e-3, 50),\n",
    "                                     np.arange(0, 5.5+1e-3, 0.02)))\n",
    "\n",
    "    ax.pcolormesh(xe, ye, H.T, norm=mpl.colors.LogNorm(), \n",
    "                  cmap=hesperia_r, rasterized=True)\n",
    "    \n",
    "ax.set_xlim(7000, 3000)\n",
    "ax.set_ylim(5.5, 0)\n",
    "\n",
    "#     ax.set_xlabel('metallicity, [M/H]')\n",
    "#     ax.set_ylabel(r'alpha abundance, [$\\alpha$/M]')\n",
    "\n",
    "fig.tight_layout()\n",
    "fig.set_facecolor('w')"
   ]
  },
  {
   "cell_type": "code",
   "execution_count": null,
   "metadata": {},
   "outputs": [],
   "source": [
    "for d in [apogee_ms, apogee_rgb]:\n",
    "    fig, ax = plt.subplots(figsize=(8, 5))\n",
    "\n",
    "    H, xe, ye = np.histogram2d(d.t['M_H'], \n",
    "                               d.t['ALPHA_M'],\n",
    "                               bins=mh_am_bins)\n",
    "\n",
    "    ax.pcolormesh(xe, ye, H.T, norm=mpl.colors.LogNorm(), \n",
    "                  cmap=hesperia_r, rasterized=True)\n",
    "\n",
    "    ax.plot(apogee_mh_alpham_nodes[:, 0], \n",
    "            apogee_mh_alpham_nodes[:, 1],\n",
    "            marker='', color='#777777', ls='--', lw=1.5)\n",
    "    ax.set_xlim(-1.5, 0.7)\n",
    "    ax.set_ylim(-0.12, 0.32)\n",
    "    ax.set_xlabel('metallicity, [M/H]')\n",
    "    ax.set_ylabel(r'alpha abundance, [$\\alpha$/M]')\n",
    "\n",
    "    fig.tight_layout()\n",
    "    fig.set_facecolor('w')"
   ]
  },
  {
   "cell_type": "code",
   "execution_count": null,
   "metadata": {},
   "outputs": [],
   "source": [
    "fig, axes = plt.subplots(1, 3, figsize=(15, 5), \n",
    "                         sharex=True, sharey=True)\n",
    "\n",
    "for i, d in enumerate([apogee, apogee_ms, apogee_rgb]):\n",
    "    ax = axes[i]\n",
    "    \n",
    "    galcen = d.c.transform_to(galcen_frame)\n",
    "    H, xe, ye = np.histogram2d(galcen.v_z.to_value(u.km/u.s), \n",
    "                               galcen.z.to_value(u.kpc),\n",
    "                               bins=(np.arange(-100, 100+1e-3, 1.5),\n",
    "                                     np.arange(-2, 2+1e-3, 0.03)))\n",
    "\n",
    "    ax.pcolormesh(xe, ye, H.T, norm=mpl.colors.LogNorm(), \n",
    "                  cmap=hesperia_r, rasterized=True)\n",
    "    \n",
    "ax.set_xlim(-100, 100)\n",
    "ax.set_ylim(-2, 2)\n",
    "\n",
    "#     ax.set_xlabel('metallicity, [M/H]')\n",
    "#     ax.set_ylabel(r'alpha abundance, [$\\alpha$/M]')\n",
    "\n",
    "fig.tight_layout()\n",
    "fig.set_facecolor('w')"
   ]
  },
  {
   "cell_type": "markdown",
   "metadata": {},
   "source": [
    "# GALAH"
   ]
  },
  {
   "cell_type": "code",
   "execution_count": null,
   "metadata": {},
   "outputs": [],
   "source": [
    "galah_rgb = galah.filter({'logg': (1, 3.3),\n",
    "                          'teff': (3500, 6500)})\n",
    "\n",
    "galah_ms = galah.filter({'logg': (3.5, 5),\n",
    "                         'teff': (3500, 6500)})"
   ]
  },
  {
   "cell_type": "code",
   "execution_count": null,
   "metadata": {},
   "outputs": [],
   "source": [
    "galah_mh_alpham_nodes = np.array([\n",
    "    [0.6, -0.05],\n",
    "    [0.6, 0.04],\n",
    "    [0.15, 0.04],\n",
    "    [-0.5, 0.13],\n",
    "    [-0.9, 0.13],\n",
    "    [-1., 0.07],\n",
    "    [-0.2, -0.15],\n",
    "    [0.2, -0.15],\n",
    "    [0.6, -0.07]]\n",
    ")\n",
    "galah_mh_alpham_nodes[:, 1] += 0.04"
   ]
  },
  {
   "cell_type": "code",
   "execution_count": null,
   "metadata": {},
   "outputs": [],
   "source": [
    "fig, axes = plt.subplots(1, 3, figsize=(15, 5), \n",
    "                         sharex=True, sharey=True)\n",
    "\n",
    "for i, d in enumerate([galah, galah_ms, galah_rgb]):\n",
    "    ax = axes[i]\n",
    "\n",
    "    H, xe, ye = np.histogram2d(d.t['teff'].value, \n",
    "                               d.t['logg'].value,\n",
    "                               bins=(np.arange(3000, 7000+1e-3, 50),\n",
    "                                     np.arange(0, 5.5+1e-3, 0.02)))\n",
    "\n",
    "    ax.pcolormesh(xe, ye, H.T, norm=mpl.colors.LogNorm(), \n",
    "                  cmap=hesperia_r, rasterized=True)\n",
    "    \n",
    "ax.set_xlim(7000, 3000)\n",
    "ax.set_ylim(5.5, 0)\n",
    "\n",
    "#     ax.set_xlabel('metallicity, [M/H]')\n",
    "#     ax.set_ylabel(r'alpha abundance, [$\\alpha$/M]')\n",
    "\n",
    "fig.tight_layout()\n",
    "fig.set_facecolor('w')"
   ]
  },
  {
   "cell_type": "code",
   "execution_count": null,
   "metadata": {},
   "outputs": [],
   "source": [
    "for d in [galah_ms, galah_rgb]:\n",
    "    fig, ax = plt.subplots(figsize=(8, 5))\n",
    "\n",
    "    H, xe, ye = np.histogram2d(d.t['FE_H'], \n",
    "                               d.t['ALPHA_FE'],\n",
    "                               bins=mh_am_bins)\n",
    "\n",
    "    ax.pcolormesh(xe, ye, H.T, norm=mpl.colors.LogNorm(), \n",
    "                  cmap=hesperia_r, rasterized=True)\n",
    "\n",
    "    ax.plot(galah_mh_alpham_nodes[:, 0], \n",
    "            galah_mh_alpham_nodes[:, 1],\n",
    "            marker='', color='#777777', ls='--', lw=1.5)\n",
    "    ax.set_xlim(-1.5, 0.7)\n",
    "    ax.set_ylim(-0.12, 0.32)\n",
    "    ax.set_xlabel('metallicity, [M/H]')\n",
    "    ax.set_ylabel(r'alpha abundance, [$\\alpha$/M]')\n",
    "\n",
    "    fig.tight_layout()\n",
    "    fig.set_facecolor('w')"
   ]
  },
  {
   "cell_type": "code",
   "execution_count": null,
   "metadata": {},
   "outputs": [],
   "source": [
    "fig, axes = plt.subplots(1, 3, figsize=(15, 5), \n",
    "                         sharex=True, sharey=True)\n",
    "\n",
    "for i, d in enumerate([galah, galah_ms, galah_rgb]):\n",
    "    ax = axes[i]\n",
    "    \n",
    "    galcen = d.c.transform_to(galcen_frame)\n",
    "    H, xe, ye = np.histogram2d(galcen.v_z.to_value(u.km/u.s), \n",
    "                               galcen.z.to_value(u.kpc),\n",
    "                               bins=(np.arange(-100, 100+1e-3, 2),\n",
    "                                     np.arange(-2, 2+1e-3, 0.05)))\n",
    "\n",
    "    ax.pcolormesh(xe, ye, H.T, norm=mpl.colors.LogNorm(), \n",
    "                  cmap=hesperia_r, rasterized=True)\n",
    "    \n",
    "ax.set_xlim(-100, 100)\n",
    "ax.set_ylim(-2, 2)\n",
    "\n",
    "#     ax.set_xlabel('metallicity, [M/H]')\n",
    "#     ax.set_ylabel(r'alpha abundance, [$\\alpha$/M]')\n",
    "\n",
    "fig.tight_layout()\n",
    "fig.set_facecolor('w')"
   ]
  },
  {
   "cell_type": "code",
   "execution_count": null,
   "metadata": {},
   "outputs": [],
   "source": []
  }
 ],
 "metadata": {
  "kernelspec": {
   "display_name": "Python [conda env:root] *",
   "language": "python",
   "name": "conda-root-py"
  },
  "language_info": {
   "codemirror_mode": {
    "name": "ipython",
    "version": 3
   },
   "file_extension": ".py",
   "mimetype": "text/x-python",
   "name": "python",
   "nbconvert_exporter": "python",
   "pygments_lexer": "ipython3",
   "version": "3.8.3"
  },
  "toc": {
   "base_numbering": 1,
   "nav_menu": {},
   "number_sections": true,
   "sideBar": true,
   "skip_h1_title": false,
   "title_cell": "Table of Contents",
   "title_sidebar": "Contents",
   "toc_cell": false,
   "toc_position": {},
   "toc_section_display": true,
   "toc_window_display": false
  }
 },
 "nbformat": 4,
 "nbformat_minor": 4
}
