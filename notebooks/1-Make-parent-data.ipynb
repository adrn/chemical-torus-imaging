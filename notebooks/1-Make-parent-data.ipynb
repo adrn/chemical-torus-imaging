{
 "cells": [
  {
   "cell_type": "code",
   "execution_count": null,
   "metadata": {},
   "outputs": [],
   "source": [
    "import astropy.coordinates as coord\n",
    "from astropy.io import fits\n",
    "import astropy.table as at\n",
    "import astropy.units as u\n",
    "import matplotlib as mpl\n",
    "import matplotlib.pyplot as plt\n",
    "%matplotlib inline\n",
    "import numpy as np\n",
    "\n",
    "from totoro.config import apogee_parent_filename, galah_parent_filename"
   ]
  },
  {
   "cell_type": "markdown",
   "metadata": {},
   "source": [
    "### First, define the Gaia parallax selected source catalogs:"
   ]
  },
  {
   "cell_type": "code",
   "execution_count": null,
   "metadata": {},
   "outputs": [],
   "source": [
    "plx_cut = 0.5\n",
    "plx_snr_cut = 8"
   ]
  },
  {
   "cell_type": "code",
   "execution_count": null,
   "metadata": {},
   "outputs": [],
   "source": [
    "if not apogee_parent_filename.exists():\n",
    "    apogee = at.Table.read('/Users/apricewhelan/data/APOGEE_beta/allStarLite-r13-l33-58932beta-GaiaDR2-xmatch.fits')\n",
    "    mask = ((apogee['parallax'] > plx_cut) &\n",
    "            ((apogee['parallax'] / apogee['parallax_error']) > plx_snr_cut))\n",
    "    apogee = apogee[mask]\n",
    "    apogee.write(apogee_parent_filename)"
   ]
  },
  {
   "cell_type": "code",
   "execution_count": null,
   "metadata": {},
   "outputs": [],
   "source": [
    "if not galah_parent_filename.exists():\n",
    "    galah = at.Table.read('/Users/apricewhelan/data/Galah/GALAH_DR2.1-GaiaDR2-xmatch.fits')\n",
    "    mask = ((galah['parallax'] > plx_cut) &\n",
    "            ((galah['parallax'] / galah['parallax_error']) > plx_snr_cut))\n",
    "    galah = galah[mask]\n",
    "    galah.write(galah_parent_filename)"
   ]
  },
  {
   "cell_type": "markdown",
   "metadata": {},
   "source": [
    "Add any new data sources here, add the parent filename to `totoro/config.py`, then load the dataset into `datasets` in `totoro/data.py`"
   ]
  }
 ],
 "metadata": {
  "kernelspec": {
   "display_name": "Python [conda env:root] *",
   "language": "python",
   "name": "conda-root-py"
  },
  "language_info": {
   "codemirror_mode": {
    "name": "ipython",
    "version": 3
   },
   "file_extension": ".py",
   "mimetype": "text/x-python",
   "name": "python",
   "nbconvert_exporter": "python",
   "pygments_lexer": "ipython3",
   "version": "3.8.3"
  },
  "toc": {
   "base_numbering": 1,
   "nav_menu": {},
   "number_sections": true,
   "sideBar": true,
   "skip_h1_title": false,
   "title_cell": "Table of Contents",
   "title_sidebar": "Contents",
   "toc_cell": false,
   "toc_position": {},
   "toc_section_display": true,
   "toc_window_display": false
  }
 },
 "nbformat": 4,
 "nbformat_minor": 4
}
