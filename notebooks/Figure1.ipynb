{
 "cells": [
  {
   "cell_type": "code",
   "execution_count": null,
   "metadata": {},
   "outputs": [],
   "source": [
    "import os\n",
    "import pickle\n",
    "\n",
    "import astropy.coordinates as coord\n",
    "from astropy.convolution import convolve, Gaussian2DKernel\n",
    "from astropy.io import fits\n",
    "import astropy.table as at\n",
    "import astropy.units as u\n",
    "import matplotlib as mpl\n",
    "import matplotlib.pyplot as plt\n",
    "%matplotlib inline\n",
    "import numpy as np\n",
    "from scipy.stats import binned_statistic_2d\n",
    "import corner\n",
    "\n",
    "# gala\n",
    "import gala.coordinates as gc\n",
    "import gala.dynamics as gd\n",
    "import gala.integrate as gi\n",
    "import gala.potential as gp\n",
    "from gala.units import galactic\n",
    "\n",
    "from thriftshop.potentials import potentials\n",
    "from thriftshop.config import vcirc, rsun\n",
    "from thriftshop.actions import safe_get_actions, get_w0s_with_same_actions\n",
    "\n",
    "coord.galactocentric_frame_defaults.set('v4.0');"
   ]
  },
  {
   "cell_type": "code",
   "execution_count": null,
   "metadata": {},
   "outputs": [],
   "source": [
    "t = at.Table.read('../data/apogee-parent-sample.fits')\n",
    "t = t[t['GAIA_PARALLAX'] > 0.5]\n",
    "len(t)"
   ]
  },
  {
   "cell_type": "code",
   "execution_count": null,
   "metadata": {},
   "outputs": [],
   "source": [
    "c = coord.SkyCoord(ra=t['RA']*u.deg,\n",
    "                   dec=t['DEC']*u.deg,\n",
    "                   distance=1000 / t['GAIA_PARALLAX'] * u.pc,\n",
    "                   pm_ra_cosdec=t['GAIA_PMRA']*u.mas/u.yr,\n",
    "                   pm_dec=t['GAIA_PMDEC']*u.mas/u.yr,\n",
    "                   radial_velocity=t['VHELIO_AVG']*u.km/u.s)\n",
    "galcen = c.transform_to(coord.Galactocentric)"
   ]
  },
  {
   "cell_type": "code",
   "execution_count": null,
   "metadata": {},
   "outputs": [],
   "source": [
    "z = galcen.z.to_value(u.kpc)\n",
    "vz = galcen.v_z.to_value(u.km/u.s)\n",
    "elem = t['MG_FE']\n",
    "# elem = t['MN_FE']"
   ]
  },
  {
   "cell_type": "code",
   "execution_count": null,
   "metadata": {},
   "outputs": [],
   "source": [
    "zlim = 2 # kpc\n",
    "vlim = 100. # km/s\n",
    "vstep = 4\n",
    "zstep = 75 / 1e3\n",
    "vzz_bins = (np.arange(-vlim, vlim+1e-3, vstep),\n",
    "            np.arange(-zlim, zlim+1e-3, zstep))\n",
    "\n",
    "fig, axes = plt.subplots(1, 2, figsize=(12, 5),\n",
    "                         constrained_layout=True)\n",
    "\n",
    "stat = binned_statistic_2d(vz, z, elem, statistic='mean',\n",
    "                           bins=vzz_bins)\n",
    "\n",
    "vmin, vmax = np.percentile(elem, [15, 85])\n",
    "\n",
    "ax = axes[0]\n",
    "cs = ax.pcolormesh(stat.x_edge, stat.y_edge, stat.statistic.T, \n",
    "                   cmap='cividis', vmin=vmin, vmax=vmax)\n",
    "cb = fig.colorbar(cs, ax=ax, aspect=40)\n",
    "\n",
    "ax.set_xlabel('v_z')\n",
    "ax.set_ylabel('z')\n",
    "\n",
    "ax = axes[1]\n",
    "H, *_ = np.histogram2d(vz, z, bins=vzz_bins)\n",
    "cs = ax.pcolormesh(stat.x_edge, stat.y_edge, H.T, \n",
    "                   cmap='cividis', \n",
    "                   norm=mpl.colors.LogNorm(1, 3e2))\n",
    "cb = fig.colorbar(cs, ax=ax, aspect=40)\n",
    "\n",
    "ax.set_xlabel('v_z')\n",
    "# ax.set_ylabel('z')\n",
    "\n",
    "fig.set_facecolor('w')\n",
    "\n",
    "# ---\n",
    "\n",
    "# fig, ax = plt.subplots(figsize=(6, 5))\n",
    "\n",
    "# stat = binned_statistic_2d(vz, z, elem, statistic='mean',\n",
    "#                            bins=vzz_bins)\n",
    "\n",
    "# vmin, vmax = np.percentile(elem, [15, 85])\n",
    "\n",
    "# HH = stat.statistic.copy()\n",
    "# HH[H < 3] = np.nan\n",
    "# cs = ax.pcolormesh(stat.x_edge, stat.y_edge, \n",
    "#                    HH.T, cmap='cividis', vmin=vmin, vmax=vmax)\n",
    "# cb = fig.colorbar(cs, ax=ax, aspect=40)\n",
    "\n",
    "# ax.set_xlabel('v_z')\n",
    "# ax.set_ylabel('z')\n",
    "# fig.tight_layout()"
   ]
  },
  {
   "cell_type": "markdown",
   "metadata": {},
   "source": [
    "### Initial conditions for our comparison orbits"
   ]
  },
  {
   "cell_type": "code",
   "execution_count": null,
   "metadata": {},
   "outputs": [],
   "source": [
    "fiducial_w0 = gd.PhaseSpacePosition(\n",
    "    pos=([[-rsun.to_value(u.kpc), 0, 0],\n",
    "          [-rsun.to_value(u.kpc), 0, 0]]*u.kpc).T,\n",
    "    vel=([[15, vcirc.to_value(u.km/u.s), 20.],\n",
    "          [15, vcirc.to_value(u.km/u.s), 45.]]*u.km/u.s).T)"
   ]
  },
  {
   "cell_type": "code",
   "execution_count": null,
   "metadata": {},
   "outputs": [],
   "source": [
    "w0s = get_w0s_with_same_actions(fiducial_w0, staeckel=True)"
   ]
  },
  {
   "cell_type": "code",
   "execution_count": null,
   "metadata": {},
   "outputs": [],
   "source": [
    "with open('../cache/w0s.pkl', 'wb') as f:\n",
    "    pickle.dump(w0s, f)"
   ]
  },
  {
   "cell_type": "code",
   "execution_count": null,
   "metadata": {},
   "outputs": [],
   "source": [
    "orbits = {}\n",
    "for k, w0 in w0s.items():\n",
    "    print(k)\n",
    "    print(w0.v_xyz.T)\n",
    "    orbits[k] = potentials[k].integrate_orbit(\n",
    "        w0, dt=0.5*u.Myr, t1=0, t2=6*u.Gyr\n",
    "    )"
   ]
  },
  {
   "cell_type": "markdown",
   "metadata": {},
   "source": [
    "### Compute actions for these orbits with the Sanders & Binney method to compare:"
   ]
  },
  {
   "cell_type": "code",
   "execution_count": null,
   "metadata": {},
   "outputs": [],
   "source": [
    "sanders_actions = {}\n",
    "for name in potentials.keys():\n",
    "    sanders_actions[name] = []\n",
    "    for n in range(w0s[name].shape[0]):\n",
    "        actions = safe_get_actions(potentials[name], w0s[name][n], N_max=8)['actions']\n",
    "        sanders_actions[name].append(actions)\n",
    "    sanders_actions[name] = u.Quantity(sanders_actions[name])"
   ]
  },
  {
   "cell_type": "code",
   "execution_count": null,
   "metadata": {},
   "outputs": [],
   "source": [
    "[v[0] for x, v in sanders_actions.items()]  # Orbit 1"
   ]
  },
  {
   "cell_type": "code",
   "execution_count": null,
   "metadata": {},
   "outputs": [],
   "source": [
    "[v[1] for x, v in sanders_actions.items()]  # Orbit 2"
   ]
  },
  {
   "cell_type": "code",
   "execution_count": null,
   "metadata": {},
   "outputs": [],
   "source": [
    "with open('../cache/w0s-actions.pkl', 'wb') as f:\n",
    "    pickle.dump(sanders_actions, f)"
   ]
  },
  {
   "cell_type": "markdown",
   "metadata": {},
   "source": [
    "### Visualize the orbits:"
   ]
  },
  {
   "cell_type": "code",
   "execution_count": null,
   "metadata": {},
   "outputs": [],
   "source": [
    "sorted_keys = ['0.4', 'fiducial', '1.6']"
   ]
  },
  {
   "cell_type": "code",
   "execution_count": null,
   "metadata": {},
   "outputs": [],
   "source": [
    "plot_zlim = 1.75\n",
    "plot_vzlim = 100\n",
    "\n",
    "# -----\n",
    "# vz, z\n",
    "fig, axes = plt.subplots(1, 3, figsize=(15, 5), \n",
    "                         sharex=True, sharey=True)\n",
    "\n",
    "for k, ax in zip(sorted_keys, axes):\n",
    "    _ = orbits[k].plot(['v_z', 'z'], axes=[ax], \n",
    "                       auto_aspect=False, units=[u.km/u.s, u.kpc])\n",
    "    try:\n",
    "        ax.set_title(f'${float(k):.1f}' + r' \\, {\\rm M}_{\\rm disk}$')\n",
    "    except ValueError:\n",
    "        ax.set_title(f'{k}')\n",
    "\n",
    "axes[1].set_ylabel('')\n",
    "axes[2].set_ylabel('')\n",
    "\n",
    "axes[0].set_xlim(-plot_vzlim, plot_vzlim)\n",
    "axes[0].set_ylim(-plot_zlim, plot_zlim)\n",
    "\n",
    "fig.tight_layout()\n",
    "\n",
    "# -----\n",
    "# R, z\n",
    "\n",
    "fig, axes = plt.subplots(1, 3, figsize=(15, 5), \n",
    "                         sharex=True, sharey=True)\n",
    "\n",
    "for k, ax in zip(sorted_keys, axes):\n",
    "    _ = orbits[k].cylindrical.plot(\n",
    "        ['rho', 'z'], axes=[ax], \n",
    "        auto_aspect=False, units=[u.kpc, u.kpc])\n",
    "    \n",
    "    try:\n",
    "        ax.set_title(f'${float(k):.1f}' + r' \\, {\\rm M}_{\\rm disk}$')\n",
    "    except ValueError:\n",
    "        ax.set_title(f'{k}')\n",
    "\n",
    "axes[1].set_ylabel('')\n",
    "axes[2].set_ylabel('')\n",
    "\n",
    "axes[0].set_xlim(7., 10.)\n",
    "axes[0].set_ylim(-plot_zlim, plot_zlim)\n",
    "\n",
    "fig.tight_layout()"
   ]
  },
  {
   "cell_type": "code",
   "execution_count": null,
   "metadata": {},
   "outputs": [],
   "source": [
    "zlim = 1.75 # kpc\n",
    "vlim = 75. # pc/Myr\n",
    "vstep = 4.\n",
    "zstep = 75 / 1e3\n",
    "vzz_bins = (np.arange(-vlim, vlim+1e-3, vstep),\n",
    "            np.arange(-zlim, zlim+1e-3, zstep))"
   ]
  },
  {
   "cell_type": "code",
   "execution_count": null,
   "metadata": {},
   "outputs": [],
   "source": [
    "import itertools\n",
    "\n",
    "quad_vz = np.array([])\n",
    "quad_z = np.array([])\n",
    "quad_elem = np.array([])\n",
    "for i, j in itertools.product([-1,1], [-1, 1]):\n",
    "    quad_vz = np.concatenate((quad_vz, i * vz))\n",
    "    quad_z = np.concatenate((quad_z, j * z))\n",
    "    quad_elem = np.concatenate((quad_elem, elem))\n",
    "\n",
    "quad_stat = binned_statistic_2d(quad_vz, quad_z, \n",
    "                                quad_elem, statistic='mean',\n",
    "                                bins=vzz_bins)\n",
    "stat = binned_statistic_2d(vz, z, \n",
    "                           elem, statistic='mean',\n",
    "                           bins=vzz_bins)\n",
    "\n",
    "quad_counts, *_ = np.histogram2d(quad_vz, quad_z, bins=vzz_bins)\n",
    "counts, *_ = np.histogram2d(vz, z, bins=vzz_bins)"
   ]
  },
  {
   "cell_type": "code",
   "execution_count": null,
   "metadata": {},
   "outputs": [],
   "source": [
    "fig, axes = plt.subplots(1, 4, figsize=(17, 5), \n",
    "                         constrained_layout=True,\n",
    "                         sharex=True, sharey=True)\n",
    "\n",
    "H = stat.statistic\n",
    "# H = quad_stat.statistic\n",
    "H[quad_counts <= 1] = np.nan\n",
    "\n",
    "# vmin, vmax = np.percentile(elem, [5, 95])\n",
    "# vmin, vmax = (-0.4, 0.2)\n",
    "vmin, vmax = (-0.02, 0.1)\n",
    "\n",
    "for ax in axes:\n",
    "    cs = ax.pcolormesh(stat.x_edge, stat.y_edge, \n",
    "                       H.T, cmap='magma', vmin=vmin, vmax=vmax)\n",
    "    ax.set_xlabel(f'$v_z$ [{u.km/u.s:latex_inline}]')\n",
    "\n",
    "cb = fig.colorbar(cs, ax=axes, aspect=40)\n",
    "# cb.set_label(r'$[{\\rm Fe} / {\\rm H}]$')\n",
    "cb.set_label(r'$[{\\rm Mg} / {\\rm Fe}]$')\n",
    "\n",
    "for k, color, ax in zip(sorted_keys,\n",
    "                        ['w', 'w', 'w'],\n",
    "                        axes):\n",
    "    o = orbits[k]\n",
    "    o_z = o.z.to_value(u.kpc)\n",
    "    o_vz = o.v_z.to_value(u.km/u.s)\n",
    "    ax.plot(o_vz, o_z, marker='', color=color, alpha=0.5)\n",
    "    \n",
    "    try:\n",
    "        ax.set_title(f'${float(k):.1f}' + r' \\, {\\rm M}_{\\rm disk}$')\n",
    "    except ValueError:\n",
    "        ax.set_title(f'{k}')\n",
    "    \n",
    "axes[0].set_xlim(-vlim, vlim)\n",
    "axes[0].set_ylim(-zlim, zlim)\n",
    "    \n",
    "axes[0].set_ylabel(f'$z$ [{u.kpc:latex_inline}]')\n",
    "\n",
    "fig.suptitle(r'$v_{\\rm circ} = 229\\,{\\rm km}\\,{\\rm s}^{-1}$ for all potentials',\n",
    "             fontsize=24)\n",
    "\n",
    "fig.set_facecolor('w')\n",
    "fig.savefig('../plots/orbits-Mg-Fe.png', dpi=250)"
   ]
  },
  {
   "cell_type": "code",
   "execution_count": null,
   "metadata": {},
   "outputs": [],
   "source": []
  }
 ],
 "metadata": {
  "kernelspec": {
   "display_name": "Python [conda env:root] *",
   "language": "python",
   "name": "conda-root-py"
  },
  "language_info": {
   "codemirror_mode": {
    "name": "ipython",
    "version": 3
   },
   "file_extension": ".py",
   "mimetype": "text/x-python",
   "name": "python",
   "nbconvert_exporter": "python",
   "pygments_lexer": "ipython3",
   "version": "3.7.7"
  },
  "toc": {
   "base_numbering": 1,
   "nav_menu": {},
   "number_sections": true,
   "sideBar": true,
   "skip_h1_title": false,
   "title_cell": "Table of Contents",
   "title_sidebar": "Contents",
   "toc_cell": false,
   "toc_position": {},
   "toc_section_display": true,
   "toc_window_display": false
  }
 },
 "nbformat": 4,
 "nbformat_minor": 4
}
