{
 "cells": [
  {
   "cell_type": "code",
   "execution_count": null,
   "metadata": {},
   "outputs": [],
   "source": [
    "from astropy.constants import G\n",
    "import astropy.coordinates as coord\n",
    "import astropy.units as u\n",
    "import matplotlib as mpl\n",
    "import matplotlib.pyplot as plt\n",
    "%matplotlib inline\n",
    "import numpy as np\n",
    "from scipy.optimize import minimize\n",
    "\n",
    "# gala\n",
    "import gala.coordinates as gc\n",
    "import gala.dynamics as gd\n",
    "import gala.integrate as gi\n",
    "import gala.potential as gp\n",
    "from gala.units import galactic\n",
    "\n",
    "from thriftshop.actions import safe_get_actions\n",
    "from thriftshop.potentials import potentials, galpy_potentials\n",
    "from thriftshop.config import rsun as ro, vcirc as vo\n",
    "from thriftshop.galpy_helpers import gala_to_galpy_orbit"
   ]
  },
  {
   "cell_type": "code",
   "execution_count": null,
   "metadata": {},
   "outputs": [],
   "source": [
    "from galpy.actionAngle import estimateDeltaStaeckel"
   ]
  },
  {
   "cell_type": "code",
   "execution_count": null,
   "metadata": {},
   "outputs": [],
   "source": [
    "mw = potentials['fiducial']\n",
    "bovy_mw = galpy_potentials['fiducial']"
   ]
  },
  {
   "cell_type": "code",
   "execution_count": null,
   "metadata": {},
   "outputs": [],
   "source": [
    "w0s = gd.PhaseSpacePosition(pos=([[-8.122, 0, 0],\n",
    "                                  [-8.122, 0, 0]]*u.kpc).T,\n",
    "                            vel=([[15, 245., 20.],\n",
    "                                  [15, 245., 45.]] * u.km/u.s).T)\n",
    "\n",
    "orbits = mw.integrate_orbit(\n",
    "    w0s, dt=0.5*u.Myr, t1=0, t2=6*u.Gyr,\n",
    "    Integrator=gi.DOPRI853Integrator\n",
    ")"
   ]
  },
  {
   "cell_type": "code",
   "execution_count": null,
   "metadata": {},
   "outputs": [],
   "source": [
    "from galpy.orbit import Orbit as BovyOrbit\n",
    "\n",
    "ts = np.linspace(0.,100.,1001)\n",
    "bovy_o = BovyOrbit([1.,0.1,1.1,0.,0.25])\n",
    "bovy_o.integrate(ts, bovy_mw)"
   ]
  },
  {
   "cell_type": "code",
   "execution_count": null,
   "metadata": {},
   "outputs": [],
   "source": [
    "n = 1\n",
    "o = orbits[::10, n]\n",
    "\n",
    "R = o.cylindrical.rho.to_value(ro)\n",
    "z = o.cylindrical.z.to_value(ro)\n",
    "phi = o.cylindrical.phi.to_value(u.rad)\n",
    "\n",
    "vR = o.cylindrical.v_rho.to_value(vo)\n",
    "vz = o.cylindrical.v_z.to_value(vo)\n",
    "vT = (o.cylindrical.rho * o.cylindrical.pm_phi).to_value(vo, u.dimensionless_angles())"
   ]
  },
  {
   "cell_type": "code",
   "execution_count": null,
   "metadata": {},
   "outputs": [],
   "source": [
    "delta = estimateDeltaStaeckel(bovy_mw, R, z)\n",
    "delta"
   ]
  },
  {
   "cell_type": "code",
   "execution_count": null,
   "metadata": {},
   "outputs": [],
   "source": [
    "from galpy.actionAngle import actionAngleStaeckel\n",
    "aAS = actionAngleStaeckel(pot=bovy_mw, delta=delta)"
   ]
  },
  {
   "cell_type": "code",
   "execution_count": null,
   "metadata": {},
   "outputs": [],
   "source": [
    "bovy_aaf = aAS.actionsFreqsAngles(R, vR, vT, z, vz, phi)\n",
    "bovy_aaf = {'actions': bovy_aaf[:3],\n",
    "            'freqs': bovy_aaf[3:6],\n",
    "            'angles': bovy_aaf[6:]}"
   ]
  },
  {
   "cell_type": "code",
   "execution_count": null,
   "metadata": {},
   "outputs": [],
   "source": [
    "for i in range(3):\n",
    "    plt.plot((bovy_aaf['actions'][i] - np.mean(bovy_aaf['actions'][i])) / np.mean(bovy_aaf['actions'][i]))"
   ]
  },
  {
   "cell_type": "markdown",
   "metadata": {},
   "source": [
    "---"
   ]
  },
  {
   "cell_type": "code",
   "execution_count": null,
   "metadata": {},
   "outputs": [],
   "source": [
    "from thriftshop.config import rsun, vcirc\n",
    "from thriftshop.galpy_helpers import get_staeckel_actions"
   ]
  },
  {
   "cell_type": "code",
   "execution_count": null,
   "metadata": {},
   "outputs": [],
   "source": [
    "w0s = gd.PhaseSpacePosition(pos=([[-8.122, 0, 0],\n",
    "                                  [-8.122, 0, 0]]*u.kpc).T,\n",
    "                            vel=([[25, vcirc.to_value(u.km/u.s), 20.],\n",
    "                                  [25, vcirc.to_value(u.km/u.s), 40.]]*u.km/u.s).T)"
   ]
  },
  {
   "cell_type": "markdown",
   "metadata": {},
   "source": [
    "Compare sanders method to Staeckel:"
   ]
  },
  {
   "cell_type": "code",
   "execution_count": null,
   "metadata": {},
   "outputs": [],
   "source": [
    "action_unit = u.kpc * u.km/u.s"
   ]
  },
  {
   "cell_type": "code",
   "execution_count": null,
   "metadata": {},
   "outputs": [],
   "source": [
    "bovy_fiducial_actions = []\n",
    "for i in range(w0s.shape[0]):\n",
    "    o = potentials['fiducial'].integrate_orbit(w0s[i], dt=0.5, t1=0, t2=2*u.Gyr)\n",
    "    bovy_fiducial_actions.append(get_staeckel_actions(o, galpy_potentials['fiducial']))\n",
    "bovy_fiducial_actions = u.Quantity(bovy_fiducial_actions).to(action_unit)\n",
    "bovy_fiducial_actions = np.mean(bovy_fiducial_actions, axis=-1)"
   ]
  },
  {
   "cell_type": "code",
   "execution_count": null,
   "metadata": {},
   "outputs": [],
   "source": [
    "fiducial_actions = []\n",
    "for i in range(w0s.shape[0]):\n",
    "    aaf = safe_get_actions(potentials['fiducial'], w0s[i])\n",
    "    fiducial_actions.append(aaf['actions'])\n",
    "fiducial_actions = u.Quantity(fiducial_actions).to(action_unit)"
   ]
  },
  {
   "cell_type": "code",
   "execution_count": null,
   "metadata": {},
   "outputs": [],
   "source": [
    "(bovy_fiducial_actions - fiducial_actions) / fiducial_actions"
   ]
  },
  {
   "cell_type": "markdown",
   "metadata": {},
   "source": [
    "---"
   ]
  },
  {
   "cell_type": "code",
   "execution_count": null,
   "metadata": {},
   "outputs": [],
   "source": [
    "def _same_actions_objfunc(p, pos, vy, potential_name, match_actions):\n",
    "    vx, vz = p\n",
    "    w0 = gd.PhaseSpacePosition(pos=pos,\n",
    "                               vel=[vx, vy, vz]*u.km/u.s)\n",
    "    \n",
    "    # aaf = safe_get_actions(potential, w0, N_max=8)\n",
    "    o = potentials[potential_name].integrate_orbit(w0, dt=0.5, t1=0, t2=500*u.Myr)\n",
    "    actions = get_staeckel_actions(o[::4], galpy_potentials[potential_name]).mean(axis=-1)\n",
    "\n",
    "    model_actions = actions.to_value(action_unit)\n",
    "    val = ((model_actions[0] - match_actions[0])**2 + \n",
    "           (model_actions[2] - match_actions[2])**2)\n",
    "    \n",
    "    return val"
   ]
  },
  {
   "cell_type": "code",
   "execution_count": null,
   "metadata": {},
   "outputs": [],
   "source": [
    "def get_w0s_with_same_actions(fiducial_w0):\n",
    "    # First, determine actions for the input orbit in the \n",
    "    # fiducial potential model. These will be the target action values\n",
    "    fiducial_actions = []\n",
    "    for n in range(fiducial_w0.shape[0]):\n",
    "        o = potentials['fiducial'].integrate_orbit(\n",
    "            fiducial_w0[n], dt=0.5, t1=0, t2=2*u.Gyr)  # MAGIC NUMBERS\n",
    "        fiducial_actions.append(\n",
    "            get_staeckel_actions(o, galpy_potentials['fiducial']))\n",
    "        \n",
    "    fiducial_actions = u.Quantity(fiducial_actions).to(u.km/u.s * u.kpc)\n",
    "    fiducial_actions = np.mean(fiducial_actions, axis=-1)\n",
    "    \n",
    "    w0s = {}\n",
    "    for name in potentials:\n",
    "        if name == 'fiducial':\n",
    "            w0s[name] = fiducial_w0\n",
    "            continue\n",
    "\n",
    "        w0s[name] = []\n",
    "        for n in range(fiducial_w0.shape[0]):\n",
    "            res = minimize(_same_actions_objfunc, \n",
    "                           x0=fiducial_w0.v_xyz.value[[0, 2], n],\n",
    "                           args=(fiducial_w0.pos[n],\n",
    "                                 vo.to_value(u.km/u.s),\n",
    "                                 name,\n",
    "                                 fiducial_actions[n].value),\n",
    "                           method='powell', \n",
    "                           options=dict(maxfev=64))\n",
    "            \n",
    "            if res.fun > 1e-3:\n",
    "                print(f\"{name}, {n}: func val = {res.fun} -- Failed to converge\")\n",
    "                    \n",
    "            w0s[name].append(gd.PhaseSpacePosition(\n",
    "                pos=fiducial_w0.pos[n],\n",
    "                vel=[res.x[0], vcirc.value, res.x[1]] * u.km/u.s))\n",
    "            \n",
    "        w0s[name] = gd.combine(w0s[name])\n",
    "    \n",
    "    return w0s"
   ]
  },
  {
   "cell_type": "code",
   "execution_count": null,
   "metadata": {},
   "outputs": [],
   "source": [
    "fiducial_w0 = gd.PhaseSpacePosition(\n",
    "    pos=([[-rsun.to_value(u.kpc), 0, 0],\n",
    "          [-rsun.to_value(u.kpc), 0, 0]]*u.kpc).T,\n",
    "    vel=([[0, vcirc.to_value(u.km/u.s), 20.],\n",
    "          [10, vcirc.to_value(u.km/u.s), 45.]]*u.km/u.s).T)"
   ]
  },
  {
   "cell_type": "code",
   "execution_count": null,
   "metadata": {},
   "outputs": [],
   "source": [
    "w0s = get_w0s_with_same_actions(fiducial_w0)"
   ]
  },
  {
   "cell_type": "code",
   "execution_count": null,
   "metadata": {},
   "outputs": [],
   "source": [
    "orbits = {}\n",
    "for k, w0 in all_w0s.items():\n",
    "    orbits[k] = potentials[k].integrate_orbit(\n",
    "        w0, dt=0.5*u.Myr, t1=0, t2=6*u.Gyr\n",
    "    )"
   ]
  },
  {
   "cell_type": "code",
   "execution_count": null,
   "metadata": {},
   "outputs": [],
   "source": [
    "sorted_keys = sorted(\n",
    "    orbits.keys(), \n",
    "    key=lambda k: potentials[k]['disk'].parameters['m'])"
   ]
  },
  {
   "cell_type": "code",
   "execution_count": null,
   "metadata": {},
   "outputs": [],
   "source": [
    "plot_zlim = 1.75\n",
    "plot_vzlim = 100\n",
    "\n",
    "# -----\n",
    "# vz, z\n",
    "fig, axes = plt.subplots(1, 3, figsize=(15, 5), \n",
    "                         sharex=True, sharey=True)\n",
    "\n",
    "for k, ax in zip(sorted_keys, axes):\n",
    "    _ = orbits[k].plot(['v_z', 'z'], axes=[ax], \n",
    "                       auto_aspect=False, units=[u.km/u.s, u.kpc])\n",
    "    try:\n",
    "        ax.set_title(f'${float(k):.1f}' + r' \\, {\\rm M}_{\\rm disk}$')\n",
    "    except ValueError:\n",
    "        ax.set_title(f'{k}')\n",
    "\n",
    "axes[1].set_ylabel('')\n",
    "axes[2].set_ylabel('')\n",
    "\n",
    "axes[0].set_xlim(-plot_vzlim, plot_vzlim)\n",
    "axes[0].set_ylim(-plot_zlim, plot_zlim)\n",
    "\n",
    "fig.tight_layout()\n",
    "\n",
    "# -----\n",
    "# R, z\n",
    "\n",
    "fig, axes = plt.subplots(1, 3, figsize=(15, 5), \n",
    "                         sharex=True, sharey=True)\n",
    "\n",
    "for k, ax in zip(sorted_keys, axes):\n",
    "    _ = orbits[k].cylindrical.plot(\n",
    "        ['rho', 'z'], axes=[ax], \n",
    "        auto_aspect=False, units=[u.kpc, u.kpc])\n",
    "    \n",
    "    try:\n",
    "        ax.set_title(f'${float(k):.1f}' + r' \\, {\\rm M}_{\\rm disk}$')\n",
    "    except ValueError:\n",
    "        ax.set_title(f'{k}')\n",
    "\n",
    "axes[1].set_ylabel('')\n",
    "axes[2].set_ylabel('')\n",
    "\n",
    "axes[0].set_xlim(7., 11.)\n",
    "axes[0].set_ylim(-plot_zlim, plot_zlim)\n",
    "\n",
    "fig.tight_layout()"
   ]
  },
  {
   "cell_type": "code",
   "execution_count": null,
   "metadata": {},
   "outputs": [],
   "source": []
  },
  {
   "cell_type": "code",
   "execution_count": null,
   "metadata": {},
   "outputs": [],
   "source": [
    "def objfunc(p, x, vy, potential_name, match_actions):\n",
    "    vx, vz = p\n",
    "    w0 = gd.PhaseSpacePosition(pos=[x, 0, 0]*u.kpc,\n",
    "                               vel=[vx, vy, vz]*u.km/u.s)\n",
    "    \n",
    "    # aaf = safe_get_actions(potential, w0, N_max=8)\n",
    "    o = potentials[potential_name].integrate_orbit(w0, dt=1., t1=0, t2=1*u.Gyr)\n",
    "    actions = get_staeckel_actions(o, galpy_potentials[potential_name]).mean(axis=-1)\n",
    "\n",
    "    model_actions = actions.to_value(action_unit)\n",
    "    val = ((model_actions[0] - match_actions[0])**2 + \n",
    "           (model_actions[2] - match_actions[2])**2)\n",
    "    \n",
    "    return val"
   ]
  },
  {
   "cell_type": "code",
   "execution_count": null,
   "metadata": {},
   "outputs": [],
   "source": [
    "w0s = gd.PhaseSpacePosition(pos=([[-8.122, 0, 0],\n",
    "                                  [-8.122, 0, 0]]*u.kpc).T,\n",
    "                            vel=([[15, vcirc.to_value(u.km/u.s), 20.],\n",
    "                                  [15, vcirc.to_value(u.km/u.s), 45.]]*u.km/u.s).T)"
   ]
  },
  {
   "cell_type": "code",
   "execution_count": null,
   "metadata": {},
   "outputs": [],
   "source": [
    "bovy_fiducial_actions = []\n",
    "for i in range(w0s.shape[0]):\n",
    "    o = potentials['fiducial'].integrate_orbit(w0s[i], dt=0.5, t1=0, t2=2*u.Gyr)\n",
    "    bovy_fiducial_actions.append(get_staeckel_actions(o, galpy_potentials['fiducial']))\n",
    "bovy_fiducial_actions = u.Quantity(bovy_fiducial_actions).to(action_unit)\n",
    "bovy_fiducial_actions = np.mean(bovy_fiducial_actions, axis=-1)"
   ]
  },
  {
   "cell_type": "code",
   "execution_count": null,
   "metadata": {},
   "outputs": [],
   "source": [
    "v0s = {}\n",
    "\n",
    "v0s['fiducial'] = w0s.v_xyz.T.value\n",
    "\n",
    "for name in potentials:\n",
    "    # if name == 'fiducial':\n",
    "    if name != '1.6':\n",
    "        continue\n",
    "        \n",
    "    v0s[name] = []\n",
    "    for n in range(w0s.shape[0]):\n",
    "        res = minimize(objfunc, x0=w0s.v_xyz.value[[0,2], n],\n",
    "                       args=(-ro.to_value(u.kpc), \n",
    "                             vo.to_value(u.km/u.s),\n",
    "                             name,\n",
    "                             bovy_fiducial_actions[n].value),\n",
    "                       method='powell', \n",
    "                       options=dict(maxfev=64))\n",
    "        print(name, n, res.fun)\n",
    "        v0s[name].append(gd.PhaseSpacePosition(\n",
    "            pos=[-ro.to_value(u.kpc), 0, 0]*u.kpc,\n",
    "            vel=[res.x[0], vcirc.value, res.x[1]] * u.km/u.s))"
   ]
  },
  {
   "cell_type": "code",
   "execution_count": null,
   "metadata": {},
   "outputs": [],
   "source": [
    "all_w0s = {}\n",
    "for k, v0 in v0s.items():\n",
    "    w0s = gd.PhaseSpacePosition(pos=([[-8.122, 0, 0],\n",
    "                                      [-8.122, 0, 0]]*u.kpc).T,\n",
    "                                vel=(v0 * u.km/u.s).T)\n",
    "    print(k, np.array(v0))\n",
    "    all_w0s[k] = w0s\n",
    "    \n",
    "orbits = {}\n",
    "for k, w0 in all_w0s.items():\n",
    "    orbits[k] = potentials[k].integrate_orbit(\n",
    "        w0, dt=0.5*u.Myr, t1=0, t2=6*u.Gyr\n",
    "    )"
   ]
  },
  {
   "cell_type": "code",
   "execution_count": null,
   "metadata": {},
   "outputs": [],
   "source": []
  }
 ],
 "metadata": {
  "kernelspec": {
   "display_name": "Python [conda env:root] *",
   "language": "python",
   "name": "conda-root-py"
  },
  "language_info": {
   "codemirror_mode": {
    "name": "ipython",
    "version": 3
   },
   "file_extension": ".py",
   "mimetype": "text/x-python",
   "name": "python",
   "nbconvert_exporter": "python",
   "pygments_lexer": "ipython3",
   "version": "3.7.7"
  },
  "toc": {
   "base_numbering": 1,
   "nav_menu": {},
   "number_sections": true,
   "sideBar": true,
   "skip_h1_title": false,
   "title_cell": "Table of Contents",
   "title_sidebar": "Contents",
   "toc_cell": false,
   "toc_position": {},
   "toc_section_display": true,
   "toc_window_display": false
  }
 },
 "nbformat": 4,
 "nbformat_minor": 4
}
