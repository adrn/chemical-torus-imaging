{
 "cells": [
  {
   "cell_type": "code",
   "execution_count": null,
   "metadata": {},
   "outputs": [],
   "source": [
    "import pickle\n",
    "import os\n",
    "\n",
    "import astropy.coordinates as coord\n",
    "import astropy.table as at\n",
    "import astropy.units as u\n",
    "import matplotlib as mpl\n",
    "import matplotlib.pyplot as plt\n",
    "%matplotlib inline\n",
    "import numpy as np\n",
    "\n",
    "# gala\n",
    "import gala.coordinates as gc\n",
    "import gala.dynamics as gd\n",
    "import gala.integrate as gi\n",
    "import gala.potential as gp\n",
    "from gala.units import galactic\n",
    "\n",
    "from thriftshop.potentials import potentials\n",
    "from thriftshop.config import vcirc, rsun"
   ]
  },
  {
   "cell_type": "code",
   "execution_count": null,
   "metadata": {},
   "outputs": [],
   "source": [
    "parent = at.Table.read('../data/apogee-parent-sample.fits')\n",
    "parent = parent[parent['GAIA_PARALLAX'] > 0.5]\n",
    "\n",
    "aafs = {}\n",
    "for name in potentials:\n",
    "    filename = f'../cache/aaf-{name}.fits'\n",
    "    aafs[name] = at.join(at.QTable.read(filename), parent, keys='APOGEE_ID')"
   ]
  },
  {
   "cell_type": "code",
   "execution_count": null,
   "metadata": {},
   "outputs": [],
   "source": [
    "c = coord.SkyCoord(ra=parent['RA']*u.deg,\n",
    "                   dec=parent['DEC']*u.deg,\n",
    "                   distance=1000 / parent['GAIA_PARALLAX'] * u.pc,\n",
    "                   pm_ra_cosdec=parent['GAIA_PMRA']*u.mas/u.yr,\n",
    "                   pm_dec=parent['GAIA_PMDEC']*u.mas/u.yr,\n",
    "                   radial_velocity=parent['VHELIO_AVG']*u.km/u.s)\n",
    "galcen = c.transform_to(coord.Galactocentric)\n",
    "\n",
    "z = galcen.z.to_value(u.kpc)\n",
    "vz = galcen.v_z.to_value(u.km/u.s)"
   ]
  },
  {
   "cell_type": "code",
   "execution_count": null,
   "metadata": {},
   "outputs": [],
   "source": [
    "with open('../cache/w0s.pkl', 'rb') as f:\n",
    "    w0s = pickle.load(f)\n",
    "    \n",
    "with open('../cache/w0s-actions.pkl', 'rb') as f:\n",
    "    w0s_actions = pickle.load(f)\n",
    "    \n",
    "orbits = {}\n",
    "for k, w0 in w0s.items():\n",
    "    orbits[k] = potentials[k].integrate_orbit(\n",
    "        w0, dt=0.5*u.Myr, t1=0, t2=6*u.Gyr\n",
    "    )"
   ]
  },
  {
   "cell_type": "markdown",
   "metadata": {},
   "source": [
    "### Plot of 3 actions of all stars in each potential, over-plotred with the values for these orbits:"
   ]
  },
  {
   "cell_type": "code",
   "execution_count": null,
   "metadata": {},
   "outputs": [],
   "source": [
    "for n in range(w0s['fiducial'].shape[0]):\n",
    "    for name in potentials.keys():\n",
    "        print(n, name)\n",
    "        act = aafs[name]['actions'].to(1*u.kpc * 30*u.km/u.s)\n",
    "        w0_act = w0s_actions[name][n].to(act.unit)\n",
    "\n",
    "        fig, axes = plt.subplots(1, 3, figsize=(15, 5), \n",
    "                                 constrained_layout=True)\n",
    "        not_in = [2, 1, 0]\n",
    "        lims = [(0, 7.5), (-90, -30), (0, 3)]\n",
    "        labels = ['$J_R$', r'$J_\\phi$', '$J_z$']\n",
    "        for k, (i, j) in enumerate(zip([0,0,1], [1,2,2])):\n",
    "            ax = axes[k]\n",
    "\n",
    "            ax.scatter(w0_act[i], w0_act[j], color='tab:red', zorder=100)\n",
    "\n",
    "            mask = np.abs((act[:, not_in[k]] - w0_act[not_in[k]]) / w0_act[not_in[k]]) < 0.2\n",
    "            ax.plot(act[mask, i], act[mask, j], \n",
    "                    marker='o', ls='none', ms=1.5, mew=0, alpha=0.4)\n",
    "            \n",
    "            ax.set_xlim(lims[i])\n",
    "            ax.set_ylim(lims[j])\n",
    "            ax.set_xlabel(labels[i])\n",
    "            ax.set_ylabel(labels[j])\n",
    "        \n",
    "        fig.suptitle(f\"potential: {name},    orbit: {n}\", fontsize=20)"
   ]
  },
  {
   "cell_type": "code",
   "execution_count": null,
   "metadata": {},
   "outputs": [],
   "source": [
    "def get_action_box(tbl, orbit_actions):\n",
    "    actions = tbl['actions']\n",
    "    \n",
    "    masks = []\n",
    "    for n in range(len(orbit_actions)):\n",
    "        JR_mask = np.abs(actions[:, 0] / orbit_actions[n][0] - 1).decompose() < 0.4\n",
    "        Jp_mask = np.abs(actions[:, 1] / orbit_actions[n][1] - 1).decompose() < 0.2\n",
    "        Jz_mask = np.abs(actions[:, 2] / orbit_actions[n][2] - 1).decompose() < 0.2\n",
    "        masks.append(JR_mask & Jp_mask & Jz_mask)\n",
    "        \n",
    "    return masks"
   ]
  },
  {
   "cell_type": "code",
   "execution_count": null,
   "metadata": {},
   "outputs": [],
   "source": [
    "sorted_keys = sorted(\n",
    "    orbits.keys(), \n",
    "    key=lambda k: potentials[k]['disk'].parameters['m'])"
   ]
  },
  {
   "cell_type": "code",
   "execution_count": null,
   "metadata": {},
   "outputs": [],
   "source": [
    "zlim = 1.75 # kpc\n",
    "vlim = 75. # pc/Myr\n",
    "\n",
    "fig, axes = plt.subplots(1, 3, figsize=(15, 5.5), \n",
    "                         sharex=True, sharey=True)\n",
    "\n",
    "for i, name in enumerate(sorted_keys):\n",
    "    ax = axes[i]\n",
    "    masks = get_action_box(aafs[name], w0s_actions[name])\n",
    "    print(masks[0].sum())\n",
    "    for n, mask in enumerate(masks):\n",
    "        l, = ax.plot(vz[mask], z[mask], \n",
    "                     marker='o', mew=0, ls='none', ms=3, alpha=0.5)\n",
    "        ax.plot(orbits[name][:, n].v_z.to_value(u.km/u.s),\n",
    "                orbits[name][:, n].z.to_value(u.kpc), marker='',\n",
    "                color='#aaaaaa', alpha=0.2, zorder=-100)\n",
    "    \n",
    "    ax.set_xlabel(f'$v_z$ [{u.km/u.s:latex_inline}]')\n",
    "axes[0].set_ylabel(f'$z$ [{u.kpc:latex_inline}]')\n",
    "\n",
    "ax.set_xlim(-vlim, vlim)\n",
    "ax.set_ylim(-zlim, zlim)\n",
    "\n",
    "fig.tight_layout()"
   ]
  },
  {
   "cell_type": "code",
   "execution_count": null,
   "metadata": {},
   "outputs": [],
   "source": []
  }
 ],
 "metadata": {
  "kernelspec": {
   "display_name": "Python [conda env:root] *",
   "language": "python",
   "name": "conda-root-py"
  },
  "language_info": {
   "codemirror_mode": {
    "name": "ipython",
    "version": 3
   },
   "file_extension": ".py",
   "mimetype": "text/x-python",
   "name": "python",
   "nbconvert_exporter": "python",
   "pygments_lexer": "ipython3",
   "version": "3.7.7"
  },
  "toc": {
   "base_numbering": 1,
   "nav_menu": {},
   "number_sections": true,
   "sideBar": true,
   "skip_h1_title": false,
   "title_cell": "Table of Contents",
   "title_sidebar": "Contents",
   "toc_cell": false,
   "toc_position": {},
   "toc_section_display": true,
   "toc_window_display": false
  }
 },
 "nbformat": 4,
 "nbformat_minor": 4
}
