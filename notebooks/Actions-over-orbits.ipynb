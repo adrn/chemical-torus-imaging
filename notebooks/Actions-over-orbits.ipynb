{
 "cells": [
  {
   "cell_type": "code",
   "execution_count": null,
   "metadata": {},
   "outputs": [],
   "source": [
    "import pickle\n",
    "import pathlib\n",
    "\n",
    "import astropy.coordinates as coord\n",
    "import astropy.table as at\n",
    "import astropy.units as u\n",
    "import matplotlib as mpl\n",
    "import matplotlib.pyplot as plt\n",
    "%matplotlib inline\n",
    "import numpy as np\n",
    "from scipy.spatial import cKDTree\n",
    "from scipy.stats import binned_statistic\n",
    "from scipy.interpolate import interp1d\n",
    "\n",
    "# gala\n",
    "import gala.coordinates as gc\n",
    "import gala.dynamics as gd\n",
    "import gala.integrate as gi\n",
    "import gala.potential as gp\n",
    "from gala.units import galactic\n",
    "\n",
    "from thriftshop.config import vcirc, rsun, plot_path, fig_path, cache_path\n",
    "from thriftshop.data import load_apogee_sample\n",
    "from thriftshop.potentials import potentials\n",
    "from thriftshop.abundances import get_elem_names, elem_to_label\n",
    "\n",
    "coord.galactocentric_frame_defaults.set('v4.0');"
   ]
  },
  {
   "cell_type": "code",
   "execution_count": null,
   "metadata": {},
   "outputs": [],
   "source": [
    "t, c = load_apogee_sample('../data/apogee-parent-sample.fits')"
   ]
  },
  {
   "cell_type": "markdown",
   "metadata": {},
   "source": [
    "TEST:"
   ]
  },
  {
   "cell_type": "code",
   "execution_count": null,
   "metadata": {},
   "outputs": [],
   "source": [
    "from thriftshop.galpy_helpers import get_staeckel_aaf\n",
    "from thriftshop.potentials import galpy_potentials\n",
    "from thriftshop.config import galcen_frame\n",
    "from thriftshop.actions_multiproc import action_worker, compute_actions_multiproc\n",
    "\n",
    "from schwimmbad import MultiPool\n",
    "from schwimmbad.utils import batch_tasks"
   ]
  },
  {
   "cell_type": "code",
   "execution_count": null,
   "metadata": {},
   "outputs": [],
   "source": [
    "comp"
   ]
  },
  {
   "cell_type": "code",
   "execution_count": null,
   "metadata": {},
   "outputs": [],
   "source": [
    "potential_name = '1.0'\n",
    "\n",
    "with MultiPool(processes=4) as pool:\n",
    "    aaf = compute_actions_multiproc(t,\n",
    "                                    potential_name='1.0', \n",
    "                                    pool=pool)"
   ]
  },
  {
   "cell_type": "code",
   "execution_count": null,
   "metadata": {},
   "outputs": [],
   "source": [
    "scaling = np.array([\n",
    "    [1000, 8],\n",
    "    [10000, 19.9],\n",
    "    [75000, 113]])\n",
    "\n",
    "plt.plot(scaling[:, 0], scaling[:, 1])"
   ]
  },
  {
   "cell_type": "code",
   "execution_count": null,
   "metadata": {},
   "outputs": [],
   "source": [
    "c = coord.SkyCoord(ra=t['RA'] * u.deg,\n",
    "                   dec=t['DEC'] * u.deg,\n",
    "                   distance=1000 / t['GAIA_PARALLAX'] * u.pc,\n",
    "                   pm_ra_cosdec=t['GAIA_PMRA'] * u.mas/u.yr,\n",
    "                   pm_dec=t['GAIA_PMDEC'] * u.mas/u.yr,\n",
    "                   radial_velocity=t['VHELIO_AVG'] * u.km/u.s)\n",
    "galcen = c.transform_to(galcen_frame)\n",
    "w0s = gd.PhaseSpacePosition(galcen.data)"
   ]
  },
  {
   "cell_type": "code",
   "execution_count": null,
   "metadata": {},
   "outputs": [],
   "source": [
    "from galpy.actionAngle import estimateDeltaStaeckel, actionAngleStaeckel\n",
    "from thriftshop.config import rsun as ro, vcirc as vo\n",
    "from thriftshop.galpy_helpers import gala_to_galpy_orbit"
   ]
  },
  {
   "cell_type": "code",
   "execution_count": null,
   "metadata": {},
   "outputs": [],
   "source": [
    "%load_ext line_profiler"
   ]
  },
  {
   "cell_type": "code",
   "execution_count": null,
   "metadata": {},
   "outputs": [],
   "source": [
    "%lprun -f estimateDeltaStaeckel get_staeckel_aaf(w0s[0], galpy_potentials['1.0'])"
   ]
  },
  {
   "cell_type": "code",
   "execution_count": null,
   "metadata": {},
   "outputs": [],
   "source": [
    "pot = galpy_potentials['1.0']\n",
    "\n",
    "delta_staeckels = []\n",
    "for i in range(w0s.shape[0]):\n",
    "    R = w0s[i].cylindrical.rho.to_value(ro)\n",
    "    z = w0s[i].z.to_value(ro)\n",
    "    delta_staeckels.append(estimateDeltaStaeckel(\n",
    "        pot, R, z))"
   ]
  },
  {
   "cell_type": "code",
   "execution_count": null,
   "metadata": {},
   "outputs": [],
   "source": [
    "from scipy.stats import binned_statistic_2d\n",
    "\n",
    "stat = binned_statistic_2d(w0s.cylindrical.rho.to_value(u.kpc),\n",
    "                           w0s.z.to_value(u.kpc),\n",
    "                           delta_staeckels,\n",
    "                           statistic='mean',\n",
    "                           bins=(np.arange(8-2, 8+2, 0.05),\n",
    "                                 np.arange(-1.5, 1.5, 0.05)))\n",
    "\n",
    "plt.pcolormesh(stat.x_edge, stat.y_edge, \n",
    "               stat.statistic.T,\n",
    "               vmin=2.5, vmax=6)"
   ]
  },
  {
   "cell_type": "code",
   "execution_count": null,
   "metadata": {},
   "outputs": [],
   "source": [
    "from scipy.interpolate import NearestNDInterpolator"
   ]
  },
  {
   "cell_type": "code",
   "execution_count": null,
   "metadata": {},
   "outputs": [],
   "source": [
    "xcen = 0.5 * (stat.x_edge[:-1] + stat.x_edge[1:])\n",
    "ycen = 0.5 * (stat.y_edge[:-1] + stat.y_edge[1:])\n",
    "xycens = np.stack(map(np.ravel, np.meshgrid(xcen, ycen))).T"
   ]
  },
  {
   "cell_type": "code",
   "execution_count": null,
   "metadata": {},
   "outputs": [],
   "source": [
    "plt.scatter(xycens[:, 0], xycens[:, 1], c=stat.statistic.T.ravel())"
   ]
  },
  {
   "cell_type": "code",
   "execution_count": null,
   "metadata": {},
   "outputs": [],
   "source": [
    "delta_interp = NearestNDInterpolator(xycens, stat.statistic.T.ravel())"
   ]
  },
  {
   "cell_type": "code",
   "execution_count": null,
   "metadata": {},
   "outputs": [],
   "source": [
    "delta_interp(w0s[0].cylindrical.rho.to_value(u.kpc),\n",
    "             w0s[0].z.to_value(u.kpc))"
   ]
  },
  {
   "cell_type": "code",
   "execution_count": null,
   "metadata": {},
   "outputs": [],
   "source": [
    "derp = w0s[np.abs(w0s.z) > 1*u.kpc][0]"
   ]
  },
  {
   "cell_type": "code",
   "execution_count": null,
   "metadata": {},
   "outputs": [],
   "source": [
    "o = gala_to_galpy_orbit(derp)\n",
    "aAS = actionAngleStaeckel(pot=pot, delta=np.mean(delta_staeckels))\n",
    "np.squeeze(aAS(o)) * ro * vo"
   ]
  },
  {
   "cell_type": "code",
   "execution_count": null,
   "metadata": {},
   "outputs": [],
   "source": [
    "o = gala_to_galpy_orbit(derp)\n",
    "aAS = actionAngleStaeckel(pot=pot, delta=2.8)\n",
    "np.squeeze(aAS(o)) * ro * vo"
   ]
  },
  {
   "cell_type": "code",
   "execution_count": null,
   "metadata": {},
   "outputs": [],
   "source": [
    "potential_name = '1.0'\n",
    "\n",
    "with MultiPool(processes=8) as pool:\n",
    "    tasks = batch_tasks(n_batches=max(1, pool.size - 1),\n",
    "                        arr=t[:1000],\n",
    "                        args=(potential_name, ))\n",
    "\n",
    "    all_data = []\n",
    "    for data in pool.map(action_worker, tasks):\n",
    "        all_data.append(data)"
   ]
  },
  {
   "cell_type": "code",
   "execution_count": null,
   "metadata": {},
   "outputs": [],
   "source": [
    "tasks = batch_tasks(n_batches=max(1, pool.size - 1),\n",
    "                    n_tasks=1000)\n",
    "tasks"
   ]
  },
  {
   "cell_type": "code",
   "execution_count": null,
   "metadata": {},
   "outputs": [],
   "source": [
    "(3.73*u.millisecond * 4000 / 4).to(u.second)"
   ]
  },
  {
   "cell_type": "code",
   "execution_count": null,
   "metadata": {},
   "outputs": [],
   "source": [
    "%timeit get_staeckel_aaf(w0s[0], galpy_potentials['1.0'])"
   ]
  },
  {
   "cell_type": "markdown",
   "metadata": {},
   "source": [
    "---"
   ]
  },
  {
   "cell_type": "code",
   "execution_count": null,
   "metadata": {},
   "outputs": [],
   "source": [
    "aafs = {}\n",
    "for name in potentials:\n",
    "    filename = cache_path / f'aaf-{name}.fits'\n",
    "    if not filename.exists():\n",
    "        continue\n",
    "    aafs[name] = at.join(at.QTable.read(filename), \n",
    "                         t, \n",
    "                         keys='APOGEE_ID')"
   ]
  },
  {
   "cell_type": "code",
   "execution_count": null,
   "metadata": {},
   "outputs": [],
   "source": [
    "galcen = c.transform_to(galcen_frame)\n",
    "\n",
    "z = galcen.z.to_value(u.kpc)\n",
    "vz = galcen.v_z.to_value(u.km/u.s)"
   ]
  },
  {
   "cell_type": "code",
   "execution_count": null,
   "metadata": {},
   "outputs": [],
   "source": [
    "with open('../cache/w0s.pkl', 'rb') as f:\n",
    "    w0s = pickle.load(f)\n",
    "    \n",
    "with open('../cache/w0s-actions.pkl', 'rb') as f:\n",
    "    w0s_actions = pickle.load(f)\n",
    "    \n",
    "orbits = {}\n",
    "for k, w0 in w0s.items():\n",
    "    orbits[k] = potentials[k].integrate_orbit(\n",
    "        w0, dt=0.5*u.Myr, t1=0, t2=6*u.Gyr\n",
    "    )"
   ]
  },
  {
   "cell_type": "code",
   "execution_count": null,
   "metadata": {},
   "outputs": [],
   "source": [
    "sorted_keys = sorted(\n",
    "    orbits.keys(), \n",
    "    key=lambda k: potentials[k]['disk'].parameters['m'])\n",
    "sorted_keys = [x for x in sorted_keys if x in aafs]"
   ]
  },
  {
   "cell_type": "code",
   "execution_count": null,
   "metadata": {},
   "outputs": [],
   "source": [
    "all_finite_mask = None\n",
    "for name in sorted_keys:\n",
    "    X = aafs[name]['actions']\n",
    "    finite_mask = np.all(np.isfinite(X), axis=1)\n",
    "    \n",
    "    if all_finite_mask is None:\n",
    "        all_finite_mask = finite_mask\n",
    "    else:\n",
    "        all_finite_mask &= finite_mask\n",
    "        \n",
    "print(all_finite_mask.sum())"
   ]
  },
  {
   "cell_type": "code",
   "execution_count": null,
   "metadata": {},
   "outputs": [],
   "source": [
    "def get_stat(actions, theta_z, elem, tree_K=64,\n",
    "             action_unit=30*u.km/u.s * 1*u.kpc,\n",
    "             angz_bins=np.arange(0, 2*np.pi+1e-4, np.radians(5))):\n",
    "    \n",
    "    # Actions without units:\n",
    "    X = actions.to_value(action_unit)\n",
    "    angz = coord.Angle(theta_z).wrap_at(360*u.deg).radian\n",
    "    \n",
    "    tree = cKDTree(X)\n",
    "    dists, idx = tree.query(X, k=tree_K+1)\n",
    "    \n",
    "    d_elem = elem - np.mean(elem[idx[:, 1:]], axis=1)\n",
    "    stat = binned_statistic(angz, d_elem, bins=angz_bins)\n",
    "    \n",
    "    return stat, angz, d_elem\n",
    "\n",
    "\n",
    "def get_boostrap_stats(actions, theta_z, elem,\n",
    "                       statistic='mean',\n",
    "                       bootstrap_K=64,\n",
    "                       tree_K=64,\n",
    "                       action_unit=30*u.km/u.s * 1*u.kpc,\n",
    "                       angz_bins=np.arange(0, 2*np.pi+1e-4, np.radians(5)),\n",
    "                       seed=42):\n",
    "    \n",
    "    # Actions without units:\n",
    "    X = actions.to_value(action_unit)\n",
    "    angz = coord.Angle(theta_z).wrap_at(360*u.deg).radian\n",
    "    \n",
    "    tree = cKDTree(X)\n",
    "    dists, idx = tree.query(X, k=tree_K+1)\n",
    "    \n",
    "    d_elem = elem - np.mean(elem[idx[:, 1:]], axis=1)\n",
    "    \n",
    "    if seed:\n",
    "        np.random.seed(seed)\n",
    "    \n",
    "    stats = []\n",
    "    counts = []\n",
    "    for k in range(bootstrap_K + 1):\n",
    "        if k > 0:\n",
    "            idx = np.random.choice(len(angz), size=len(angz))\n",
    "            x = angz[idx]\n",
    "            y = d_elem[idx]\n",
    "        else:\n",
    "            x = angz\n",
    "            y = d_elem\n",
    "        stat = binned_statistic(x, y, bins=angz_bins, \n",
    "                                statistic=statistic)\n",
    "        count, *_ = np.histogram(x, bins=angz_bins)\n",
    "        \n",
    "        stats.append(stat)\n",
    "        counts.append(count)\n",
    "    \n",
    "    return stats, counts"
   ]
  },
  {
   "cell_type": "code",
   "execution_count": null,
   "metadata": {},
   "outputs": [],
   "source": [
    "angzs = {}\n",
    "d_elems = {}\n",
    "stats = {}\n",
    "for name in sorted_keys:\n",
    "    aaf = aafs[name][all_finite_mask]\n",
    "    stats[name], angzs[name], d_elems[name] = get_stat(\n",
    "        aaf['actions'], aaf['angles'][:, 2], aaf['MG_FE'],\n",
    "        tree_K=64)\n",
    "\n",
    "    # ---\n",
    "    fig, ax = plt.subplots(1, 1, figsize=(6, 5))\n",
    "    ax.plot(angzs[name], d_elems[name], \n",
    "            marker='o', ls='none', mew=0, ms=2, alpha=0.3)\n",
    "    \n",
    "    ctr = 0.5 * (stats[name].bin_edges[:-1] + stats[name].bin_edges[1:])\n",
    "    ax.plot(ctr, stats[name].statistic, \n",
    "            marker='', drawstyle='steps-mid', \n",
    "            zorder=10, color='tab:red', alpha=1)\n",
    "    \n",
    "    ax.set_xlim(0, 2*np.pi)\n",
    "    ax.set_ylim(-0.025, 0.025)\n",
    "    ax.set_title(name)"
   ]
  },
  {
   "cell_type": "code",
   "execution_count": null,
   "metadata": {},
   "outputs": [],
   "source": [
    "mdisks = []\n",
    "vars_ = []\n",
    "for name in sorted_keys:\n",
    "    aaf = aafs[name][all_finite_mask]\n",
    "    *_, d_elems = get_stat(\n",
    "        aaf['actions'], aaf['angles'][:, 2], aaf['MG_FE'],\n",
    "        tree_K=64)\n",
    "    \n",
    "    mdisks.append(float(name))\n",
    "    vars_.append(np.var(d_elems))\n",
    "    \n",
    "plt.plot(mdisks, vars_)\n",
    "\n",
    "i = np.argmin(vars_)\n",
    "coeffs = np.polyfit(mdisks[i-1:i+2], vars_[i-1:i+2], deg=2)\n",
    "grid = np.linspace(0.7, 1.5, 1024)\n",
    "shit = np.poly1d(coeffs)(grid)\n",
    "plt.plot(grid, shit)\n",
    "grid[shit.argmin()]"
   ]
  },
  {
   "cell_type": "code",
   "execution_count": null,
   "metadata": {},
   "outputs": [],
   "source": [
    "def get_M(x, N=2):\n",
    "    M = np.full((len(x), 1 + 2*N), np.nan)\n",
    "    M[:, 0] = 1.\n",
    "\n",
    "    for n in range(N):\n",
    "        M[:, 1 + 2*n] = np.cos((n+1) * x)\n",
    "        M[:, 2 + 2*n] = np.sin((n+1) * x)\n",
    "\n",
    "    return M"
   ]
  },
  {
   "cell_type": "code",
   "execution_count": null,
   "metadata": {},
   "outputs": [],
   "source": [
    "def get_stats_coeffs(aaf, elem_name, **kwargs):\n",
    "    stats, counts = get_boostrap_stats(aaf['actions'], \n",
    "                                       aaf['angles'][:, 2],\n",
    "                                       aaf[elem_name], \n",
    "                                       **kwargs)\n",
    "\n",
    "    all_coeffs = []\n",
    "    for stat, count in zip(stats, counts):\n",
    "        x = 0.5 * (stat.bin_edges[:-1] + stat.bin_edges[1:])\n",
    "        y = stat.statistic\n",
    "        coeffs, *_ = np.linalg.lstsq(get_M(x), y / count, rcond=None)\n",
    "        all_coeffs.append(coeffs)\n",
    "\n",
    "    return stats, counts, np.array(all_coeffs)"
   ]
  },
  {
   "cell_type": "code",
   "execution_count": null,
   "metadata": {},
   "outputs": [],
   "source": [
    "all_coeffs = {}\n",
    "for elem_name in elem_names:\n",
    "# for elem_name in ['MG_FE']:\n",
    "    os.makedirs(f'../plots/{elem_name}', exist_ok=True)\n",
    "    all_coeffs[elem_name] = {}\n",
    "    # for statistic in ['mean', 'median', 'std']:\n",
    "    for statistic in ['mean']:\n",
    "        plot_x = np.linspace(0, 2*np.pi, 1024)\n",
    "        for i, name in enumerate(sorted_keys):\n",
    "            stats, counts, coeffs = get_stats_coeffs(\n",
    "                aafs[name][all_finite_mask], \n",
    "                elem_name,\n",
    "                statistic=statistic)\n",
    "            \n",
    "            if statistic == 'mean':\n",
    "                all_coeffs[elem_name][name] = coeffs\n",
    "\n",
    "            fig, ax = plt.subplots(1, 1, figsize=(8, 5))\n",
    "\n",
    "            # ax.plot(x, y, marker='o', mew=0, ls='none', alpha=0.4, ms=2.)\n",
    "            bin_x = 0.5 * (stats[0].bin_edges[:-1] + stats[0].bin_edges[1:])\n",
    "            bin_y = stats[0].statistic / counts[0]\n",
    "            ax.plot(bin_x, bin_y, marker='', drawstyle='steps-mid', color='tab:red')\n",
    "\n",
    "            for c in coeffs:\n",
    "                tmp = np.zeros_like(c)\n",
    "                tmp[[0,3]] = c[[0,3]]\n",
    "                plot_y = get_M(plot_x) @ c\n",
    "                ax.plot(plot_x, plot_y, alpha=0.4, color='tab:blue', marker='')\n",
    "            ax.set_title(name)\n",
    "\n",
    "            ax.set_xlim(0, 2*np.pi)\n",
    "            \n",
    "            # auto-set ylim\n",
    "            init_ylim = (np.nanmin(bin_y), np.nanmax(bin_y))\n",
    "            yspan = init_ylim[1] - init_ylim[0]\n",
    "            ax.set_ylim(init_ylim[0] - 0.25*yspan,\n",
    "                        init_ylim[1] + 0.25*yspan)\n",
    "            ax.axhline(0, zorder=-100, color='#aaaaaa')\n",
    "\n",
    "            ax.set_xlabel(r'vertical conjugate angle, $\\theta_z$ [rad]')\n",
    "            ax.set_ylabel(f'action-local\\n{elem_to_label(elem_name)} anomaly')\n",
    "\n",
    "            fig.tight_layout()\n",
    "            fig.set_facecolor('w')\n",
    "            fig.savefig(f'../plots/{elem_name}/anomaly-panels-{statistic}-{name}.png', dpi=256)\n",
    "            plt.close(fig)"
   ]
  },
  {
   "cell_type": "code",
   "execution_count": null,
   "metadata": {},
   "outputs": [],
   "source": [
    "statistic = 'mean'\n",
    "\n",
    "summary = {}\n",
    "for elem_name in all_coeffs.keys():\n",
    "# for elem_name in ['MG_FE']:\n",
    "    fig, axes = plt.subplots(3, 1, figsize=(10, 10), sharex=True)\n",
    "    \n",
    "    for ax, coeff_idx in zip(axes, [1, 2, 3]):\n",
    "        N_m_grid = len(all_coeffs[elem_name])\n",
    "        shape = (N_m_grid, len(all_coeffs[elem_name]['1.0']))\n",
    "        xs = np.full(shape, np.nan)\n",
    "        ys = np.full(shape, np.nan)\n",
    "        for i, potential_name in enumerate(sorted(all_coeffs[elem_name].keys())):\n",
    "            ys[i] = np.array(all_coeffs[elem_name][potential_name])[:, coeff_idx]\n",
    "            xs[i] = float(potential_name)\n",
    "        \n",
    "        ax.plot(xs[:, 0], ys[:, 0], alpha=1., lw=3, zorder=100)\n",
    "        ax.plot(xs[:, 1:], ys[:, 1:], alpha=0.4)\n",
    "        \n",
    "        if coeff_idx == 3:  # only for cos(2ø) term\n",
    "            zero_cross = np.array([interp1d(ys[:, k], xs[:, k], fill_value=\"extrapolate\")(0.) \n",
    "                                   for k in range(ys.shape[1])])\n",
    "            summary[elem_name] = [np.mean(zero_cross), np.std(zero_cross)]\n",
    "\n",
    "        ax.axhline(0, zorder=-10, color='#aaaaaa', alpha=0.3)\n",
    "        ylim = (ys.min(), ys.max())\n",
    "        ylim = (ylim[0] - 0.2 * (ylim[1]-ylim[0]),\n",
    "                ylim[1] + 0.2 * (ylim[1]-ylim[0]))\n",
    "        ax.set_ylim(ylim)\n",
    "        \n",
    "    ax.set_xlim(0.4, 1.6)\n",
    "\n",
    "    axes[-1].set_xlabel(r'factor times disk mass (at constant $v_{\\rm circ}$)',\n",
    "                        fontsize=18)\n",
    "    \n",
    "    \n",
    "    axes[0].set_ylabel('amplitude of projection\\n' + r'onto $\\cos(\\theta_z)$',\n",
    "                       fontsize=18)\n",
    "    axes[1].set_ylabel('amplitude of projection\\n' + r'onto $\\sin(\\theta_z)$',\n",
    "                       fontsize=18)\n",
    "    axes[2].set_ylabel('amplitude of projection\\n' + r'onto $\\cos(2\\theta_z)$',\n",
    "                       fontsize=18)\n",
    "\n",
    "    fig.set_facecolor('w')\n",
    "    fig.tight_layout()\n",
    "    \n",
    "    fig.savefig(f'../plots/{elem_name}/cos2theta-amp-{statistic}.png', dpi=250)\n",
    "    plt.close(fig)"
   ]
  },
  {
   "cell_type": "code",
   "execution_count": null,
   "metadata": {},
   "outputs": [],
   "source": [
    "names = []\n",
    "idxs = []\n",
    "vals = []\n",
    "errs = []\n",
    "for i, (name, (val, err)) in enumerate(summary.items()):\n",
    "    names.append(name)\n",
    "    vals.append(val)\n",
    "    errs.append(err)\n",
    "    idxs.append(i)"
   ]
  },
  {
   "cell_type": "markdown",
   "metadata": {},
   "source": [
    "TODO: we can't combine all as independent, but can do M/H and A/M, and all /Fe"
   ]
  },
  {
   "cell_type": "code",
   "execution_count": null,
   "metadata": {},
   "outputs": [],
   "source": [
    "fig, ax = plt.subplots(figsize=(12, 6))\n",
    "ax.errorbar(idxs, vals, errs, \n",
    "            marker='o', ls='none', ecolor='#aaaaaa')\n",
    "ax.set_xticks(idxs)\n",
    "ax.set_xticklabels([elem_to_label(x) for x in names])\n",
    "ax.set_xlim(min(idxs)-0.5, max(idxs)+0.5)\n",
    "ax.set_ylim(0.4, 2.)\n",
    "ax.axhline(1., zorder=-100, color='tab:green', alpha=0.5)\n",
    "ax.set_ylabel(r'$M_{\\rm disk}$ relative to fiducial')\n",
    "fig.set_facecolor('w')\n",
    "fig.tight_layout()\n",
    "fig.savefig(plot_path / 'mdisk-vs-elems.png', dpi=250)"
   ]
  },
  {
   "cell_type": "code",
   "execution_count": null,
   "metadata": {},
   "outputs": [],
   "source": []
  },
  {
   "cell_type": "markdown",
   "metadata": {},
   "source": [
    "# Verification / test plots"
   ]
  },
  {
   "cell_type": "markdown",
   "metadata": {},
   "source": [
    "## Plot of 3 actions of all stars in each potential, over-plotred with the values for these orbits:"
   ]
  },
  {
   "cell_type": "code",
   "execution_count": null,
   "metadata": {},
   "outputs": [],
   "source": [
    "for n in range(w0s['fiducial'].shape[0]):\n",
    "    for name in ['0.4', 'fiducial', '1.6']:\n",
    "        print(n, name)\n",
    "        act = aafs[name]['actions'].to(1*u.kpc * 30*u.km/u.s)\n",
    "        w0_act = w0s_actions[name][n].to(act.unit)\n",
    "\n",
    "        fig, axes = plt.subplots(1, 3, figsize=(15, 5), \n",
    "                                 constrained_layout=True)\n",
    "        not_in = [2, 1, 0]\n",
    "        lims = [(0, 7.5), (-90, -30), (0, 3)]\n",
    "        labels = ['$J_R$', r'$J_\\phi$', '$J_z$']\n",
    "        for k, (i, j) in enumerate(zip([0,0,1], [1,2,2])):\n",
    "            ax = axes[k]\n",
    "\n",
    "            ax.scatter(w0_act[i], w0_act[j], color='tab:red', zorder=100)\n",
    "\n",
    "            mask = np.abs((act[:, not_in[k]] - w0_act[not_in[k]]) / w0_act[not_in[k]]) < 0.2\n",
    "            ax.plot(act[mask, i], act[mask, j], \n",
    "                    marker='o', ls='none', ms=1.5, mew=0, alpha=0.4)\n",
    "            \n",
    "            ax.set_xlim(lims[i])\n",
    "            ax.set_ylim(lims[j])\n",
    "            ax.set_xlabel(labels[i])\n",
    "            ax.set_ylabel(labels[j])\n",
    "        \n",
    "        fig.suptitle(f\"potential: {name},    orbit: {n}\", fontsize=20)"
   ]
  },
  {
   "cell_type": "markdown",
   "metadata": {},
   "source": [
    "## Make sure action-selected stars fall near orbits"
   ]
  },
  {
   "cell_type": "code",
   "execution_count": null,
   "metadata": {},
   "outputs": [],
   "source": [
    "def get_action_box(tbl, orbit_actions):\n",
    "    actions = tbl['actions']\n",
    "    \n",
    "    masks = []\n",
    "    for n in range(len(orbit_actions)):\n",
    "        # JR_mask = np.abs(actions[:, 0] / orbit_actions[n][0] - 1).decompose() < 0.4\n",
    "        JR_mask = actions[:, 0] < 2 * orbit_actions[n][0]\n",
    "        Jp_mask = np.abs(actions[:, 1] / orbit_actions[n][1] - 1).decompose() < 0.2\n",
    "        Jz_mask = np.abs(actions[:, 2] / orbit_actions[n][2] - 1).decompose() < 0.2\n",
    "        masks.append(JR_mask & Jp_mask & Jz_mask)\n",
    "        \n",
    "    return masks"
   ]
  },
  {
   "cell_type": "code",
   "execution_count": null,
   "metadata": {},
   "outputs": [],
   "source": [
    "zlim = 1.75 # kpc\n",
    "vlim = 75. # pc/Myr\n",
    "\n",
    "for i, name in enumerate(sorted_keys):\n",
    "    fig, ax = plt.subplots(1, 1, figsize=(5, 5))\n",
    "    \n",
    "    masks = get_action_box(aafs[name], w0s_actions[name])\n",
    "    print(masks[0].sum())\n",
    "    for n, mask in enumerate(masks):\n",
    "        l, = ax.plot(vz[mask], z[mask], \n",
    "                     marker='o', mew=0, ls='none', ms=3, alpha=0.5)\n",
    "        ax.plot(orbits[name][:, n].v_z.to_value(u.km/u.s),\n",
    "                orbits[name][:, n].z.to_value(u.kpc), marker='',\n",
    "                color='#aaaaaa', alpha=0.2, zorder=-100)\n",
    "    \n",
    "    ax.set_xlabel(f'$v_z$ [{u.km/u.s:latex_inline}]')\n",
    "    ax.set_ylabel(f'$z$ [{u.kpc:latex_inline}]')\n",
    "\n",
    "    ax.set_xlim(-vlim, vlim)\n",
    "    ax.set_ylim(-zlim, zlim)\n",
    "\n",
    "    fig.tight_layout()"
   ]
  },
  {
   "cell_type": "markdown",
   "metadata": {},
   "source": [
    "## Abundance vs angles in action boxes:"
   ]
  },
  {
   "cell_type": "code",
   "execution_count": null,
   "metadata": {},
   "outputs": [],
   "source": [
    "angz_bins = np.arange(0, 360+1e-3, 30)\n",
    "\n",
    "fig, axes = plt.subplots(len(aafs), 2, figsize=(12, 4*len(aafs)), \n",
    "                         sharex=True, sharey=True)\n",
    "\n",
    "for i, name in enumerate(aafs):\n",
    "    t = aafs[name]\n",
    "    masks = get_action_box(aafs[name], w0s_actions[name])\n",
    "    \n",
    "    angz = coord.Angle(t['angles'][:, 2]).wrap_at(360*u.deg).degree\n",
    "    \n",
    "    for n in range(2):\n",
    "        axes[i, n].plot(angz[masks[n]], \n",
    "                        t['MG_FE'][masks[n]], \n",
    "                        marker='o', mew=0, ls='none', \n",
    "                        ms=4, alpha=0.4)\n",
    "        \n",
    "        angz_bins = np.arange(0, 360+1e-3, 30)\n",
    "        stat = binned_statistic(angz[masks[n]], t['MG_FE'][masks[n]], \n",
    "                                bins=angz_bins, statistic='mean')\n",
    "        ctr = 0.5 * (stat.bin_edges[:-1] + stat.bin_edges[1:])\n",
    "        axes[i, n].plot(ctr, stat.statistic, drawstyle='steps-mid', marker='')\n",
    "    \n",
    "        axes[i, n].set_title(name)\n",
    "    \n",
    "    axes[i, 0].set_ylabel(\"[Mg/Fe]\")\n",
    "    \n",
    "axes[0, 0].set_ylim(-0.1, 0.15)\n",
    "axes[-1, 0].set_xlabel(r'$\\theta_z$')\n",
    "axes[-1, 1].set_xlabel(r'$\\theta_z$')\n",
    "fig.set_facecolor('w')"
   ]
  },
  {
   "cell_type": "markdown",
   "metadata": {},
   "source": [
    "OLD!"
   ]
  },
  {
   "cell_type": "code",
   "execution_count": null,
   "metadata": {},
   "outputs": [],
   "source": [
    "plot_x = np.linspace(0, 2*np.pi, 1024)\n",
    "all_coeffs = {}\n",
    "for i, name in enumerate(sorted_keys):\n",
    "    fig, ax = plt.subplots(1, 1, figsize=(8, 5))\n",
    "    \n",
    "    stat = stats[name]\n",
    "    angz = angzs[name]\n",
    "    d_elem = d_elems[name]\n",
    "    \n",
    "    bin_x = 0.5 * (stat.bin_edges[:-1] + stat.bin_edges[1:])\n",
    "    bin_y = stat.statistic\n",
    "    \n",
    "    all_coeffs[name] = []\n",
    "    all_tmps = []\n",
    "    np.random.seed(42)\n",
    "    for trial in range(N_trials):\n",
    "        if trial > 0:\n",
    "            idx = np.random.choice(len(angz), size=len(angz))\n",
    "            x = angz[idx]\n",
    "            y = d_elem[idx]\n",
    "        else:\n",
    "            x = angz\n",
    "            y = d_elem\n",
    "    \n",
    "        coeffs, *_ = np.linalg.lstsq(get_M(x), y, rcond=None)\n",
    "        tmp = np.zeros_like(coeffs)\n",
    "        tmp[[0, 3]] = coeffs[[0, 3]]\n",
    "        all_tmps.append(tmp)\n",
    "        all_coeffs[name].append(coeffs)\n",
    "    \n",
    "    ax.plot(x, y, marker='o', mew=0, ls='none', alpha=0.4, ms=2.)\n",
    "    ax.plot(bin_x, bin_y, marker='', drawstyle='steps-mid', color='tab:red')\n",
    "    \n",
    "    for coeffs in all_tmps:\n",
    "        plot_y = get_M(plot_x) @ coeffs\n",
    "        ax.plot(plot_x, plot_y, alpha=0.4, color='tab:blue', marker='')\n",
    "    ax.set_title(name)\n",
    "\n",
    "    ax.set_xlim(0, 2*np.pi)\n",
    "    ax.set_ylim(-0.01, 0.01)\n",
    "\n",
    "    ax.set_xlabel(r'vertical conjugate angle, $\\theta_z$ [rad]')\n",
    "    ax.set_ylabel('action-local\\n[Mg/Fe] anomaly')\n",
    "\n",
    "    fig.tight_layout()\n",
    "    fig.set_facecolor('w')\n",
    "#     fig.savefig(f'../plots/anomaly-panels-{name}.png', dpi=256)"
   ]
  }
 ],
 "metadata": {
  "kernelspec": {
   "display_name": "Python [conda env:root] *",
   "language": "python",
   "name": "conda-root-py"
  },
  "language_info": {
   "codemirror_mode": {
    "name": "ipython",
    "version": 3
   },
   "file_extension": ".py",
   "mimetype": "text/x-python",
   "name": "python",
   "nbconvert_exporter": "python",
   "pygments_lexer": "ipython3",
   "version": "3.8.3"
  },
  "toc": {
   "base_numbering": 1,
   "nav_menu": {},
   "number_sections": true,
   "sideBar": true,
   "skip_h1_title": false,
   "title_cell": "Table of Contents",
   "title_sidebar": "Contents",
   "toc_cell": false,
   "toc_position": {},
   "toc_section_display": true,
   "toc_window_display": false
  }
 },
 "nbformat": 4,
 "nbformat_minor": 4
}
