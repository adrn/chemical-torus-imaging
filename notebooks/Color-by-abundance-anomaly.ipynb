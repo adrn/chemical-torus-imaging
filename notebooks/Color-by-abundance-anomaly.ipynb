{
 "cells": [
  {
   "cell_type": "code",
   "execution_count": null,
   "metadata": {},
   "outputs": [],
   "source": [
    "import pathlib\n",
    "\n",
    "import astropy.coordinates as coord\n",
    "import astropy.table as at\n",
    "import astropy.units as u\n",
    "from astropy.stats import median_absolute_deviation as mad\n",
    "import matplotlib as mpl\n",
    "import matplotlib.pyplot as plt\n",
    "%matplotlib inline\n",
    "import numpy as np\n",
    "from scipy.spatial import cKDTree\n",
    "from scipy.stats import binned_statistic_2d\n",
    "from scipy.interpolate import interp1d\n",
    "from tqdm import tqdm\n",
    "\n",
    "# gala\n",
    "import gala.coordinates as gc\n",
    "import gala.dynamics as gd\n",
    "import gala.integrate as gi\n",
    "import gala.potential as gp\n",
    "from gala.mpl_style import center_deemph\n",
    "from gala.units import galactic\n",
    "\n",
    "from totoro.data import elem_names, datasets\n",
    "from totoro.config import galcen_frame, plot_config as pc, cache_path\n",
    "from totoro.abundance_helpers import elem_to_label\n",
    "from totoro.objective import TorusImagingObjective"
   ]
  },
  {
   "cell_type": "code",
   "execution_count": null,
   "metadata": {},
   "outputs": [],
   "source": [
    "data_name = 'apogee-rgb-loalpha'\n",
    "this_cache_path = cache_path / data_name\n",
    "elem_name = 'MG_FE'\n",
    "d = datasets[data_name]"
   ]
  },
  {
   "cell_type": "code",
   "execution_count": null,
   "metadata": {},
   "outputs": [],
   "source": [
    "path = pathlib.Path(this_cache_path / f\"optimize-results-{elem_name}.csv\")\n",
    "tbl = at.Table.read(path)"
   ]
  },
  {
   "cell_type": "code",
   "execution_count": null,
   "metadata": {},
   "outputs": [],
   "source": [
    "means = dict()\n",
    "for k in tbl.colnames:\n",
    "    means[k] = np.mean(tbl[k])"
   ]
  },
  {
   "cell_type": "code",
   "execution_count": null,
   "metadata": {},
   "outputs": [],
   "source": [
    "obj = TorusImagingObjective(d, elem_name=elem_name, tree_K=20)"
   ]
  },
  {
   "cell_type": "code",
   "execution_count": null,
   "metadata": {},
   "outputs": [],
   "source": [
    "atm = obj.get_atm(**means)"
   ]
  },
  {
   "cell_type": "code",
   "execution_count": null,
   "metadata": {},
   "outputs": [],
   "source": [
    "%%timeit\n",
    "angz, d_elem, d_elem_errs = atm.get_theta_z_anomaly(elem_name)"
   ]
  },
  {
   "cell_type": "code",
   "execution_count": null,
   "metadata": {},
   "outputs": [],
   "source": [
    "galcen = d.c.transform_to(galcen_frame)\n",
    "\n",
    "zvz_bins = (np.arange(-60, 60+1e-3, 1.5),\n",
    "            np.arange(-1.75, 1.75+1e-3, 0.05))\n",
    "stat = binned_statistic_2d(\n",
    "    galcen.v_z.to_value(u.km/u.s), \n",
    "    galcen.z.to_value(u.kpc),\n",
    "    d_elem,\n",
    "    statistic='mean',\n",
    "    bins=zvz_bins)\n",
    "\n",
    "std = 1.5 * mad(d_elem)\n",
    "std"
   ]
  },
  {
   "cell_type": "code",
   "execution_count": null,
   "metadata": {},
   "outputs": [],
   "source": [
    "from scipy.spatial import cKDTree\n",
    "\n",
    "def get_theta_z_anomaly_funny(self, elem_name, action_unit=30*u.km/u.s*u.kpc):\n",
    "    action_unit = u.Quantity(action_unit)\n",
    "\n",
    "    # Actions without units:\n",
    "    X = self.aaf['actions'].to_value(action_unit)\n",
    "    angz = coord.Angle(self.aaf['angles'][:, 2]).wrap_at(360*u.deg).radian\n",
    "\n",
    "    # element abundance\n",
    "    elem = self.aaf[elem_name]\n",
    "    elem_errs = self.aaf[f\"{elem_name}_ERR\"]\n",
    "    ivar = 1 / elem_errs**2\n",
    "\n",
    "    tree = cKDTree(X)\n",
    "    dists, idx = tree.query(X, k=self.tree_K+1)\n",
    "    \n",
    "    xhat = np.mean(X[idx[:, 1:]], axis=1) - X\n",
    "    dx = X[idx[:, 1:]] - X[:, None]\n",
    "    x = np.einsum('nij,nj->ni', dx, xhat)\n",
    "    y = elem[idx[:, 1:]]\n",
    "\n",
    "    w = np.sum(x**2, axis=1)[:, None] - x * np.sum(x, axis=1)[:, None]\n",
    "    means = np.sum(y * w, axis=1) / np.sum(w, axis=1)\n",
    "\n",
    "    d_elem = elem - means\n",
    "\n",
    "    return angz, d_elem, None"
   ]
  },
  {
   "cell_type": "code",
   "execution_count": null,
   "metadata": {},
   "outputs": [],
   "source": [
    "%%timeit\n",
    "_, funky_d_elem, _ = get_theta_z_anomaly_funny(atm, elem_name)"
   ]
  },
  {
   "cell_type": "code",
   "execution_count": null,
   "metadata": {},
   "outputs": [],
   "source": [
    "funky_stat = binned_statistic_2d(\n",
    "    galcen.v_z.to_value(u.km/u.s), \n",
    "    galcen.z.to_value(u.kpc),\n",
    "    funky_d_elem,\n",
    "    statistic='mean',\n",
    "    bins=zvz_bins)"
   ]
  },
  {
   "cell_type": "code",
   "execution_count": null,
   "metadata": {},
   "outputs": [],
   "source": [
    "fig, axes = plt.subplots(1, 2, figsize=(12, 5.5),\n",
    "                         sharex=True, sharey=True,\n",
    "                         constrained_layout=True)\n",
    "\n",
    "axes[0].pcolormesh(\n",
    "    stat.x_edge, stat.y_edge,\n",
    "    stat.statistic.T,\n",
    "    vmin=-std, vmax=std,\n",
    "    cmap=center_deemph, rasterized=True)\n",
    "\n",
    "cs = axes[1].pcolormesh(\n",
    "    funky_stat.x_edge, funky_stat.y_edge,\n",
    "    funky_stat.statistic.T,\n",
    "    vmin=-std, vmax=std,\n",
    "    cmap=center_deemph, rasterized=True)\n",
    "\n",
    "ax = axes[0]\n",
    "ax.set_xlim(zvz_bins[0].min(), zvz_bins[0].max())\n",
    "ax.set_ylim(zvz_bins[1].min(), zvz_bins[1].max())\n",
    "\n",
    "# ax.axhline(0, ls='--', color='w')\n",
    "# ax.axvline(0, ls='--', color='w')\n",
    "\n",
    "ax.set_xlabel(f'$v_z$ [{u.km/u.s:latex_inline}]')\n",
    "ax.set_ylabel(f'$z$ [{u.kpc:latex_inline}]')\n",
    "\n",
    "cb = fig.colorbar(cs, ax=axes, aspect=30)\n",
    "\n",
    "fig.set_facecolor('w')"
   ]
  },
  {
   "cell_type": "code",
   "execution_count": null,
   "metadata": {},
   "outputs": [],
   "source": [
    "fig, axes = plt.subplots(1, 2, figsize=(12, 5.5),\n",
    "                         sharex=True, sharey=True,\n",
    "                         constrained_layout=True)\n",
    "\n",
    "_bins = np.linspace(-0.1, 0.1, 64)\n",
    "axes[0].hist(d_elem, bins=_bins)\n",
    "axes[1].hist(funky_d_elem, bins=_bins);\n",
    "\n",
    "axes[0].axvline(np.mean(d_elem))\n",
    "axes[0].axvline(np.mean(d_elem) + np.std(d_elem), ls='--')\n",
    "axes[0].axvline(np.mean(d_elem) - np.std(d_elem), ls='--')\n",
    "\n",
    "axes[1].axvline(np.mean(funky_d_elem))\n",
    "axes[1].axvline(np.mean(funky_d_elem) + np.std(funky_d_elem), ls='--')\n",
    "axes[1].axvline(np.mean(funky_d_elem) - np.std(funky_d_elem), ls='--')\n",
    "\n",
    "# ax.set_xlabel(f'$v_z$ [{u.km/u.s:latex_inline}]')\n",
    "# ax.set_ylabel(f'$z$ [{u.kpc:latex_inline}]')"
   ]
  },
  {
   "cell_type": "code",
   "execution_count": null,
   "metadata": {},
   "outputs": [],
   "source": []
  }
 ],
 "metadata": {
  "kernelspec": {
   "display_name": "Python [conda env:root] *",
   "language": "python",
   "name": "conda-root-py"
  },
  "language_info": {
   "codemirror_mode": {
    "name": "ipython",
    "version": 3
   },
   "file_extension": ".py",
   "mimetype": "text/x-python",
   "name": "python",
   "nbconvert_exporter": "python",
   "pygments_lexer": "ipython3",
   "version": "3.8.3"
  },
  "toc": {
   "base_numbering": 1,
   "nav_menu": {},
   "number_sections": true,
   "sideBar": true,
   "skip_h1_title": false,
   "title_cell": "Table of Contents",
   "title_sidebar": "Contents",
   "toc_cell": false,
   "toc_position": {},
   "toc_section_display": true,
   "toc_window_display": false
  }
 },
 "nbformat": 4,
 "nbformat_minor": 4
}
